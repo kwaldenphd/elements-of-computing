{
 "cells": [
  {
   "cell_type": "markdown",
   "metadata": {
    "id": "vlvs0vpiyY2z"
   },
   "source": [
    "# Operators"
   ]
  },
  {
   "cell_type": "markdown",
   "metadata": {
    "id": "u9px3H-c6R95"
   },
   "source": [
    "## Arithmetic Operators\n",
    "\n",
    "Most programming languages allow you to perform arithmetic operations and mathematical calculations using **arithmetic operators**. Common arithmetic operations (with Python examples) include:\n",
    "\n",
    "<table><tr><th>Name</th><th>Python Syntax</th><th>Python Example</th><th>Description</th></tr>\n",
    "  <tr><td>Addition</td><td><code>+</code><td><code>5 + 6</code></td><td>Adds values</td></tr>\n",
    "  <tr><td>Subtraction</td><td><code>-</code><td><code>5 - 6</code></td><td>Subtracts values</td></tr>\n",
    "  <tr><td>Multiplication</td><td><code>*</code><td><code>5 * 6</code></td><td>Multiples values</td></tr>\n",
    "  <tr><td>Integer division</td><td><code>//</code><td><code>5 // 6</code></td><td>Divides values, integers (whole numbers)</td></tr>\n",
    "  <tr><td>Float division</td><td><code>/</code><td><code>5 / 6</code></td><td>Divides values, floating point numbers (decimal values)</td></tr>\n",
    "  <tr><td>Modulo</td><td><code>%</code><td><code>5 % 6</code></td><td>Returns or retrieves remainder (whole number) from division operation</td></tr>  \n",
    "  <tr><td>Exponent</td><td><code>**</code><td><code>5 ** 6</code></td><td>Calculates exponent</td></tr>\n",
    "  </table>\n",
    "  \n",
    "For more on arithmetic operators in Python:\n",
    "- [W3Schools, Python Arithmetic Operators](https://www.w3schools.com/python/gloss_python_arithmetic_operators.asp)\n",
    "\n",
    "We can run arithmetic operations directly in the console or in a script."
   ]
  },
  {
   "cell_type": "code",
   "execution_count": null,
   "metadata": {
    "id": "5u6s-nSw6SlE"
   },
   "outputs": [],
   "source": [
    "# sample arithmetic operation\n",
    "5 + 7"
   ]
  },
  {
   "cell_type": "markdown",
   "metadata": {
    "id": "1uLE34yB6TYe"
   },
   "source": [
    "But we can also assign the output of an arithmetic operation to a variable.\n"
   ]
  },
  {
   "cell_type": "code",
   "execution_count": null,
   "metadata": {
    "id": "DGyO-ghG6UDv"
   },
   "outputs": [],
   "source": [
    "# sample arithmetic operation where output is assigned to variable\n",
    "x = 5 + 7\n",
    "\n",
    "# show variable value\n",
    "print(x)"
   ]
  },
  {
   "cell_type": "markdown",
   "metadata": {
    "id": "qEkriNZm6Wpv"
   },
   "source": [
    "<p align=\"center\"><img src=\"https://github.com/kwaldenphd/python-intro/blob/main/images/PEDMAS.png?raw=true\" width=\"500\"></p>\n",
    "\n",
    "Python follows the PEDMAS order of operations: parenthesis, exponents, multiplication, division, addition, subtraction.\n",
    "- *When in doubt, use parenthesis!*\n",
    "\n",
    "For more background on arithmetic operators:\n",
    "- [Elements of Computing I \"Python Intro\" lab](https://github.com/kwaldenphd/python-intro#arithmetic-operators)\n",
    "\n",
    "## Comparison Operators\n",
    "\n",
    "Relational operators, also called comparison operators, allow us to run `True/False` tests on specific conditions, focusing on the relationship(s) between two or more values.\n",
    "\n",
    "Relational operators or comparison operators in Python:\n",
    "\n",
    "<table><tr><th>Name</th><th>Syntax</th><th>Example</th><th>Description</th></tr>\n",
    "  <tr><td>Equal</td><td><code>==</code><td><code>x == y</code></td><td>Tests if values are equal</td></tr>\n",
    "  <tr><td>Not equal</td><td><code>!=</code><td><code>x != y</code></td><td>Tests if values are not equal</td></tr>\n",
    "  <tr><td>Greater than</td><td><code>></code><td><code>x > y</code></td><td>Tests is a value is greater than another</td></tr>\n",
    "  <tr><td>Less than</td><td><code><</code><td><code>x < y</code></td><td>Tests is a value is less than another</td></tr>\n",
    "  <tr><td>Greater than or equal to</td><td><code>>=</code><td><code>x >= y</code></td><td>Tests if a value is greater than or equal to another</td></tr>\n",
    "  <tr><td>Less than or equal to</td><td><code><=</code><td><code>x <= y</code></td><td>Tests if a value is less than or equal to another</td></tr>  \n",
    "  </table>\n",
    "    \n",
    "For more on comparison operators in Python:\n",
    "- [W3Schools, Python Comparison Operators](https://www.w3schools.com/python/gloss_python_comparison_operators.asp)\n",
    "\n",
    "- \"In mathematics and mathematical logic, Boolean algebra is the branch of algebra in which the values of the variables are the truth values true and false, usually denoted 1 and 0\" ([Wikipedia](https://en.wikipedia.org/wiki/Boolean_algebra))\n",
    "\n",
    "We've talked previously about the Boolean data type. The underlying `True`/`False` logic lets us test for specific conditions and then specify how our code will execute based on the truth value for those conditional statements.\n",
    "\n",
    "- \"You can evaluate any expression in Python, and get one of two answers, `True` or `False`. When you compare two values, the expression is evaluated and Python returns the Boolean answer\" ([W3Schools, Python Booleans](https://www.w3schools.com/python/python_booleans.asp))"
   ]
  },
  {
   "cell_type": "markdown",
   "metadata": {
    "id": "0nYH8NWt6h2K"
   },
   "source": [
    "### Boolean Logic & Comparison Operators\n",
    "   \n",
    "We can use comparison operators with a `print()` statement to test whether a particular statement is `True` or `False`.\n",
    "   \n",
    "A couple Python examples:"
   ]
  },
  {
   "cell_type": "code",
   "execution_count": null,
   "metadata": {
    "id": "BuUMWMq46ijc"
   },
   "outputs": [],
   "source": [
    "print(4 == 5) # returns false\n",
    "print(6 < 10) # returns true"
   ]
  },
  {
   "cell_type": "code",
   "execution_count": null,
   "metadata": {
    "id": "y-rMBc2O6jf0"
   },
   "outputs": [],
   "source": [
    "# comparison operator using variables\n",
    "x = 5\n",
    "y = 6\n",
    "\n",
    "print(x > y) # returns false"
   ]
  },
  {
   "cell_type": "markdown",
   "metadata": {
    "id": "4bdZ5bPE6kfC"
   },
   "source": [
    "### Comparison Operators & String Objects\n",
    "\n",
    "We can probably make intuitive sense of how these comparison operators would work for numeric values. But what about text characters or string objects?\n",
    "   \n",
    "Most programming languages treat the 26 characters in the English-language alphabet (`a-z`) as sequential values, where `a` is less than `b`, which is less than `c`, etc.\n",
    "\n",
    "When working with string objects that represent words or characters, comparison operators indicate positionality in the English-language alphabet.\n",
    "\n",
    "A few examples in Python:"
   ]
  },
  {
   "cell_type": "code",
   "execution_count": null,
   "metadata": {
    "id": "YtVgQA7N6lVy"
   },
   "outputs": [],
   "source": [
    "print(\"apple\" > \"banana\") # returns false\n",
    "\n",
    "print(\"Ohio State\" > \"Notre Dame\") # returns true"
   ]
  },
  {
   "cell_type": "markdown",
   "metadata": {
    "id": "el3nlMh16n3m"
   },
   "source": [
    "### Logical Operators\n",
    "\n",
    "We can also compare or relate multiple conditions using logical operators: `and`, `or`, `not`\n",
    "\n",
    "- \"A logical operator is a symbol or word used to connect two or more expressions such that the value of the compound expression produced depends only on that of the original expressions and on the meaning of the operator. Common logical operators include AND, OR, and NOT.\" (Busbee and Braunschweig, \"[Logical Operators](https://press.rebus.community/programmingfundamentals/chapter/logical-operators/)\")                           \n",
    "\t  \n",
    "For example, `5 < 6 and 6 < 7` evaluates whether `5 < 6` and `6 < 7` are true. This statement would return `True`.\n",
    "\n",
    "Another example: `5 < 6 or 6 > 7` evaluates whether `5 < 6` or `6 > 7` is true. This statement would return `True`.\n",
    "\n",
    "Logical operators in Python:\n",
    "    \n",
    "<table><tr><th>Name</th><th>Syntax</th><th>Example</th><th>Description</th></tr>\n",
    "  <tr><td>And</td><td><code>and</code><td><code>x == y and y != z</code></td><td>Returns <code>True</code> if both statements are true</td></tr>\n",
    "  <tr><td>Or</td><td><code>or</code><td><code>x != y or y == z</code></td><td>Returns <code>True</code> if one of the statements is true</td></tr>\n",
    "  <tr><td>Not</td><td><code>not</code><td><code>not(x == y and y != z)</code></td><td>Reverses the result, returns <code>False</code> if the result is true</td></tr>\n",
    "  </table>\n",
    "    "
   ]
  },
  {
   "cell_type": "code",
   "execution_count": null,
   "metadata": {
    "id": "0rs7MTad6o1R"
   },
   "outputs": [],
   "source": [
    "# example using logical operators\n",
    "print(5 < 6 and 6 < 7) # returns true because both statements are true\n",
    "\n",
    "print(5 < 6 or 6 > 7) # returns true because at least one statement is true\n",
    "\n",
    "print(not(5 < 6 and 6 < 7)) # returns false, inverse of initial true"
   ]
  },
  {
   "cell_type": "markdown",
   "metadata": {
    "id": "lb9nPgTRywDi"
   },
   "source": [
    "## Additional Resources\n",
    "\n",
    "For more background on comparison/relational and logical operators in Python:\n",
    "- [Elements of Computing I \"Comparison Operators & Conditional Statements\" lab](https://github.com/kwaldenphd/python-conditional-statements)"
   ]
  }
 ],
 "metadata": {
  "colab": {
   "authorship_tag": "ABX9TyPcDamLdjXsmHHG3MeQ2pQ1",
   "provenance": [],
   "toc_visible": true
  },
  "kernelspec": {
   "display_name": "Python 3",
   "name": "python3"
  },
  "language_info": {
   "name": "python"
  }
 },
 "nbformat": 4,
 "nbformat_minor": 0
}