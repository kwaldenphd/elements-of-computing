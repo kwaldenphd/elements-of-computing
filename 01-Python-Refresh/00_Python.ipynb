{
  "nbformat": 4,
  "nbformat_minor": 0,
  "metadata": {
    "colab": {
      "provenance": [],
      "toc_visible": true
    },
    "kernelspec": {
      "name": "python3",
      "display_name": "Python 3"
    },
    "language_info": {
      "name": "python"
    }
  },
  "cells": [
    {
      "cell_type": "markdown",
      "source": [
        "# Getting Started With Python\n",
        "\n",
        "<a href=\"http://creativecommons.org/licenses/by-nc/4.0/\" rel=\"license\"><img style=\"border-width: 0;\" src=\"https://i.creativecommons.org/l/by-nc/4.0/88x31.png\" alt=\"Creative Commons License\" /></a>\n",
        "This tutorial is licensed under a <a href=\"http://creativecommons.org/licenses/by-nc/4.0/\" rel=\"license\">Creative Commons Attribution-NonCommercial 4.0 International License</a>.\n"
      ],
      "metadata": {
        "id": "ayXX0r_B0FDw"
      }
    },
    {
      "cell_type": "markdown",
      "source": [
        "## Lab Overview\n",
        "\n",
        "This lab provides an overview of foundational programming syntax in Python, specifically data types/structures, common methods/functions, loops, and operators."
      ],
      "metadata": {
        "id": "2slhSdG10GCT"
      }
    },
    {
      "cell_type": "markdown",
      "source": [
        "## Acknowledgements\n",
        "\n",
        "[Click here](https://github.com/kwaldenphd/Python/blob/master/acknowledgements.md) for a full list of acknowledgements for this lab."
      ],
      "metadata": {
        "id": "3W9dBqXw0HEC"
      }
    },
    {
      "cell_type": "markdown",
      "source": [
        "## Lab Notebook Template\n",
        "\n",
        "Lab notebook template:\n",
        "- [Jupyter Notebook](https://colab.research.google.com/drive/14Zpi8TabYz-AzqbJZkeK14lhD1i_spze?usp=sharing)"
      ],
      "metadata": {
        "id": "sho21uLb0Qv8"
      }
    },
    {
      "cell_type": "markdown",
      "source": [
        "## Comments\n",
        "\n",
        "Comments mark instructions or information in the code that will not run as part of the program. Comments are useful for testing, documenting, and describing what your code is doing.\n",
        "\n",
        "In Python, single line comments begin with a pound `#` symbol and multi-line comments are marked by three sets of double quotation marks `\"\"\"`."
      ],
      "metadata": {
        "id": "jIOLZEYd5Sth"
      }
    },
    {
      "cell_type": "code",
      "source": [
        "# This is an example of a single line comment in Python\n",
        "\n",
        "\"\"\"\n",
        "This is an example of a multi-line comment in Python\n",
        "\"\"\""
      ],
      "metadata": {
        "id": "xauPWJPo5Tx_"
      },
      "execution_count": null,
      "outputs": []
    },
    {
      "cell_type": "markdown",
      "source": [
        "For more on comments in Python:\n",
        "- [W3Schools, Python Comments](https://www.w3schools.com/python/python_comments.asp)\n",
        "\n",
        "##  Variables & Assignment Operators\n",
        "\n",
        "In most programming languages, variables work as \"containers for storing data values\" ([W3Schools, Python Variables](https://www.w3schools.com/python/python_variables.asp))\n",
        "\n",
        "We create a variable by assigning a value to that variable name using an **assignment operator**.\n",
        "\n",
        "\"An assignment statement sets and/or re-sets the value stored in the storage location(s) denoted by a variable name; in other words, it copies a value into the variable...The assignment operator has two operands. The one to the left of the operator is usually an identifier name for a variable. The one to the right of the operator is a value\" (Kenneth Leroy Busbee and Dave Braunschweig, \"[Assignment](https://press.rebus.community/programmingfundamentals/chapter/assignment/)\" in *Programming Fundamentals*)\n",
        "\n",
        "```\n",
        "[identifier] [assignment symbol] [value]\n",
        "```\n",
        "\n",
        "In Python, the equals sign `=` is the assignment symbol. The underlying syntax for creating a variable in Python using an assignment statement:"
      ],
      "metadata": {
        "id": "y-U4VwXE5WVO"
      }
    },
    {
      "cell_type": "code",
      "source": [
        "# general syntax\n",
        "identifier = value\n",
        "\n",
        "# simple variable example\n",
        "x = 7\n",
        "\n",
        "# composite variable example\n",
        "y = 5 + 7"
      ],
      "metadata": {
        "id": "wdu9T_Bc5X1O"
      },
      "execution_count": null,
      "outputs": []
    },
    {
      "cell_type": "markdown",
      "source": [
        "Python has a few restrictions and best practices around variable identifiers or names:\n",
        "\n",
        "**1- They have to start with a letter character or an underscore (no symbols or numeric characters)**"
      ],
      "metadata": {
        "id": "EX1zPU085Y0h"
      }
    },
    {
      "cell_type": "code",
      "source": [
        "# example of a valid identifier\n",
        "x = 7\n",
        "\n",
        "# example of an invalid identifier\n",
        "$x = 7"
      ],
      "metadata": {
        "id": "GpuuYhz15Zgb"
      },
      "execution_count": null,
      "outputs": []
    },
    {
      "cell_type": "markdown",
      "source": [
        "**2: Terms that have other meaning or function in Python can't be used as variable identifiers. For example the name of a built-in function (`type`) can't be used as a variable identifier.**\n",
        "\n",
        "Reserved keywords in Python include: `and, except, lambda, with, as, finally, nonlocal, while, assert, fale, None, yield, break, for, not, class, from, or, continue, global, pass, def, if, raise, del, import, return, elif, in, True, else, is, try`\n",
        "\n",
        "**3: Best practice is any programming language is to use meaningful variable identifiers. Just calling something `x` or `y` won't be particularly helpful to someone else reading or interacting with your code. That said, overly-complex variable identifiers are prone to user error.**\n",
        "\n",
        "We can show the value for a variable using Python's `print()` function."
      ],
      "metadata": {
        "id": "olz9Sv0b5ai-"
      }
    },
    {
      "cell_type": "code",
      "source": [
        "# assignment statement\n",
        "x = 7\n",
        "\n",
        "# show variable value\n",
        "print(x)"
      ],
      "metadata": {
        "id": "Y1R97bWr5bZw"
      },
      "execution_count": null,
      "outputs": []
    },
    {
      "cell_type": "markdown",
      "source": [
        "We can also show a variable's data type using the `type()` function.\n"
      ],
      "metadata": {
        "id": "uG6PSUAV5cKJ"
      }
    },
    {
      "cell_type": "code",
      "source": [
        "# assignment statement\n",
        "y = \"Hello world!\"\n",
        "\n",
        "# show type\n",
        "print(type(y))"
      ],
      "metadata": {
        "id": "EvE05-A95eV7"
      },
      "execution_count": null,
      "outputs": []
    },
    {
      "cell_type": "markdown",
      "source": [
        "<blockquote>Q1: In your own words, explain the difference between the print(hello) command we just used and print(“hello”).</blockquote>\n",
        "\n",
        "For more background on variables & assignment operators: [Elements of Computing I \"Python Intro\" lab](https://github.com/kwaldenphd/python-intro)\n",
        "\n",
        "## Data Types\n",
        "\n",
        "Commonly-used data types (with Python examples) include:\n",
        "\n",
        "<table><tr><th>Name</th><th>Python Syntax</th><th>Example</th><th>Description</th></tr>\n",
        "  <tr><td>String</td><td><code>str()</code><td><code>\"Hello World!\"</code></td><td>String of characters</td></tr>\n",
        "  <tr><td>Integer</td><td><code>int()</code><td><code>7</code></td><td>Whole number</td></tr>\n",
        "  <tr><td>Float</td><td><code>float()</code><td><code>1.5</code></td><td>Decimal number, or number with floating point values</td></tr>\n",
        "  <tr><td>Boolean</td><td><code>bool()</code><td><code>True</code></td><td>Two-state system that typically represents true/false values</td></tr>\n",
        "  <tr><td>Nothing/Null/NoneType</td><td><code>NoneType</code><td><code>None</code></td><td>No value</td></tr>\n",
        "  </table>\n",
        "  \n",
        "For more on data types in Python:\n",
        "- [W3Schools, Python Data Types](https://www.w3schools.com/python/python_datatypes.asp)"
      ],
      "metadata": {
        "id": "MC9FUSM55gDf"
      }
    },
    {
      "cell_type": "markdown",
      "source": [
        "### Numbers\n",
        "\n",
        "An integer is a whole number that does not include any decimal (or fractional) values. A float data type includes decimal (or fractional) values."
      ],
      "metadata": {
        "id": "RptVTyKO5iU8"
      }
    },
    {
      "cell_type": "code",
      "source": [
        "# printing an integer\n",
        "print(3)\n",
        "\n",
        "# storing an integer to a variable\n",
        "number = 3\n",
        "\n",
        "# show number variable type\n",
        "print(type(number))\n",
        "\n",
        "# print number variable\n",
        "print(number)"
      ],
      "metadata": {
        "id": "hDreWYDy5jPQ"
      },
      "execution_count": null,
      "outputs": []
    },
    {
      "cell_type": "code",
      "source": [
        "# printing a decimal or float value\n",
        "print(3.5)\n",
        "\n",
        "# store float value to a variable\n",
        "number = 3.5\n",
        "\n",
        "# show number variable type\n",
        "print(type(number))\n",
        "\n",
        "# print number variable\n",
        "print(number)"
      ],
      "metadata": {
        "id": "Fu9y9cY65kYP"
      },
      "execution_count": null,
      "outputs": []
    },
    {
      "cell_type": "markdown",
      "source": [
        "### Strings\n",
        "\n",
        "A string is a sequence of characters (letters, numbers, symbols, etc.) We can assign strings to a variable (i.e. store them as a variable).\n"
      ],
      "metadata": {
        "id": "pfFPK4QW5lTI"
      }
    },
    {
      "cell_type": "code",
      "source": [
        "# assign string to variable\n",
        "s = \"Hello world!\"\n",
        "\n",
        "# show variable type\n",
        "print(type(s))\n",
        "\n",
        "# print variable\n",
        "print(s)"
      ],
      "metadata": {
        "colab": {
          "base_uri": "https://localhost:8080/"
        },
        "id": "LEMJSreF5mIG",
        "outputId": "3a49852e-0607-4217-8cc3-3117b4ae1dae"
      },
      "execution_count": null,
      "outputs": [
        {
          "output_type": "stream",
          "name": "stdout",
          "text": [
            "<class 'str'>\n",
            "Hello world!\n"
          ]
        }
      ]
    },
    {
      "cell_type": "markdown",
      "source": [
        "For more background on basic data types in Python: [Elements of Computing I \"Python Intro\" lab](https://github.com/kwaldenphd/python-intro#data-types)\n",
        "\n",
        "## Input & Output (I/O)\n",
        "\n",
        "In programming languages and computing more broadly, `I/O` stands for `Input` and `Output`. Programming languages can take a variety of inputs (user-provided values, data, files, etc) and return outputs in a variety of formats (data stored in memory, output that shows up in the console, newly-created or -modified files, etc).\n",
        "\n",
        "We've already seen `I/O` in action in Python via `print()` statements. One way Python accepts input is via the `input()` function, which accepts a user input and assigns that to a variable.\n",
        "\n",
        "A sample program that asks a user to enter their name:"
      ],
      "metadata": {
        "id": "1oiOS5_F5yT5"
      }
    },
    {
      "cell_type": "code",
      "source": [
        "# initial prompt\n",
        "print(\"Enter your name: \")\n",
        "\n",
        "# input function\n",
        "name = input()\n",
        "\n",
        "# output statement\n",
        "print(\"Hello, \" + name)"
      ],
      "metadata": {
        "id": "Q30d6mkC6NX5"
      },
      "execution_count": null,
      "outputs": []
    },
    {
      "cell_type": "markdown",
      "source": [
        "We can modify that program to include the initial prompt as part of the `input()` statement.\n"
      ],
      "metadata": {
        "id": "JFdSzZXt6OJf"
      }
    },
    {
      "cell_type": "code",
      "source": [
        "# initial prompt with input function\n",
        "name = input(\"Enter your name: \")\n",
        "\n",
        "# output\n",
        "print(\"Hello, \" + name)"
      ],
      "metadata": {
        "id": "5dpKqP_46PRw"
      },
      "execution_count": null,
      "outputs": []
    },
    {
      "cell_type": "markdown",
      "source": [
        "NOTE: The default data type for a variable created using the `input()` function is a string object.\n",
        "\n",
        "For more background on I/O in Python: [Elements of Computing I \"Python Intro\" lab](https://github.com/kwaldenphd/python-intro#input--output-io)\n",
        "\n",
        "## Operators"
      ],
      "metadata": {
        "id": "wbc1kV_66QRU"
      }
    },
    {
      "cell_type": "markdown",
      "source": [
        "### Arithmetic Operators\n",
        "\n",
        "Most programming languages allow you to perform arithmetic operations and mathematical calculations using **arithmetic operators**. Common arithmetic operations (with Python examples) include:\n",
        "\n",
        "<table><tr><th>Name</th><th>Python Syntax</th><th>Python Example</th><th>Description</th></tr>\n",
        "  <tr><td>Addition</td><td><code>+</code><td><code>5 + 6</code></td><td>Adds values</td></tr>\n",
        "  <tr><td>Subtraction</td><td><code>-</code><td><code>5 - 6</code></td><td>Subtracts values</td></tr>\n",
        "  <tr><td>Multiplication</td><td><code>*</code><td><code>5 * 6</code></td><td>Multiples values</td></tr>\n",
        "  <tr><td>Integer division</td><td><code>//</code><td><code>5 // 6</code></td><td>Divides values, integers (whole numbers)</td></tr>\n",
        "  <tr><td>Float division</td><td><code>/</code><td><code>5 / 6</code></td><td>Divides values, floating point numbers (decimal values)</td></tr>\n",
        "  <tr><td>Modulo</td><td><code>%</code><td><code>5 % 6</code></td><td>Returns or retrieves remainder (whole number) from division operation</td></tr>  \n",
        "  <tr><td>Exponent</td><td><code>**</code><td><code>5 ** 6</code></td><td>Calculates exponent</td></tr>\n",
        "  </table>\n",
        "  \n",
        "For more on arithmetic operators in Python:\n",
        "- [W3Schools, Python Arithmetic Operators](https://www.w3schools.com/python/gloss_python_arithmetic_operators.asp)\n",
        "\n",
        "We can run arithmetic operations directly in the console or in a script."
      ],
      "metadata": {
        "id": "u9px3H-c6R95"
      }
    },
    {
      "cell_type": "code",
      "source": [
        "# sample arithmetic operation\n",
        "5 + 7"
      ],
      "metadata": {
        "id": "5u6s-nSw6SlE"
      },
      "execution_count": null,
      "outputs": []
    },
    {
      "cell_type": "markdown",
      "source": [
        "But we can also assign the output of an arithmetic operation to a variable.\n"
      ],
      "metadata": {
        "id": "1uLE34yB6TYe"
      }
    },
    {
      "cell_type": "code",
      "source": [
        "# sample arithmetic operation where output is assigned to variable\n",
        "x = 5 + 7\n",
        "\n",
        "# show variable value\n",
        "print(x)"
      ],
      "metadata": {
        "id": "DGyO-ghG6UDv"
      },
      "execution_count": null,
      "outputs": []
    },
    {
      "cell_type": "markdown",
      "source": [
        "<p align=\"center\"><img src=\"https://github.com/kwaldenphd/python-intro/blob/main/images/PEDMAS.png?raw=true\" width=\"500\"></p>\n",
        "\n",
        "Python follows the PEDMAS order of operations: parenthesis, exponents, multiplication, division, addition, subtraction.\n",
        "- *When in doubt, use parenthesis!*\n",
        "\n",
        "For more background on arithmetic operators: [Elements of Computing I \"Python Intro\" lab](https://github.com/kwaldenphd/python-intro#arithmetic-operators)\n",
        "\n",
        "### Comparison Operators\n",
        "\n",
        "Relational operators, also called comparison operators, allow us to run `True/False` tests on specific conditions, focusing on the relationship(s) between two or more values.\n",
        "\n",
        "Relational operators or comparison operators in Python:\n",
        "\n",
        "<table><tr><th>Name</th><th>Syntax</th><th>Example</th><th>Description</th></tr>\n",
        "  <tr><td>Equal</td><td><code>==</code><td><code>x == y</code></td><td>Tests if values are equal</td></tr>\n",
        "  <tr><td>Not equal</td><td><code>!=</code><td><code>x != y</code></td><td>Tests if values are not equal</td></tr>\n",
        "  <tr><td>Greater than</td><td><code>></code><td><code>x > y</code></td><td>Tests is a value is greater than another</td></tr>\n",
        "  <tr><td>Less than</td><td><code><</code><td><code>x < y</code></td><td>Tests is a value is less than another</td></tr>\n",
        "  <tr><td>Greater than or equal to</td><td><code>>=</code><td><code>x >= y</code></td><td>Tests if a value is greater than or equal to another</td></tr>\n",
        "  <tr><td>Less than or equal to</td><td><code><=</code><td><code>x <= y</code></td><td>Tests if a value is less than or equal to another</td></tr>  \n",
        "  </table>\n",
        "    \n",
        "For more on comparison operators in Python: [W3Schools, Python Comparison Operators](https://www.w3schools.com/python/gloss_python_comparison_operators.asp)\n",
        "\n",
        "- \"In mathematics and mathematical logic, Boolean algebra is the branch of algebra in which the values of the variables are the truth values true and false, usually denoted 1 and 0\" ([Wikipedia](https://en.wikipedia.org/wiki/Boolean_algebra))\n",
        "\n",
        "We've talked previously about the Boolean data type. The underlying `True`/`False` logic lets us test for specific conditions and then specify how our code will execute based on the truth value for those conditional statements.\n",
        "\n",
        "- \"You can evaluate any expression in Python, and get one of two answers, `True` or `False`. When you compare two values, the expression is evaluated and Python returns the Boolean answer\" ([W3Schools, Python Booleans](https://www.w3schools.com/python/python_booleans.asp))"
      ],
      "metadata": {
        "id": "qEkriNZm6Wpv"
      }
    },
    {
      "cell_type": "markdown",
      "source": [
        "#### Boolean Logic & Comparison Operators\n",
        "   \n",
        "We can use comparison operators with a `print()` statement to test whether a particular statement is `True` or `False`.\n",
        "   \n",
        "A couple Python examples:"
      ],
      "metadata": {
        "id": "0nYH8NWt6h2K"
      }
    },
    {
      "cell_type": "code",
      "source": [
        "print(4 == 5) # returns false\n",
        "print(6 < 10) # returns true"
      ],
      "metadata": {
        "id": "BuUMWMq46ijc"
      },
      "execution_count": null,
      "outputs": []
    },
    {
      "cell_type": "code",
      "source": [
        "# comparison operator using variables\n",
        "x = 5\n",
        "y = 6\n",
        "\n",
        "print(x > y) # returns false"
      ],
      "metadata": {
        "id": "y-rMBc2O6jf0"
      },
      "execution_count": null,
      "outputs": []
    },
    {
      "cell_type": "markdown",
      "source": [
        "#### Comparison Operators & String Objects\n",
        "\n",
        "We can probably make intuitive sense of how these comparison operators would work for numeric values. But what about text characters or string objects?\n",
        "   \n",
        "Most programming languages treat the 26 characters in the English-language alphabet (`a-z`) as sequential values, where `a` is less than `b`, which is less than `c`, etc.\n",
        "\n",
        "When working with string objects that represent words or characters, comparison operators indicate positionality in the English-language alphabet.\n",
        "\n",
        "A few examples in Python:"
      ],
      "metadata": {
        "id": "4bdZ5bPE6kfC"
      }
    },
    {
      "cell_type": "code",
      "source": [
        "print(\"apple\" > \"banana\") # returns false\n",
        "\n",
        "print(\"Ohio State\" > \"Notre Dame\") # returns true"
      ],
      "metadata": {
        "id": "YtVgQA7N6lVy"
      },
      "execution_count": null,
      "outputs": []
    },
    {
      "cell_type": "markdown",
      "source": [
        "#### Logical Operators\n",
        "\n",
        "We can also compare or relate multiple conditions using logical operators: `and`, `or`, `not`\n",
        "\n",
        "- \"A logical operator is a symbol or word used to connect two or more expressions such that the value of the compound expression produced depends only on that of the original expressions and on the meaning of the operator. Common logical operators include AND, OR, and NOT.\" (Busbee and Braunschweig, \"[Logical Operators](https://press.rebus.community/programmingfundamentals/chapter/logical-operators/)\")                           \n",
        "\t  \n",
        "For example, `5 < 6 and 6 < 7` evaluates whether `5 < 6` and `6 < 7` are true. This statement would return `True`.\n",
        "\n",
        "Another example: `5 < 6 or 6 > 7` evaluates whether `5 < 6` or `6 > 7` is true. This statement would return `True`.\n",
        "\n",
        "Logical operators in Python:\n",
        "    \n",
        "<table><tr><th>Name</th><th>Syntax</th><th>Example</th><th>Description</th></tr>\n",
        "  <tr><td>And</td><td><code>and</code><td><code>x == y and y != z</code></td><td>Returns <code>True</code> if both statements are true</td></tr>\n",
        "  <tr><td>Or</td><td><code>or</code><td><code>x != y or y == z</code></td><td>Returns <code>True</code> if one of the statements is true</td></tr>\n",
        "  <tr><td>Not</td><td><code>not</code><td><code>not(x == y and y != z)</code></td><td>Reverses the result, returns <code>False</code> if the result is true</td></tr>\n",
        "  </table>\n",
        "    "
      ],
      "metadata": {
        "id": "el3nlMh16n3m"
      }
    },
    {
      "cell_type": "code",
      "source": [
        "# example using logical operators\n",
        "print(5 < 6 and 6 < 7) # returns true because both statements are true\n",
        "\n",
        "print(5 < 6 or 6 > 7) # returns true because at least one statement is true\n",
        "\n",
        "print(not(5 < 6 and 6 < 7)) # returns false, inverse of initial true"
      ],
      "metadata": {
        "id": "0rs7MTad6o1R"
      },
      "execution_count": null,
      "outputs": []
    },
    {
      "cell_type": "markdown",
      "source": [
        "For more background on comparison/relational and logical operators in Python: [Elements of Computing I \"Comparison Operators & Conditional Statements\" lab](https://github.com/kwaldenphd/python-conditional-statements)\n",
        "\n",
        "## Data Structures\n",
        "\n",
        "<p align=\"center\"><img src=\"https://github.com/kwaldenphd/python-data-structures/blob/main/images/Python_Data_Structures.png?raw=true\" width=\"1000\"></p>\n",
        "\n",
        "In addition to what are called \"primitive\" data types in Python (`integer`, `float`, `string`, and `Boolean`), most programming languages also include or support more complex data structures or more complex ways of storing and accessing information. In Python, those one-dimensional (or linear) data structures include `strings`, `lists`, `tuples`, `sets`, and `dictionaries`.\n",
        "\n",
        "<table><tr><th>Name</th><th>Syntax</th><th>Example</th><th>Description</th></tr>\n",
        "  <tr><td>String</td><td><code>str(), \"\"</code><td><code>\"Hello world!\"</code></td><td>Sequence of characters</td></tr>\n",
        "  <tr><td>List</td><td><code>list(), []</code><td><code>[\"apple\", \"banana\", \"pear\"], [1, 3, 5, 7]</code></td><td>Sequence of objects/values</td></tr>\n",
        "  <tr><td>Dictionary</td><td><code>dict(), {}</code><td><code>{'first_name': 'Knute', 'last_name':'Rockne', 'class':'1918'}</code></td><td>Key-value pairs</td></tr>\n",
        "  <tr><td>Set</td><td><code>set(), {}</code><td><code>{\"apple\", \"banana\", \"pear\"}, {1, 3, 5, 7}</code></td><td>Unordered group of unique values</td></tr>\n",
        "  <tr><td>Tuple</td><td><code>tuple(), ()</code><td><code>(\"apple\", \"banana\", \"pear\"), (1, 3, 5, 7)</code></td><td>Ordered group of values that can include duplicates</td></tr>\n",
        "  </table>"
      ],
      "metadata": {
        "id": "ozrgaGIv6qMc"
      }
    },
    {
      "cell_type": "markdown",
      "source": [
        "### Lists\n",
        "\n",
        "<p align=\"center\"><img src=\"https://github.com/kwaldenphd/python-data-structures/blob/main/images/One_Dimensional_Array.jpg?raw=true\" width=\"500\"></p>\n",
        "\n",
        "\"In computer science, an array is a data structure consisting of a collection of elements (values or variables), each identified by at least one array index or key...The simplest type of data structure is a linear array, also called one-dimensional array\" ([Wikipedia, \"Array (data structure)](https://en.wikipedia.org/wiki/Array_(data_structure))\")\n",
        "\n",
        "We can think of arrays as one-dimensional, linear data structures made up of a collection of items. As the definitions note, we can access specific elements in the array by using an index or key value.\n",
        "\n",
        "\"In Python, the built-in array data structure is a list\" (Busbee and Braunschweig, \"[Arrays and Lists](https://press.rebus.community/programmingfundamentals/chapter/arrays-and-lists/)\"). Python also includes a few other built-in array-like data structures, including `sets` and `tuples`. We'll come back to these later in this lab. We can also think of string objects, which are a sequence of characters, as a type of one-dimiensional, linear array.\n",
        "\n",
        "These **one-dimensional or linear array structures** have a few key properties that differentiate the structures and shape how we can interact with or manipulate them in a programming environment.\n",
        "\n",
        "Those properties include:\n",
        "- Mutable: Can values in the structure be changed once it has been created or assigned to a variable?\n",
        "- Order: Does the order of values in the structure have meaning/significance, or is order not significant?\n",
        "- Indexing/Slicing: Can values in the structure be accessed using their position or index? Can we isolate values in the structure using their position?\n",
        "- Duplicates: Does the structure allow duplicate values?\n",
        "\n",
        "How these properties show up for Python's built-in data structures:\n",
        "\n",
        "<p align=\"center\"><img src=\"https://github.com/kwaldenphd/python-data-structures/blob/main/images/Python_Array_Comparison.png?raw=true\" width=\"500\"></p>\n",
        "\n",
        "Each structure has its own specific vocabulary and syntax, but some common operations we can use with these structures:\n",
        "- Getting number of values in the structure (using the `len()` function)\n",
        "- For structures that are mutable, adding, modifying, and removing values\n",
        "- Sorting values in the structure\n",
        "- Testing for membership, if specific value(s) are present in the structure (using the `in` and `not in` operators)\n",
        "- For structures that are ordered or indexed, accessing elements using their position\n",
        "\n",
        "An example that uses a list of strings:"
      ],
      "metadata": {
        "id": "6CTXXjvr6sJc"
      }
    },
    {
      "cell_type": "code",
      "source": [
        "# list of string objects\n",
        "fruits = [\"apple\", \"banana\", \"blueberry\", \"cherry\"]\n",
        "\n",
        "# check data type\n",
        "print(type(fruits))"
      ],
      "metadata": {
        "id": "XFlK0bD46wqt"
      },
      "execution_count": null,
      "outputs": []
    },
    {
      "cell_type": "markdown",
      "source": [
        "We can determine the number of elements in the list using the `len()` function.\n"
      ],
      "metadata": {
        "id": "fA0n0VoK6xpJ"
      }
    },
    {
      "cell_type": "code",
      "source": [
        "print(len(fruits))"
      ],
      "metadata": {
        "id": "jBiO9s8b6ybw"
      },
      "execution_count": null,
      "outputs": []
    },
    {
      "cell_type": "markdown",
      "source": [
        "Remember Python starts at `0` and counts left-to-right. We can access specific values using their position.\n"
      ],
      "metadata": {
        "id": "2vDhClNK66US"
      }
    },
    {
      "cell_type": "code",
      "source": [
        "# access first value\n",
        "print(fruits[0])\n",
        "\n",
        "# access second value\n",
        "print(fruits[1])\n",
        "\n",
        "# access third value\n",
        "print(fruits[2])"
      ],
      "metadata": {
        "id": "cO2jtKed65Yw"
      },
      "execution_count": null,
      "outputs": []
    },
    {
      "cell_type": "markdown",
      "source": [
        "\n",
        "Python lists also support negative indexing- we can use negative index values to count right-to-left.\n",
        "- NOTE: Negative indexing starts counting at `-1`"
      ],
      "metadata": {
        "id": "0h6ek0A36-Yp"
      }
    },
    {
      "cell_type": "code",
      "source": [
        "# access last value\n",
        "print(fruits[-1])\n",
        "\n",
        "# access next to last value\n",
        "print(fruits[-2])"
      ],
      "metadata": {
        "id": "mSUMqgbJ6_aP"
      },
      "execution_count": null,
      "outputs": []
    },
    {
      "cell_type": "markdown",
      "source": [
        "### Dictionaries\n",
        "\n",
        "<p align=\"center\"><img src=\"https://github.com/kwaldenphd/python-data-structures/blob/main/images/Associative_Arrays.png?raw=true\" width=\"500\"></p>\n",
        "\n",
        "The other primary type of array we can encounter is an **associative array**, \"an abstract data type that stores a collection of (key, value) pairs, such that each possible key appears at most once in the collection\" ([Wikpedia, Associative Array](https://en.wikipedia.org/wiki/Associative_array))\n",
        "\n",
        "Python stores associate arrays using the **dictionary** data structure. Python dictionaries consist of key-value pairs, where the key is working as an identifier or index.\n",
        "\n",
        "A preliminary example in Python:"
      ],
      "metadata": {
        "id": "iFWBFlo77Ajw"
      }
    },
    {
      "cell_type": "code",
      "source": [
        "# create dictionary\n",
        "english_to_french = {\n",
        "  'one': 'un',\n",
        "  'two': 'deux',\n",
        "  'three': 'trois',\n",
        "  'four': 'quatre',\n",
        "  'five': 'cinq'\n",
        "}\n",
        "\n",
        "# check data type\n",
        "print(type(english_to_french))"
      ],
      "metadata": {
        "id": "qgZxEtH17DFP"
      },
      "execution_count": null,
      "outputs": []
    },
    {
      "cell_type": "markdown",
      "source": [
        "We can use the index operator (`[]`) and key values to select specific values in the dictionary.\n"
      ],
      "metadata": {
        "id": "_lsH9O7q7D7M"
      }
    },
    {
      "cell_type": "code",
      "source": [
        "# access value for one key\n",
        "print(english_to_french['one'])\n",
        "\n",
        "# access value for five key\n",
        "print(english_to_french['five'])\n",
        "\n",
        "# access value for asdf key\n",
        "print(english_to_french['asdf'])"
      ],
      "metadata": {
        "id": "wPf4_0uu7HsU"
      },
      "execution_count": null,
      "outputs": []
    },
    {
      "cell_type": "markdown",
      "source": [
        "The last line will return a `KeyError` because `asdf` is not a key in this dictionary.\n",
        "\n",
        "For more background on arrays and data structures in Python: [Elements of Computing I \"Data Structures in Python\" lab](https://github.com/kwaldenphd/python-data-structures)\n",
        "\n",
        "## Conditional Statements & Control Flow"
      ],
      "metadata": {
        "id": "cRto1Fu37JDE"
      }
    },
    {
      "cell_type": "markdown",
      "source": [
        "### `if-then-else`\n",
        "\n",
        "From Busbee and Braunschweig's \"[Selection Control Structures](https://press.rebus.community/programmingfundamentals/chapter/selection-control-structures/)\" from *Programming Fundamentals*:\n",
        "- \"The basic attribute of a selection control structure is to be able to select between two or more alternate paths. This is described as either two-way selection or multi-way selection. A question using Boolean concepts usually controls which path is selected. All of the paths from a selection control structure join back up at the end of the control structure, before moving on to the next lines of code in a program.\"\n",
        "- \"The if then else control structure is a two-way selection\"\n",
        "\n",
        "In Python, this logic is expressed using the `if`, `else`, and `elif` syntax. From W3Schols, \"[Python Conditions](https://www.w3schools.com/python/python_conditions.asp)\":\n",
        "- \"An 'if statement' is written by using the `if` keyword\"\n",
        "- \"The `elif` keyword is Python's way of saying 'if the previous conditions were not true, then try this condition'\"\n",
        "- \"The `else` keyword catches anything which isn't caught by the preceding conditions\"\n"
      ],
      "metadata": {
        "id": "470XyMv-7N8N"
      }
    },
    {
      "cell_type": "code",
      "source": [
        "# assign variables\n",
        "x = 5\n",
        "y = 7\n",
        "\n",
        "# if statement\n",
        "if x > y:\n",
        "    print(\"The value of x is greater than the value of y\")\n",
        "\n",
        "# else if statement\n",
        "elif x == y:\n",
        "    print(\"The value of x is equal to the value of y\")\n",
        "\n",
        "# else statement\n",
        "else:\n",
        "    print(\"The value of x is less than the value of y\")"
      ],
      "metadata": {
        "id": "Bt3uM9n77PnZ"
      },
      "execution_count": null,
      "outputs": []
    },
    {
      "cell_type": "markdown",
      "source": [
        "To frame this another way:\n",
        "- `if` introduces and evaluates an initial condition. The lines of code indented under `if` will only run when the `if` statement is `True`\n",
        "- `else-if` or `elif` introduces and evaluates another condition. The lines of code indented under `elif` will only run when the `elif` statement is `True`\n",
        "- `else` **does not** introduce a new condition. The lines of code indented under `else` will only run when the preceeding `if`/`elif` statements **are not** true\n",
        "\n",
        "For more background on `if-then-else` logic in Python: [Elements of Computing I \"Comparison Operators & Conditional Statements\" lab](https://github.com/kwaldenphd/python-conditional-statements)"
      ],
      "metadata": {
        "id": "7e_rR0Hk7QxU"
      }
    },
    {
      "cell_type": "markdown",
      "source": [
        "### Iteration\n",
        "\n",
        "But let's review the definition of iteration as a control structure. From Busbee and Braunschweig's \"[Iteration Control Structures](https://press.rebus.community/programmingfundamentals/chapter/iteration-control-structures/),\" in *Programming Fundamentals*:\n",
        "\n",
        "\"In iteration control structures, a statement or block is executed until the program reaches a certain state, or operations have been applied to every element of a collection. This is usually expressed with keywords such as `while`, `repeat`, `for`, or `do..until`. The basic attribute of an iteration control structure is to be able to repeat some lines of code. The visual display of iteration creates a circular loop pattern when flowcharted, thus the word 'loop' is associated with iteration control structures.\"\n",
        "\n",
        "Breaking down that definition:\n",
        "- Iteration (repetition of a process) is a type of control structure\n",
        "- In programming languages, iteration involves lines of code repeating until a condition is met of the end of a group of values has been reached.\n",
        "- Because iteration in this context involves a circular pattern, many object-oriented programming languages refer to these structures as `loops`\n",
        "\n",
        "The power of iteration as a control structure comes from a programming concept called `loops`.\n",
        "\n",
        "<p align=\"center\"><img src=\"https://github.com/kwaldenphd/python-loops-iteration/blob/main/images/loop-comparison-diagram.png?raw=true\" width=\"1000\"></p>\n",
        "\n",
        "Most high-level programming languages support two main types of loops: event-controlled and count-controlled\n",
        "- **Event-controlled loops** test for an initial condition, and execution continues as long as the initial condition is `True`. How many times the loop will execute *is not known*.\n",
        "- **Count-controlled loops** (sometimes called counter-controlled loops) continue executing for a pre-determined number of times. The number of times the loop will execute is known because the loop is iterating through a collection of objects/values (i.e. a string or list), or the iteration when the initial condition will no longer be `True` is known."
      ],
      "metadata": {
        "id": "n_VgpKZS7STs"
      }
    },
    {
      "cell_type": "markdown",
      "source": [
        "#### `while`\n",
        "\n",
        "<p align=\"center\"><img src=\"https://github.com/kwaldenphd/python-loops-iteration/blob/main/images/while-loop-diagram.png?raw=true\" width=\"500\"></p>\n",
        "\n",
        "In Python, event-controlled loops are written using a `while` statement and are called `while loop`. A `while` statement tests for an initial condition, and the lines of code indented under `while` run only when the initial condition is `True`.\n",
        "\n",
        "In each iteration through the `while` loop, Python will:\n",
        "- Evaluate the initial condition (which is a Boolean true/false expression)\n",
        "- If the condition is `False`, exit the loop and continue the program\n",
        "- If the condition is `True`, then execute other statements in the body of the loop and return to the beginning of the loop\n",
        "\n",
        "The basic syntax for a `while` loop:\n",
        "\n",
        "```Python\n",
        "# while loop sample syntax\n",
        "while condition:\n",
        "\tstatement(s)\n",
        "```\n",
        "\n",
        "To express this logic another way:\n",
        "\n",
        "```Python\n",
        "# while loop sample syntax\n",
        "while THIS CONDITION IS TRUE:\n",
        "\tDO THIS THING\n",
        "```\n",
        "\n",
        "For example, let's look at a guessing game program that uses a `while` statement:"
      ],
      "metadata": {
        "id": "W9gMmEX27UMn"
      }
    },
    {
      "cell_type": "code",
      "source": [
        "# correct answer\n",
        "secret = 7\n",
        "\n",
        "# guess\n",
        "guess = int(input(\"Guess a number: \"))\n",
        "\n",
        "# while statement\n",
        "while guess != secret:\n",
        "  if guess > secret:\n",
        "    print(\"Your guess is too high. Better luck next time\")\n",
        "    guess = int(input(\"Guess again. Enter another number: \"))\n",
        "  else:\n",
        "    print(\"Your guess is too low. Better luck next time.\")\n",
        "    guess = int(input(\"Guess again. Enter another number: \"))\n",
        "\n",
        "\n",
        "print(\"Congrats, you guessed the secret number!\")"
      ],
      "metadata": {
        "id": "bSJFRrPE7VNw"
      },
      "execution_count": null,
      "outputs": []
    },
    {
      "cell_type": "markdown",
      "source": [
        "This is an example of a `while` loop. Because the number of times the loop will execute is not known, this is an example of an event-controlled loop. That is, the loop will continue executing (looping) until the initial condition (`guess != secret`) is no longer true.\n",
        "\n",
        "#### `for`\n",
        "\n",
        "<p align=\"center\"><img src=\"https://github.com/kwaldenphd/python-loops-iteration/blob/main/images/for-loop-diagram.png?raw=true\" width=\"500\"></p>\n",
        "\n",
        "In Python, count-controlled loops are written using a `for` statement and are called `for loop`. A `for loop` iterates over each value in a group of values- the lines of code nested under the initial statement run for each iteration.\n",
        "\n",
        "`for` loops let us iterate through a definite set of objects. In each iteration through the `for` loop, Python will:\n",
        "- Extract one element from the dataset\n",
        "- Execute the body of the `for` loop using the item bound to the element\n",
        "- Go back to the first step\n",
        "- Keep iterating through the loop until reaching the end of the dataset\n",
        "\n",
        "The basic syntax in a `for` loop:\n",
        "\n",
        "```Python\n",
        "# sample for loop syntax\n",
        "for item in dataset:\n",
        " statement(s)\n",
        "```\n",
        "\n",
        "In this syntax, `item` is a placeholder for each element in `dataset`. We can replace `item` with another word or letter character.\n",
        "\n",
        "```Python\n",
        "# sample for loop syntax\n",
        "for i in dataset:\n",
        "\tstatement(s)\n",
        "```\n",
        "\n",
        "In this syntax, `dataset` stands for the group of items we want Python to iterate over. That group of items could be a list, a list variable, string, string variable, etc.\n",
        "\n",
        "Let's say we have a list of numbers, and we want Python to iterate through each number in the list and print the number."
      ],
      "metadata": {
        "id": "4-9DOQLd7XKk"
      }
    },
    {
      "cell_type": "code",
      "source": [
        "for i in [0, 1, 2, 3]:\n",
        " print(i)"
      ],
      "metadata": {
        "id": "hkYV-2yG7YU7"
      },
      "execution_count": null,
      "outputs": []
    },
    {
      "cell_type": "markdown",
      "source": [
        "Alternatively, we could create a variable for our list of numbers.\n"
      ],
      "metadata": {
        "id": "M93cmh147ZYl"
      }
    },
    {
      "cell_type": "code",
      "source": [
        "# create list of numbers\n",
        "number_list = [0, 1, 2, 3]\n",
        "\n",
        "# for loop\n",
        "for i in number_list:\n",
        " print(i)"
      ],
      "metadata": {
        "id": "agmWrIiU7aDg"
      },
      "execution_count": null,
      "outputs": []
    },
    {
      "cell_type": "markdown",
      "source": [
        "The loop command steps through the list one value at a time. The loop continues until it reaches the end of the list.\n",
        "\n",
        "We can also use a `for` loop to iterate over a list of strings. Let's say we have a list of pepper types.\n"
      ],
      "metadata": {
        "id": "xYsJw_lN7bKm"
      }
    },
    {
      "cell_type": "code",
      "source": [
        "peppers = [\"bell\", \"poblano\", \"jalapeno\", “banana”, “chile”, “cayenne”]"
      ],
      "metadata": {
        "id": "SrH5mRA47c3U"
      },
      "execution_count": null,
      "outputs": []
    },
    {
      "cell_type": "markdown",
      "source": [
        "We can use a `for` loop to iterate over each string in the list."
      ],
      "metadata": {
        "id": "HbWt7ABS7emX"
      }
    },
    {
      "cell_type": "code",
      "source": [
        "peppers = [\"bell\", \"poblano\", \"jalapeno\", “banana”, “chile”, “cayenne”]\n",
        "\n",
        "for x in peppers:\n",
        " print(x)"
      ],
      "metadata": {
        "id": "6NAJTuCm7gLj"
      },
      "execution_count": null,
      "outputs": []
    },
    {
      "cell_type": "markdown",
      "source": [
        "We can also use a `for` loop to iterate through characters in a single string. Let's say we want to iterate over the characters in the string `elements`.\n"
      ],
      "metadata": {
        "id": "BnSiONSz7hGC"
      }
    },
    {
      "cell_type": "code",
      "source": [
        "for x in 'elements':\n",
        " print(x)"
      ],
      "metadata": {
        "id": "4oYo8nda7h_u"
      },
      "execution_count": null,
      "outputs": []
    },
    {
      "cell_type": "code",
      "source": [
        "# another example of iterating over characters in a string\n",
        "\n",
        "string = 'elements'\n",
        "\n",
        "for x in string:\n",
        " print(x)"
      ],
      "metadata": {
        "id": "r5cpFHPu7i93"
      },
      "execution_count": null,
      "outputs": []
    },
    {
      "cell_type": "markdown",
      "source": [
        "For more background on iteration & loops in Python: [Elements of Computing I \"Iteration & Loops\" lab](https://github.com/kwaldenphd/python-loops-iteration)\n",
        "\n",
        "<blockquote>Q3: In your own words, what is iteration?</blockquote>\n",
        "\n",
        "<blockquote>Q4: In your own words, what is the difference between a `for` loop and a `while` loop?</blockquote>\n",
        "\n",
        "## Putting it all together\n",
        "\n",
        "Q5A: The last thing we'll do in this lab is make sure you're comfortable with a few core elements of Python syntax. For each component, you're asked to describe the concept in your own words and write an example of the concept using Python syntax.\n",
        "\n",
        "Q5B: These examples do not need to be overly complex.\n",
        "  * Modifying example code provided in the lab is absolutely fine.\n",
        "  * Using things you wrote while working through the lab is absolutely fine.\n",
        "  * Consulting linked resources is fine (include a comment or note that mentions any resources you consulted beyond the lab procedure.\n",
        "\n",
        "Q5C: For each concept, describe in your own words and provide an example using Python syntax. Use comments/narrative text to note each part of your answer.\n",
        "- `I/O` (input and ouput, using `print()` and `input()`)\n",
        "- string variable\n",
        "- integer variable\n",
        "- concatenation\n",
        "- arithmetic operators\n",
        "- comparison operators\n",
        "- dictionary\n",
        "- `if, else, elif` statements\n",
        "- `for` loop\n",
        "- `while` loop\n"
      ],
      "metadata": {
        "id": "-QdmQq2E7j_Z"
      }
    },
    {
      "cell_type": "markdown",
      "source": [
        "## Lab Notebook Questions\n",
        "\n",
        "Q1: In your own words, explain the difference between the `print(hello)` command and `print(“hello”)`.\n",
        "\n",
        "Q2: Create your own list of numbers or strings, using the examples in the lab as a starting point. What is the number position for each of the items in your list? How would you return the value of the first item? How would you return the value of the last item?\n",
        "\n",
        "Q3: In your own words, what is iteration?\n",
        "\n",
        "Q4: In your own words, what is the difference between a `for` loop and a `while` loop?\n",
        "\n",
        "Q5: For each concept, describe in your own words and provide an example using Python syntax. Use comments/narrative text to note each part of your answer.\n",
        "- `I/O` (input and ouput, using `print()` and `input()`)\n",
        "- string variable\n",
        "- integer variable\n",
        "- concatenation\n",
        "- arithmetic operators\n",
        "- comparison operators\n",
        "- dictionary\n",
        "- `if, else, elif` statements\n",
        "- `for` loop\n",
        "- `while` loop"
      ],
      "metadata": {
        "id": "hR-5YZ9q2XCy"
      }
    }
  ]
}