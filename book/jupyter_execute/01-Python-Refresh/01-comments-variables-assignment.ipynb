{
 "cells": [
  {
   "cell_type": "markdown",
   "metadata": {
    "id": "ta3PtgAWvb5t"
   },
   "source": [
    "# Comments, Variables & Assignment"
   ]
  },
  {
   "cell_type": "markdown",
   "metadata": {
    "id": "pYeMxpz9xUgr"
   },
   "source": [
    "## Comments\n",
    "\n",
    "Comments mark instructions or information in the code that will not run as part of the program. Comments are useful for testing, documenting, and describing what your code is doing.\n",
    "\n",
    "In Python, single line comments begin with a pound `#` symbol and multi-line comments are marked by three sets of double quotation marks `\"\"\"`."
   ]
  },
  {
   "cell_type": "code",
   "execution_count": 1,
   "metadata": {
    "colab": {
     "base_uri": "https://localhost:8080/",
     "height": 35
    },
    "executionInfo": {
     "elapsed": 14,
     "status": "ok",
     "timestamp": 1705366705355,
     "user": {
      "displayName": "Katherine Walden",
      "userId": "17094108395123900917"
     },
     "user_tz": 300
    },
    "id": "xauPWJPo5Tx_",
    "outputId": "e700b3e2-5fdb-495f-949f-cffee2291bc3"
   },
   "outputs": [
    {
     "data": {
      "application/vnd.google.colaboratory.intrinsic+json": {
       "type": "string"
      },
      "text/plain": [
       "'\\nThis is an example of a multi-line comment in Python\\n'"
      ]
     },
     "execution_count": 1,
     "metadata": {},
     "output_type": "execute_result"
    }
   ],
   "source": [
    "# This is an example of a single line comment in Python\n",
    "\n",
    "\"\"\"\n",
    "This is an example of a multi-line comment in Python\n",
    "\"\"\""
   ]
  },
  {
   "cell_type": "markdown",
   "metadata": {
    "id": "uzQpp-ajxXN7"
   },
   "source": [
    "For more on comments in Python:\n",
    "- [W3Schools, Python Comments](https://www.w3schools.com/python/python_comments.asp)\n",
    "\n",
    "##  Variables & Assignment Operators\n",
    "\n",
    "In most programming languages, variables work as \"containers for storing data values\" ([W3Schools, Python Variables](https://www.w3schools.com/python/python_variables.asp))\n",
    "\n",
    "We create a variable by assigning a value to that variable name using an **assignment operator**.\n",
    "\n",
    "\"An assignment statement sets and/or re-sets the value stored in the storage location(s) denoted by a variable name; in other words, it copies a value into the variable...The assignment operator has two operands. The one to the left of the operator is usually an identifier name for a variable. The one to the right of the operator is a value\" (Kenneth Leroy Busbee and Dave Braunschweig, \"[Assignment](https://press.rebus.community/programmingfundamentals/chapter/assignment/)\" in *Programming Fundamentals*)\n",
    "\n",
    "```\n",
    "[identifier] [assignment symbol] [value]\n",
    "```\n",
    "\n",
    "In Python, the equals sign `=` is the assignment symbol. The underlying syntax for creating a variable in Python using an assignment statement:"
   ]
  },
  {
   "cell_type": "code",
   "execution_count": null,
   "metadata": {
    "id": "2y-A_C5lxY98"
   },
   "outputs": [],
   "source": [
    "# general syntax\n",
    "identifier = value\n",
    "\n",
    "# simple variable example\n",
    "x = 7\n",
    "\n",
    "# composite variable example\n",
    "y = 5 + 7"
   ]
  },
  {
   "cell_type": "markdown",
   "metadata": {
    "id": "EX1zPU085Y0h"
   },
   "source": [
    "Python has a few restrictions and best practices around variable identifiers or names:\n",
    "\n",
    "1- They have to start with a letter character or an underscore (no symbols or numeric characters)"
   ]
  },
  {
   "cell_type": "code",
   "execution_count": null,
   "metadata": {
    "id": "GpuuYhz15Zgb"
   },
   "outputs": [],
   "source": [
    "# example of a valid identifier\n",
    "x = 7\n",
    "\n",
    "# example of an invalid identifier\n",
    "$x = 7"
   ]
  },
  {
   "cell_type": "markdown",
   "metadata": {
    "id": "olz9Sv0b5ai-"
   },
   "source": [
    "2: Terms that have other meaning or function in Python can't be used as variable identifiers. For example the name of a built-in function (`type`) can't be used as a variable identifier.\n",
    "\n",
    "Reserved keywords in Python include: `and, except, lambda, with, as, finally, nonlocal, while, assert, fale, None, yield, break, for, not, class, from, or, continue, global, pass, def, if, raise, del, import, return, elif, in, True, else, is, try`\n",
    "\n",
    "3: Best practice is any programming language is to use meaningful variable identifiers. Just calling something `x` or `y` won't be particularly helpful to someone else reading or interacting with your code. That said, overly-complex variable identifiers are prone to user error.\n",
    "\n",
    "We can show the value for a variable using Python's `print()` function."
   ]
  },
  {
   "cell_type": "code",
   "execution_count": null,
   "metadata": {
    "id": "Y1R97bWr5bZw"
   },
   "outputs": [],
   "source": [
    "# assignment statement\n",
    "x = 7\n",
    "\n",
    "# show variable value\n",
    "print(x)"
   ]
  },
  {
   "cell_type": "markdown",
   "metadata": {
    "id": "uG6PSUAV5cKJ"
   },
   "source": [
    "We can also show a variable's data type using the `type()` function.\n"
   ]
  },
  {
   "cell_type": "code",
   "execution_count": null,
   "metadata": {
    "id": "EvE05-A95eV7"
   },
   "outputs": [],
   "source": [
    "# assignment statement\n",
    "y = \"Hello world!\"\n",
    "\n",
    "# show type\n",
    "print(type(y))"
   ]
  },
  {
   "cell_type": "markdown",
   "metadata": {
    "id": "CNlURcLKxfeg"
   },
   "source": [
    "## Application\n",
    "\n",
    "Q1: In your own words, explain the difference between the print(hello) command we just used and print(“hello”).\n"
   ]
  },
  {
   "cell_type": "markdown",
   "metadata": {
    "id": "pQc8rezixkLH"
   },
   "source": [
    "## Additional Resources\n",
    "\n",
    "For more background on variables & assignment operators:\n",
    "- [Elements of Computing I \"Python Intro\" lab](https://github.com/kwaldenphd/python-intro)"
   ]
  }
 ],
 "metadata": {
  "colab": {
   "authorship_tag": "ABX9TyO7kRCyk2BH2uq8rpHwIVwh",
   "provenance": []
  },
  "kernelspec": {
   "display_name": "Python 3",
   "name": "python3"
  },
  "language_info": {
   "name": "python"
  }
 },
 "nbformat": 4,
 "nbformat_minor": 0
}