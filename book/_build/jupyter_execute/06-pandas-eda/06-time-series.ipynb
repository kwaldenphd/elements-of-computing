{
 "cells": [
  {
   "cell_type": "markdown",
   "metadata": {
    "id": "v7UqBuwiPs-g"
   },
   "source": [
    "# Time Series Data\n",
    "\n",
    "In addition to the data types we've encountered so far, `Pandas` supports `datetime` objects.\n",
    "\n",
    "Let's load an air quality dataset that includes a `datetime` field.\n",
    "- `air_quality_no2_long` provies NO<sub>2</sub> values for three measurement stations."
   ]
  },
  {
   "cell_type": "code",
   "execution_count": 6,
   "metadata": {
    "colab": {
     "base_uri": "https://localhost:8080/"
    },
    "executionInfo": {
     "elapsed": 177,
     "status": "ok",
     "timestamp": 1705962422326,
     "user": {
      "displayName": "Katherine Walden",
      "userId": "17094108395123900917"
     },
     "user_tz": 300
    },
    "id": "zOTsHilcRavK",
    "outputId": "d992d4a0-6d1c-4716-ee3c-e2cbca0602d8"
   },
   "outputs": [
    {
     "name": "stdout",
     "output_type": "stream",
     "text": [
      "<class 'pandas.core.frame.DataFrame'>\n",
      "RangeIndex: 2068 entries, 0 to 2067\n",
      "Data columns (total 4 columns):\n",
      " #   Column     Non-Null Count  Dtype  \n",
      "---  ------     --------------  -----  \n",
      " 0   date.utc   2068 non-null   object \n",
      " 1   location   2068 non-null   object \n",
      " 2   parameter  2068 non-null   object \n",
      " 3   value      2068 non-null   float64\n",
      "dtypes: float64(1), object(3)\n",
      "memory usage: 64.8+ KB\n"
     ]
    }
   ],
   "source": [
    "import pandas as pd # import pandas\n",
    "df = pd.read_csv(\"https://raw.githubusercontent.com/kwaldenphd/eda-pandas/main/data/air_quality_no2_long.csv\") # load data\n",
    "df = df[[\"date.utc\", \"location\", \"parameter\", \"value\"]] # subset data\n",
    "df.info() # get df summary"
   ]
  },
  {
   "cell_type": "markdown",
   "metadata": {
    "id": "aDMDTplZRodF"
   },
   "source": [
    "You might be wondering what exactly we are supposed to do with the convoluted string of numbers and characters in the `datetime` field for the `air_quality_no2_long` file.\n",
    "\n",
    "Let's first break down the information contained in this field. The data contained in the string for a single `datetime` value: `2019-06-21 00:00:00+00:00`\n",
    "\n",
    "- year (2019)\n",
    "- month (6)\n",
    "- day (21)\n",
    "- hour (00 before first colon)\n",
    "- minute (00 between two colons)\n",
    "- second (00 after second colon)\n",
    "- UTC offset, or time zone (00:00 after + symbol)\n",
    "\n",
    "We can imagine a number of different scenarios in which we would want to interact with this information as a time series object, rather than just a string of characters. Initially, `pandas` is treating the `datetime` field as a character string. We can use the `.to_datetime()` function to convert this field to a datetime object."
   ]
  },
  {
   "cell_type": "code",
   "execution_count": 3,
   "metadata": {
    "colab": {
     "base_uri": "https://localhost:8080/"
    },
    "executionInfo": {
     "elapsed": 144,
     "status": "ok",
     "timestamp": 1705962335694,
     "user": {
      "displayName": "Katherine Walden",
      "userId": "17094108395123900917"
     },
     "user_tz": 300
    },
    "id": "PeCzQHuqRt04",
    "outputId": "35d95d90-3e03-431f-f066-aefc93129cd0"
   },
   "outputs": [
    {
     "name": "stdout",
     "output_type": "stream",
     "text": [
      "<class 'pandas.core.frame.DataFrame'>\n",
      "RangeIndex: 2068 entries, 0 to 2067\n",
      "Data columns (total 5 columns):\n",
      " #   Column     Non-Null Count  Dtype              \n",
      "---  ------     --------------  -----              \n",
      " 0   date.utc   2068 non-null   object             \n",
      " 1   location   2068 non-null   object             \n",
      " 2   parameter  2068 non-null   object             \n",
      " 3   value      2068 non-null   float64            \n",
      " 4   datetime   2068 non-null   datetime64[ns, UTC]\n",
      "dtypes: datetime64[ns, UTC](1), float64(1), object(3)\n",
      "memory usage: 80.9+ KB\n"
     ]
    }
   ],
   "source": [
    "df['datetime'] = pd.to_datetime(df['date.utc']) # add new column with converted date\n",
    "df.info() # check output"
   ]
  },
  {
   "cell_type": "markdown",
   "metadata": {
    "id": "KIQNhGZuR4bZ"
   },
   "source": [
    "Now that we have the `datatime` field as a datatime object, we can access a number of specialized commands."
   ]
  },
  {
   "cell_type": "code",
   "execution_count": 4,
   "metadata": {
    "colab": {
     "base_uri": "https://localhost:8080/"
    },
    "executionInfo": {
     "elapsed": 212,
     "status": "ok",
     "timestamp": 1705962371133,
     "user": {
      "displayName": "Katherine Walden",
      "userId": "17094108395123900917"
     },
     "user_tz": 300
    },
    "id": "e9vqb5m5R5Qq",
    "outputId": "1242d6b4-fe59-4e49-cbe3-1c46ee0810e5"
   },
   "outputs": [
    {
     "data": {
      "text/plain": [
       "(Timestamp('2019-05-07 01:00:00+0000', tz='UTC'),\n",
       " Timestamp('2019-06-21 00:00:00+0000', tz='UTC'))"
      ]
     },
     "execution_count": 4,
     "metadata": {},
     "output_type": "execute_result"
    }
   ],
   "source": [
    "df['datetime'].min(), df['datetime'].max() # get min and max values"
   ]
  },
  {
   "cell_type": "code",
   "execution_count": 5,
   "metadata": {
    "colab": {
     "base_uri": "https://localhost:8080/"
    },
    "executionInfo": {
     "elapsed": 5,
     "status": "ok",
     "timestamp": 1705962399927,
     "user": {
      "displayName": "Katherine Walden",
      "userId": "17094108395123900917"
     },
     "user_tz": 300
    },
    "id": "6gvbjSnHSARJ",
    "outputId": "de3be33a-7b57-450e-c09d-372f87301d03"
   },
   "outputs": [
    {
     "data": {
      "text/plain": [
       "Timedelta('44 days 23:00:00')"
      ]
     },
     "execution_count": 5,
     "metadata": {},
     "output_type": "execute_result"
    }
   ],
   "source": [
    "df['datetime'].max() - df['datetime'].min() # calculate time span"
   ]
  },
  {
   "cell_type": "markdown",
   "metadata": {
    "id": "KUJbm1MPSIjk"
   },
   "source": [
    "If we know we are loading data with a datatime like field, we can specify how `pandas` should parse the datetime field in the newly-created data frame using `parse_dates`."
   ]
  },
  {
   "cell_type": "code",
   "execution_count": 7,
   "metadata": {
    "colab": {
     "base_uri": "https://localhost:8080/"
    },
    "executionInfo": {
     "elapsed": 132,
     "status": "ok",
     "timestamp": 1705962441292,
     "user": {
      "displayName": "Katherine Walden",
      "userId": "17094108395123900917"
     },
     "user_tz": 300
    },
    "id": "eUyFcD3dSIEF",
    "outputId": "6ea41ecd-e5ed-45d9-affc-51b91f7dccda"
   },
   "outputs": [
    {
     "name": "stdout",
     "output_type": "stream",
     "text": [
      "<class 'pandas.core.frame.DataFrame'>\n",
      "RangeIndex: 2068 entries, 0 to 2067\n",
      "Data columns (total 7 columns):\n",
      " #   Column     Non-Null Count  Dtype              \n",
      "---  ------     --------------  -----              \n",
      " 0   city       2068 non-null   object             \n",
      " 1   country    2068 non-null   object             \n",
      " 2   date.utc   2068 non-null   datetime64[ns, UTC]\n",
      " 3   location   2068 non-null   object             \n",
      " 4   parameter  2068 non-null   object             \n",
      " 5   value      2068 non-null   float64            \n",
      " 6   unit       2068 non-null   object             \n",
      "dtypes: datetime64[ns, UTC](1), float64(1), object(5)\n",
      "memory usage: 113.2+ KB\n"
     ]
    }
   ],
   "source": [
    "df = pd.read_csv(\"https://raw.githubusercontent.com/kwaldenphd/eda-pandas/main/data/air_quality_no2_long.csv\", parse_dates=[\"date.utc\"]) # load data\n",
    "df.info() # show info"
   ]
  },
  {
   "cell_type": "markdown",
   "metadata": {
    "id": "iYlVDEfbSTYI"
   },
   "source": [
    "## Additional Resources\n",
    "\n",
    "For more on datatime objects and time series data in Python:\n",
    "- [`pandas` documentation on time related concepts](https://pandas.pydata.org/pandas-docs/stable/user_guide/timeseries.html)\n",
    "- [`pandas` documentation on timestamps](https://pandas.pydata.org/pandas-docs/stable/reference/api/pandas.Timestamp.html#pandas.Timestamp)\n",
    "- [Python documentation on datetime](https://docs.python.org/3/library/datetime.html)"
   ]
  }
 ],
 "metadata": {
  "colab": {
   "authorship_tag": "ABX9TyPBglGYx7Hhvbnd6npYYxxI",
   "provenance": []
  },
  "kernelspec": {
   "display_name": "Python 3",
   "name": "python3"
  },
  "language_info": {
   "name": "python"
  }
 },
 "nbformat": 4,
 "nbformat_minor": 0
}