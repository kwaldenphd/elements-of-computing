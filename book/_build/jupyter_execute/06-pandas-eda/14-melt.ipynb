{
 "cells": [
  {
   "cell_type": "markdown",
   "metadata": {
    "id": "jGJxIlASj756"
   },
   "source": [
    "# Melt"
   ]
  },
  {
   "cell_type": "code",
   "execution_count": null,
   "metadata": {
    "id": "9BOwB0D9uxuy"
   },
   "outputs": [],
   "source": [
    "# general syntax\n",
    "DataFrame.melt(self, id_vars=None, value_vars=None, var_name=None, value_name='value', col_level=None)"
   ]
  },
  {
   "cell_type": "markdown",
   "metadata": {
    "id": "R0K375AM02MJ"
   },
   "source": [
    "Parameters:\n",
    "- `id_vars` *optional*\n",
    "  * Identifier variable column(s)\n",
    "- `value_vars` *optional*\n",
    "  * Column(s) to unpivot; if not specified, uses all columns that aren't `id_vars`\n",
    "- `var_name` *required*\n",
    "  * Column name for the new `variable` column; if not specified, uses `variable`\n",
    "- `value_name` *required*\n",
    "  * Column name for the new `value` column\n",
    "- `col_level` *optional*\n",
    "  * Optional parameter to deal with multi-level index/multi-index\n",
    "\n",
    "Let's start with a simple `DataFrame`."
   ]
  },
  {
   "cell_type": "code",
   "execution_count": null,
   "metadata": {
    "id": "kP49R1qq1kC3"
   },
   "outputs": [],
   "source": [
    "import numpy as np, pandas as pd # import statements\n",
    "\n",
    "# create df\n",
    "df = pd.DataFrame({'P': {0: 'p', 1: 'q', 2: 'r'},\n",
    "                   'Q': {0: 1, 1: 3, 2: 5},\n",
    "                   'R': {0: 2, 1: 4, 2: 6}})\n",
    "df # show df"
   ]
  },
  {
   "cell_type": "markdown",
   "metadata": {
    "id": "pal1s2D31r04"
   },
   "source": [
    "## Example #1\n",
    "\n",
    "For our first `.melt()` example..\n",
    "- `P` column is the identifier\n",
    "- `Q` is the un-pivoted/melted (becomes a new column\n",
    "- `R` column is dropped"
   ]
  },
  {
   "cell_type": "code",
   "execution_count": null,
   "metadata": {
    "id": "rO_8k-4X2Aus"
   },
   "outputs": [],
   "source": [
    "df.melt(id_vars=['P'], value_vars=['Q']) # melt example"
   ]
  },
  {
   "cell_type": "code",
   "execution_count": null,
   "metadata": {
    "id": "mBS3lacij4bh"
   },
   "outputs": [],
   "source": [
    "dfMelt = df.melt(id_vars=['P'], value_vars=['Q']) # assign to new df\n",
    "dfMelt # show output"
   ]
  },
  {
   "cell_type": "markdown",
   "metadata": {
    "id": "9WjcWjOE6R69"
   },
   "source": [
    "We can also use the `var_name` and `value_name` parameters to customize the column names as part of the `.melt()` function."
   ]
  },
  {
   "cell_type": "code",
   "execution_count": null,
   "metadata": {
    "id": "KPY5zoi86XQn"
   },
   "outputs": [],
   "source": [
    "# melt syntax that specifies column names\n",
    "df.melt(id_vars=['P'], value_vars=['Q'],\n",
    "        var_name='myVarname', value_name='myValname')"
   ]
  },
  {
   "cell_type": "markdown",
   "metadata": {
    "id": "8ZIpt0tV2Iae"
   },
   "source": [
    "## Example #2\n",
    "\n",
    "In our second `.melt()` example...\n",
    "- `P` is still the identifier\n",
    "- `Q` & `R` are the unpivoted/melted columns"
   ]
  },
  {
   "cell_type": "code",
   "execution_count": null,
   "metadata": {
    "id": "wG9Ec0ZO2O90"
   },
   "outputs": [],
   "source": [
    "df.melt(id_vars=['P'], value_vars=['Q', 'R']) # another melt example"
   ]
  },
  {
   "cell_type": "code",
   "execution_count": null,
   "metadata": {
    "id": "fnSsW7ww2Tso"
   },
   "outputs": [],
   "source": [
    "dfMelt2 = df.melt(id_vars=['P'], value_vars=['Q', 'R']) # assign to new df\n",
    "dfMelt2 # show output"
   ]
  },
  {
   "cell_type": "markdown",
   "metadata": {
    "id": "2RxSaPfTkpT5"
   },
   "source": [
    "## Additional Resources\n",
    "\n",
    "- [Pandas documentation](https://pandas.pydata.org/docs/reference/api/pandas.DataFrame.melt.html)\n",
    "- [W3Resource](https://www.w3resource.com/pandas/dataframe/dataframe-melt.php)"
   ]
  }
 ],
 "metadata": {
  "colab": {
   "authorship_tag": "ABX9TyNkWR3/IvRllDjjKvokqsd6",
   "provenance": []
  },
  "kernelspec": {
   "display_name": "Python 3",
   "name": "python3"
  },
  "language_info": {
   "name": "python"
  }
 },
 "nbformat": 4,
 "nbformat_minor": 0
}