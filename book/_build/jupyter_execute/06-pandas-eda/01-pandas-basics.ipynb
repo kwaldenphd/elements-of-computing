{
 "cells": [
  {
   "cell_type": "markdown",
   "metadata": {
    "id": "WRN4mKnKB50J"
   },
   "source": [
    "# Pandas Basics"
   ]
  },
  {
   "cell_type": "markdown",
   "metadata": {
    "id": "L992e1-W8Ucx"
   },
   "source": [
    "## Data Structures\n",
    "\n",
    "<p align=\"center\"><img src=\"https://github.com/kwaldenphd/pandas-intro/blob/main/images/series_df_diagram.png?raw=true\" width=\"1000\"></p>\n",
    "\n",
    "`pandas` has two main data structures: `Series` and `DataFrame`.\n",
    "- \"A `Series` is a one-dimensional, array-like object containing a sequence of values...and an associated array of data labels, called its index\" (McKinney, 126)\n",
    "- A `DataFrame` includes a tabular data structure \"and contains an ordered collection of columns, each of which can be a different value type\" (McKinney, 130)."
   ]
  },
  {
   "cell_type": "markdown",
   "metadata": {
    "id": "4378GK1__BGT"
   },
   "source": [
    "### Series\n",
    "\n",
    "In `pandas`, \"a `Series` is a one-dimensional, array-like object containing a sequence of values...and an associated array of data labels, called its index\" (McKinney, 126)."
   ]
  },
  {
   "cell_type": "code",
   "execution_count": null,
   "metadata": {
    "id": "XrVArTed9Lf-"
   },
   "outputs": [],
   "source": [
    "# series example\n",
    "import pandas as pd # import statement\n",
    "obj = pd.Series([4, 7, -5, 3]) # create series\n",
    "obj # show outpu"
   ]
  },
  {
   "cell_type": "code",
   "execution_count": null,
   "metadata": {
    "id": "VjcNGrD39Ujj"
   },
   "outputs": [],
   "source": [
    "# series example with index attributes\n",
    "obj2 = pd.Series([4, 7, -5, 3], index=['d', 'b', 'a', 'c']) # create series\n",
    "obj2['a'] # access value using index\n"
   ]
  },
  {
   "cell_type": "code",
   "execution_count": null,
   "metadata": {
    "id": "CdIvz2BM9eHN"
   },
   "outputs": [],
   "source": [
    "# series comparison operator example\n",
    "obj2[obj2 > 0] # returns index-value pairs for values greater than 0"
   ]
  },
  {
   "cell_type": "code",
   "execution_count": null,
   "metadata": {
    "id": "0Q7cAN239pjS"
   },
   "outputs": [],
   "source": [
    "# series arithmetic operator example\n",
    "obj2 * 2 # multiples all values by 2"
   ]
  },
  {
   "cell_type": "markdown",
   "metadata": {
    "id": "5MLN5U9y9kAV"
   },
   "source": [
    "### DataFrame\n",
    "\n",
    "While a `Series` object is a one-dimensional array, a `DataFrame` includes a tabular data structure \"and contains an ordered collection of columns, each of which can be a different value type\" (McKinney, 130). A `pandas` `DataFrame` has a row and column index--we can think of these as Series that all share the same index. Behold, a two-dimensional data structure!\n",
    "\n",
    "The \"Data Structures & Sources\" chapter walks through some data loading options in Pandas. In this example, we'll work with the Census Bureau API return."
   ]
  },
  {
   "cell_type": "code",
   "execution_count": null,
   "metadata": {
    "id": "yXYG0M8m-GQS"
   },
   "outputs": [],
   "source": [
    "# creating dataframe from API return\n",
    "import pandas as pd, requests, json # import statements\n",
    "page = requests\n",
    "r = requests.get(\"https://api.census.gov/data/2022/acs/acs1/pums?get=SEX,AGEP,MAR&SCHL=24\")\n",
    "data = r.json() # store response\n",
    "df = pd.DataFrame(data[1:], columns=data[0]) # create the dataframe, making the first sublist the column headers, and starting with the first row of data to avoid duplicating headers)\n",
    "df # show output"
   ]
  },
  {
   "cell_type": "markdown",
   "metadata": {
    "id": "VPcbiU96--s6"
   },
   "source": [
    "## Understanding Your DataFrame\n",
    "\n",
    "Pandas includes a few different useful commands for getting a sense of what all is in a `DataFrame`."
   ]
  },
  {
   "cell_type": "code",
   "execution_count": null,
   "metadata": {
    "id": "GYZX6XDN_SKw"
   },
   "outputs": [],
   "source": [
    "# show first and last five rows\n",
    "df"
   ]
  },
  {
   "cell_type": "code",
   "execution_count": null,
   "metadata": {
    "id": "jPVS3Q1t_UoJ"
   },
   "outputs": [],
   "source": [
    "# show initial rows- default value is 5 but you can put other integers in the parenthesis\n",
    "df.head()"
   ]
  },
  {
   "cell_type": "code",
   "execution_count": null,
   "metadata": {
    "id": "j9otxfzf_ai5"
   },
   "outputs": [],
   "source": [
    "# show final rows- default value is 5 but you can put other integers in the parenthesis\n",
    "df.tail()"
   ]
  },
  {
   "cell_type": "code",
   "execution_count": null,
   "metadata": {
    "id": "ZBW64zls_d-I"
   },
   "outputs": [],
   "source": [
    "# technical summary for the dataframe\n",
    "df.info()"
   ]
  },
  {
   "cell_type": "code",
   "execution_count": null,
   "metadata": {
    "id": "RXtmgHcS_huM"
   },
   "outputs": [],
   "source": [
    "# summary statistics for the dataframe\n",
    "df.describe()"
   ]
  },
  {
   "cell_type": "markdown",
   "metadata": {
    "id": "62fC35g6_m9f"
   },
   "source": [
    "The last command `.describe()` returns some statistical information about values in our dataset, including:\n",
    "- count\n",
    "- mean\n",
    "- standard deviation\n",
    "- minimum\n",
    "- 25th percentile\n",
    "- 50th percentile\n",
    "- 75th percentile\n",
    "- maximum"
   ]
  },
  {
   "cell_type": "markdown",
   "metadata": {
    "id": "qtuURXg6eAcf"
   },
   "source": [
    "## This Section's Contents\n",
    "\n",
    "```{table of contents}\n",
    "```"
   ]
  }
 ],
 "metadata": {
  "colab": {
   "authorship_tag": "ABX9TyP8Ygv+MjTu1VLqC7lfu6mq",
   "provenance": []
  },
  "kernelspec": {
   "display_name": "Python 3",
   "name": "python3"
  },
  "language_info": {
   "name": "python"
  }
 },
 "nbformat": 4,
 "nbformat_minor": 0
}