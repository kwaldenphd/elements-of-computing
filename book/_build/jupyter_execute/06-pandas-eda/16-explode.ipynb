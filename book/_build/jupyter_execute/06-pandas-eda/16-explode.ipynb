{
 "cells": [
  {
   "cell_type": "markdown",
   "metadata": {
    "id": "JaKZTDQfuzkw"
   },
   "source": [
    "# `.explode()`\n",
    "\n",
    "In a situation where you have a column with multiple values in the same row (i.e. list in a single cell), `.explode()` creates a unique index-row value for each combination."
   ]
  },
  {
   "cell_type": "code",
   "execution_count": null,
   "metadata": {
    "id": "yj-XYo1Tu0xf"
   },
   "outputs": [],
   "source": [
    "# general syntax\n",
    "DataFrame.explode(column)"
   ]
  },
  {
   "cell_type": "markdown",
   "metadata": {
    "id": "xkngtIj3-SPH"
   },
   "source": [
    "Parameters:\n",
    "- `column` *required*\n",
    "  * Column(s) that will be exploded. Format will be string or tuple.\n",
    "- `ignore_index` *optional*\n",
    "  * Default is `False`; if set to `True`, resulting index will be default `0, 1, 2, etc`\n",
    "\n",
    "We'll start with a `DataFrame`."
   ]
  },
  {
   "cell_type": "markdown",
   "metadata": {
    "id": "J3EktTbb-0Ld"
   },
   "source": [
    "<p align=\"center\"><img src=\"https://www.w3resource.com/w3r_images/pandas-dataframe-explode.png\"></p>"
   ]
  },
  {
   "cell_type": "code",
   "execution_count": null,
   "metadata": {
    "id": "0Ej-KYKlne8e"
   },
   "outputs": [],
   "source": [
    "import pandas as pd, numpy as np # import statements\n",
    "df = pd.DataFrame({'P': [[2, 3, 4], 'fff', [], [4, 5]], 'Q': 2}) # create df\n",
    "df # show output"
   ]
  },
  {
   "cell_type": "markdown",
   "metadata": {
    "id": "G97tqLDw_OtT"
   },
   "source": [
    "<p align=\"center\"><img src=\"https://www.w3resource.com/w3r_images/pandas-dataframe-explode-1.png\"></p>"
   ]
  },
  {
   "cell_type": "markdown",
   "metadata": {
    "id": "hd80CIF9nk5o"
   },
   "source": [
    "In this `.explode()` example...\n",
    "- Values in `P` column will become unique index-value combinations\n",
    "- `Q` values will remain unchanged (may be duplicated as new rows get added)"
   ]
  },
  {
   "cell_type": "code",
   "execution_count": null,
   "metadata": {
    "id": "AsDcaiAynsfH"
   },
   "outputs": [],
   "source": [
    "df.explode('P') # explode"
   ]
  },
  {
   "cell_type": "code",
   "execution_count": null,
   "metadata": {
    "id": "RE6R0H_jnt7O"
   },
   "outputs": [],
   "source": [
    "dfExplode = df.explode('P') # assign to new df\n",
    "dfExplode # show output"
   ]
  },
  {
   "cell_type": "markdown",
   "metadata": {
    "id": "ysW7ySOPnXDf"
   },
   "source": [
    "## Additional Resources\n",
    "\n",
    "- [Pandas documentation](https://pandas.pydata.org/docs/reference/api/pandas.DataFrame.explode.html)\n",
    "- [W3Resource](https://www.w3resource.com/pandas/dataframe/dataframe-explode.php)"
   ]
  }
 ],
 "metadata": {
  "colab": {
   "authorship_tag": "ABX9TyMPLQplt/Ati6lWoqasUys4",
   "provenance": []
  },
  "kernelspec": {
   "display_name": "Python 3",
   "name": "python3"
  },
  "language_info": {
   "name": "python"
  }
 },
 "nbformat": 4,
 "nbformat_minor": 0
}