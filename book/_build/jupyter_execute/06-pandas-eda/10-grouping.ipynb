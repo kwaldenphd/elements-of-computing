{
 "cells": [
  {
   "cell_type": "markdown",
   "metadata": {
    "id": "UTM1TL64awlv"
   },
   "source": [
    "# `.groupby()` & `.value_counts()`"
   ]
  },
  {
   "cell_type": "markdown",
   "metadata": {
    "id": "BTHC3JQmVtVe"
   },
   "source": [
    "## `.groupby()`\n",
    "\n",
    "<p align=\"center\"><img src=\"https://miro.medium.com/v2/resize:fit:1400/1*w2oGdXv5btEMxAkAsz8fbg.png\" width=\"1000\"></p>\n",
    "\n",
    "Generally speaking, this type of `pandas` operation follows a `split-apply-combine` pattern. `pandas` syntax combines the `apply` and `combine` steps.\n",
    "- First we `split` the data into groups.\n",
    "- Then we `apply` a function to each group independently.\n",
    "- Then we `combine` the function results into a data structure.\n",
    "\n",
    "For example, let's say we wanted to calculate average age by marital status."
   ]
  },
  {
   "cell_type": "code",
   "execution_count": null,
   "metadata": {
    "id": "ZrOgG7JhYMyL"
   },
   "outputs": [],
   "source": [
    "df[['MAR', 'AGEP']].groupby('MAR').mean() # average age by marital status"
   ]
  },
  {
   "cell_type": "markdown",
   "metadata": {
    "id": "i7JqbexqYU6Y"
   },
   "source": [
    "The first set of brackets (`[]`) isolates a subselection with only these two columns. Then we apply the `.groupby()` method to the `MAR` column to calculate `.mean()` for the `AGEP` values.\n",
    "\n",
    "Another way to calculate average age by marital status, using a slightly different syntax:"
   ]
  },
  {
   "cell_type": "code",
   "execution_count": null,
   "metadata": {
    "id": "gAQ23SsqX7QD"
   },
   "outputs": [],
   "source": [
    "df.groupby('MAR')['AGEP'].mean() # average age by marital status"
   ]
  },
  {
   "cell_type": "markdown",
   "metadata": {
    "id": "v0gt_YbmYoHV"
   },
   "source": [
    "In this alternate example, the column name in the `.groupby()` parenthesis specifies the column to group by. The column name in brackets (`[]`) specifies the column to perform the mathematical function on."
   ]
  },
  {
   "cell_type": "markdown",
   "metadata": {
    "id": "8DTNczFYYC3t"
   },
   "source": [
    "## Additional Resources\n",
    "\n",
    "- [Pandas \"Group by\" documentation](https://pandas.pydata.org/pandas-docs/stable/user_guide/groupby.html#groupby)\n",
    "- [Pandas documentation, \"Group by: split-apply-combine\"](https://pandas.pydata.org/pandas-docs/stable/user_guide/groupby.html#groupby)"
   ]
  },
  {
   "cell_type": "markdown",
   "metadata": {
    "id": "dcHiojdfV0T1"
   },
   "source": [
    "## `.value_counts()\n",
    "\n",
    "We can also count the number of records by category using `.value_counts()`. The `.value_counts()` method returns the number of records for each category in a column.\n",
    "\n",
    "Let's say we want to know the number of records for each marital status. Thinking through the underlying logic, we need a program that groups by marital status and calculates the number of records for each unique value."
   ]
  },
  {
   "cell_type": "code",
   "execution_count": null,
   "metadata": {
    "id": "HzLmMytRZUj_"
   },
   "outputs": [],
   "source": [
    "df['MAR'].value_counts() # count number of records for each marital status unique value"
   ]
  },
  {
   "cell_type": "markdown",
   "metadata": {
    "id": "Q5JX-J85ZZ5P"
   },
   "source": [
    "We could also break out these steps using a combination of `.groupby()` and `.count()`."
   ]
  },
  {
   "cell_type": "code",
   "execution_count": null,
   "metadata": {
    "id": "EVdHOy9YZcKg"
   },
   "outputs": [],
   "source": [
    "df.groupby('MAR')['MAR'].count() # count number of records for"
   ]
  },
  {
   "cell_type": "markdown",
   "metadata": {
    "id": "P9jodIDoZkMW"
   },
   "source": [
    "In the second example, we are explicitly categorizing the data by category in the `MAR` column, then performing a `.count()` operation on the records for each `MAR` category."
   ]
  },
  {
   "cell_type": "markdown",
   "metadata": {
    "id": "6xuyd__rZi7P"
   },
   "source": [
    "## Putting It All Together\n",
    "\n",
    "A few key takeaways:\n",
    "- We can calculate aggregate statistics for entire rows or columns\n",
    "- `.groupby()` follows a `split-apply-combine` pattern\n",
    "- `.value_counts()` can be a shorthand for getting the number of entries for each category in a field"
   ]
  }
 ],
 "metadata": {
  "colab": {
   "authorship_tag": "ABX9TyP50Y/T2/0LEZXSVz9fwLUt",
   "provenance": []
  },
  "kernelspec": {
   "display_name": "Python 3",
   "name": "python3"
  },
  "language_info": {
   "name": "python"
  }
 },
 "nbformat": 4,
 "nbformat_minor": 0
}