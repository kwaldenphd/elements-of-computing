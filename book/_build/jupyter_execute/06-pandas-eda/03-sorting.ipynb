{
 "cells": [
  {
   "cell_type": "markdown",
   "metadata": {
    "id": "ONVrWBxqAjTY"
   },
   "source": [
    "# Sorting\n",
    "\n",
    "`pandas` includes a few different built-in sorting operations. We can sort by an index for either axis of our `DataFrame` (i.e. we can sort based on row index labels or by column name).\n",
    "\n",
    "The default for `.sort_values` is to sort in ascending order. We can use `ascending=False` to sort in descending order."
   ]
  },
  {
   "cell_type": "code",
   "execution_count": null,
   "metadata": {
    "id": "jwEo1cAFAree"
   },
   "outputs": [],
   "source": [
    "df.sort_values('AGEP') # ascending sort for AGEP column values"
   ]
  },
  {
   "cell_type": "code",
   "execution_count": null,
   "metadata": {
    "id": "a9IvjbpRA8Dv"
   },
   "outputs": [],
   "source": [
    "df.sort_values('MAR', ascending=False) # descending sort for MAR column vlaues"
   ]
  },
  {
   "cell_type": "markdown",
   "metadata": {
    "id": "lLmJdrfRBAoz"
   },
   "source": [
    "NOTE: When sorting, we are returning a sorted `DataFrame`. We ARE NOT updating the `DataFrame` in place. We have a couple of options to sort in place."
   ]
  },
  {
   "cell_type": "code",
   "execution_count": null,
   "metadata": {
    "id": "Fj9XjLlPBC27"
   },
   "outputs": [],
   "source": [
    "dfSort = df.sort_values('AGEP') # create new dataframe from sort\n",
    "dfSort # show output"
   ]
  },
  {
   "cell_type": "code",
   "execution_count": null,
   "metadata": {
    "id": "37UqgEevBJkb"
   },
   "outputs": [],
   "source": [
    "df.sort_values('MAR', inplace=True) # store sort output in-place\n",
    "df # show output"
   ]
  },
  {
   "cell_type": "markdown",
   "metadata": {
    "id": "qNE5lczWBU0M"
   },
   "source": [
    "We can also sort by multiple fields."
   ]
  },
  {
   "cell_type": "code",
   "execution_count": null,
   "metadata": {
    "id": "6b0SCBtYBXg7"
   },
   "outputs": [],
   "source": [
    "df.sort_values(['MAR', 'AGEP'], ascending=False) # descending sort for MAR and PWGTP columns"
   ]
  },
  {
   "cell_type": "markdown",
   "metadata": {
    "id": "tOLSMsO6BjNH"
   },
   "source": [
    "When sorting by fields with string data, `a-z` is considered `ascending` and `z-a` would be `descending`.\n",
    "\n",
    "For more on sorting operations in `pandas`, check out the package's [\"Sorting\" documentation](https://pandas.pydata.org/pandas-docs/stable/user_guide/basics.html#sorting)."
   ]
  }
 ],
 "metadata": {
  "colab": {
   "authorship_tag": "ABX9TyMJjev6j2XpmxGCvyYHV5je",
   "provenance": []
  },
  "kernelspec": {
   "display_name": "Python 3",
   "name": "python3"
  },
  "language_info": {
   "name": "python"
  }
 },
 "nbformat": 4,
 "nbformat_minor": 0
}