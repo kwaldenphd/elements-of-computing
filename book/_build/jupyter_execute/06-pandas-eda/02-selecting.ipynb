{
 "cells": [
  {
   "cell_type": "markdown",
   "metadata": {
    "id": "PbZIMXysCBIZ"
   },
   "source": [
    "# Selecting\n",
    "\n",
    "`Pandas` includes a few useful commands for isolating components of our `DataFrame."
   ]
  },
  {
   "cell_type": "markdown",
   "metadata": {
    "id": "lUNOTAxgCHVZ"
   },
   "source": [
    "## Columns\n",
    "\n",
    "We can select columns using their index labels or name attribute."
   ]
  },
  {
   "cell_type": "code",
   "execution_count": null,
   "metadata": {
    "id": "ICZNe9FM_y21"
   },
   "outputs": [],
   "source": [
    "df['MAR'] # returns MAR column"
   ]
  },
  {
   "cell_type": "code",
   "execution_count": null,
   "metadata": {
    "id": "5SxmWLD1_3PW"
   },
   "outputs": [],
   "source": [
    "df.mar # returns MAR column"
   ]
  },
  {
   "cell_type": "code",
   "execution_count": null,
   "metadata": {
    "id": "6hXoFHF_BpYj"
   },
   "outputs": [],
   "source": [
    "df[['MAR', 'PWGTP']] # select multiple columns"
   ]
  },
  {
   "cell_type": "markdown",
   "metadata": {
    "id": "EKQPwYrVBwc7"
   },
   "source": [
    "When selecting multiple columns, the inner brackets (`[]`) define the column names to subset or select. The outer brackets select data from a dataframe. In this multi-column example, `age_sex` is a `DataFrame` because it is a two-dimensional object."
   ]
  },
  {
   "cell_type": "markdown",
   "metadata": {
    "id": "owb1YRGJ_5dq"
   },
   "source": [
    "## Rows\n",
    "\n",
    "We can select rows using their index.\n",
    "- `.loc` for location attribute\n",
    "- `.iloc` for numerical index\n",
    "\n",
    "For our sample dataframe, the row indeces are integers, so we could use these commands interchangeably."
   ]
  },
  {
   "cell_type": "code",
   "execution_count": null,
   "metadata": {
    "id": "414np0BmAIab"
   },
   "outputs": [],
   "source": [
    "df.loc[2] # select third row"
   ]
  },
  {
   "cell_type": "code",
   "execution_count": null,
   "metadata": {
    "id": "ZVo6hC0FAGqA"
   },
   "outputs": [],
   "source": [
    "df.iloc[2] # select third row"
   ]
  },
  {
   "cell_type": "markdown",
   "metadata": {
    "id": "Pfvuw3zrFqHv"
   },
   "source": [
    "## Additional Resources\n",
    "\n",
    "Consult the [\"Different choices for indexing\"](https://pandas.pydata.org/pandas-docs/stable/user_guide/indexing.html#indexing-choice) documentation for more on indexing options.\n",
    "\n"
   ]
  }
 ],
 "metadata": {
  "colab": {
   "authorship_tag": "ABX9TyMirhCqG+zbAslO/NKQYgAW",
   "provenance": []
  },
  "kernelspec": {
   "display_name": "Python 3",
   "name": "python3"
  },
  "language_info": {
   "name": "python"
  }
 },
 "nbformat": 4,
 "nbformat_minor": 0
}