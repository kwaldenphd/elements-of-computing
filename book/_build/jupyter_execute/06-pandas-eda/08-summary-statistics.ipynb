{
 "cells": [
  {
   "cell_type": "markdown",
   "metadata": {
    "id": "cSViQQkoTXa2"
   },
   "source": [
    "# Summary & Descriptive Statistics\n",
    "\n",
    "The `.mean()`, `.median()`, `.describe()`, and `.agg()` arguments apply to columns with numeric data and typically ignore missing data.\n",
    "\n",
    "`.info()` is a good place to start to check data types."
   ]
  },
  {
   "cell_type": "code",
   "execution_count": null,
   "metadata": {
    "id": "iJ3XX1nfTqWc"
   },
   "outputs": [],
   "source": [
    "df.info() # show info"
   ]
  },
  {
   "cell_type": "markdown",
   "metadata": {
    "id": "yC2BMFhJTzpe"
   },
   "source": [
    "To convert the data type to integer:"
   ]
  },
  {
   "cell_type": "code",
   "execution_count": null,
   "metadata": {
    "id": "jadPtagPDt9u"
   },
   "outputs": [],
   "source": [
    "df = df.astype(int) # change datatype for all clumns\n",
    "df.info() # show updated technical summary"
   ]
  },
  {
   "cell_type": "markdown",
   "metadata": {
    "id": "-In1zRrhUXAe"
   },
   "source": [
    "Now we can start to explore summary statistics for specific columns."
   ]
  },
  {
   "cell_type": "code",
   "execution_count": null,
   "metadata": {
    "id": "PUrcI1lOUaS-"
   },
   "outputs": [],
   "source": [
    "df['AGEP'].mean() # mean value for PWGTP column"
   ]
  },
  {
   "cell_type": "code",
   "execution_count": null,
   "metadata": {
    "id": "xA6O7B-SUe6r"
   },
   "outputs": [],
   "source": [
    "df['AGEP'].median() # median vlaue for PWGTP column"
   ]
  },
  {
   "cell_type": "markdown",
   "metadata": {
    "id": "PDxdRS3tUksm"
   },
   "source": [
    "We can also use `.describe()` to get a predetermined set of summary statistics for all columns."
   ]
  },
  {
   "cell_type": "code",
   "execution_count": null,
   "metadata": {
    "id": "kTW5cTm7UsTz"
   },
   "outputs": [],
   "source": [
    "df.describe() # summary statistics for entire dataframe"
   ]
  },
  {
   "cell_type": "markdown",
   "metadata": {
    "id": "gWziZgZUU24v"
   },
   "source": [
    "We can use `.agg()` to return specific combinations of aggregate statistics for specific columns."
   ]
  },
  {
   "cell_type": "code",
   "execution_count": null,
   "metadata": {
    "id": "nJk5MYdZU5Zt"
   },
   "outputs": [],
   "source": [
    "df.agg(\n",
    "    {\n",
    "        'AGEP': ['min', 'max', 'median', 'mean', 'skew'],\n",
    "        'MAR': ['mean']\n",
    "    }\n",
    ")"
   ]
  },
  {
   "cell_type": "markdown",
   "metadata": {
    "id": "1f3By_w9VNqy"
   },
   "source": [
    "## Additional Resources\n",
    "\n",
    "- [Pandas documentation, \"Descriptive statistics\"](https://pandas.pydata.org/pandas-docs/stable/user_guide/basics.html#descriptive-statistics)\n",
    "- [Pandas documentation, \"How to calculate summary statistics\"](https://pandas.pydata.org/docs/getting_started/intro_tutorials/06_calculate_statistics.html)"
   ]
  }
 ],
 "metadata": {
  "colab": {
   "authorship_tag": "ABX9TyPe2C/3RU5VNDgzjpRAvGgo",
   "provenance": []
  },
  "kernelspec": {
   "display_name": "Python 3",
   "name": "python3"
  },
  "language_info": {
   "name": "python"
  }
 },
 "nbformat": 4,
 "nbformat_minor": 0
}