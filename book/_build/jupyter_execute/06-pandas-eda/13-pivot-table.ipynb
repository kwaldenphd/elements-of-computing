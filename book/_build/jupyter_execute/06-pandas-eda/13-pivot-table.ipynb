{
 "cells": [
  {
   "cell_type": "markdown",
   "metadata": {
    "id": "R_p-NSJEk5LZ"
   },
   "source": [
    "# Pivot Table"
   ]
  },
  {
   "cell_type": "code",
   "execution_count": null,
   "metadata": {
    "id": "uiya-DIruzVZ"
   },
   "outputs": [],
   "source": [
    "# general syntax\n",
    "DataFrame.pivot_table(self, values=None, index=None, columns=None, aggfunc='mean', fill_value=None, margins=False, dropna=True, margins_name='All', observed=False)"
   ]
  },
  {
   "cell_type": "markdown",
   "metadata": {
    "id": "gaiCwH8W6ymM"
   },
   "source": [
    "Parameters:\n",
    "- `index`\n",
    "  * Row-level grouping\n",
    "- `columns`\n",
    "  * Column-level grouping\n",
    "- `values`\n",
    "  * Numeric values that will be summarized  \n",
    "- `aggfunc`\n",
    "  * Summary statistic calculation\n",
    "\n",
    "Let's start with a `DataFrame`.\n",
    "\n",
    "<p align=\"center\"><img src=\"https://www.w3resource.com/w3r_images/pandas-dataframe-pivot_table.svg\"></p>"
   ]
  },
  {
   "cell_type": "code",
   "execution_count": null,
   "metadata": {
    "id": "tEQgCknF7aBg"
   },
   "outputs": [],
   "source": [
    "# import statements\n",
    "import numpy as np\n",
    "import pandas as pd\n",
    "\n",
    "# create df\n",
    "df = pd.DataFrame({\"P\": [\"f1\", \"f1\", \"f1\", \"f1\", \"f1\",\n",
    "                         \"b1\", \"b1\", \"b1\", \"b1\"],\n",
    "                   \"Q\": [\"one\", \"one\", \"one\", \"two\", \"two\",\n",
    "                         \"one\", \"one\", \"two\", \"two\"],\n",
    "                   \"R\": [\"small\", \"large\", \"large\", \"small\",\n",
    "                         \"small\", \"large\", \"small\", \"small\",\n",
    "                         \"large\"],\n",
    "                   \"S\": [1, 2, 2, 3, 3, 4, 5, 6, 7],\n",
    "                   \"T\": [2, 4, 5, 5, 6, 6, 8, 9, 9]})\n",
    "# show df\n",
    "df"
   ]
  },
  {
   "cell_type": "markdown",
   "metadata": {
    "id": "nLatpBlAlK0N"
   },
   "source": [
    "## Example #1\n",
    "\n",
    "<p align=\"center\"><img src=\"https://www.w3resource.com/w3r_images/pandas-dataframe-pivot_table-1.svg\"></p>\n",
    "\n",
    "In our first example...\n",
    "- Values in the `S` column will be summarized using Numpy's `sum` function\n",
    "- Values in the `P` & `Q` columns will be the row indices\n",
    "- Values in the `R` column will be the column index\n",
    "- Values in the `T` column will be dropped"
   ]
  },
  {
   "cell_type": "code",
   "execution_count": null,
   "metadata": {
    "id": "TbsCxcCJ775S"
   },
   "outputs": [],
   "source": [
    "# pivot table\n",
    "pd.pivot_table(df, values='S', index=['P', 'Q'],\n",
    "                    columns=['R'], aggfunc=np.sum)"
   ]
  },
  {
   "cell_type": "code",
   "execution_count": null,
   "metadata": {
    "id": "E0Q3LKZ1794o"
   },
   "outputs": [],
   "source": [
    "# assign to new df\n",
    "dfPivotTable = pd.pivot_table(df, values='S', index=['P', 'Q'],\n",
    "                    columns=['R'], aggfunc=np.sum)\n",
    "# show new df\n",
    "dfPivotTable"
   ]
  },
  {
   "cell_type": "markdown",
   "metadata": {
    "id": "owMeR-VYlbT5"
   },
   "source": [
    "## Example #2\n",
    "\n",
    "`.pivot_table()` has a few additional parameters that can be helpful, depending on what type of summary statistic you're using.\n",
    "\n",
    "- `fill_value`\n",
    "  * Value to replace missing values with\n",
    "- `dropna`\n",
    "  * Ignores columns with `NaN` values\n",
    "\n"
   ]
  },
  {
   "cell_type": "markdown",
   "metadata": {
    "id": "HFWDXjPk9AqR"
   },
   "source": [
    "<p align=\"center\"><img src=\"https://www.w3resource.com/w3r_images/pandas-dataframe-pivot_table-2.svg\"></p>"
   ]
  },
  {
   "cell_type": "code",
   "execution_count": null,
   "metadata": {
    "id": "iedlZ-FA8o0j"
   },
   "outputs": [],
   "source": [
    "# fill value example\n",
    "pd.pivot_table(df, values='S', index=['P', 'Q'],\n",
    "                    columns=['R'], aggfunc=np.sum, fill_value=0)"
   ]
  },
  {
   "cell_type": "code",
   "execution_count": null,
   "metadata": {
    "id": "hbSwrydI8ujD"
   },
   "outputs": [],
   "source": [
    "# dropna example\n",
    "pd.pivot_table(df, values='S', index=['P', 'Q'],\n",
    "                    columns=['R'], aggfunc=np.sum, dropna=True)"
   ]
  },
  {
   "cell_type": "markdown",
   "metadata": {
    "id": "u8UhLS9Sk_K4"
   },
   "source": [
    "## Additional Resources\n",
    "\n",
    "- [Pandas documentation](https://pandas.pydata.org/docs/reference/api/pandas.pivot_table.html)\n",
    "- [W3Resource](https://www.w3resource.com/pandas/dataframe/dataframe-pivot_table.php)"
   ]
  }
 ],
 "metadata": {
  "colab": {
   "authorship_tag": "ABX9TyPN7v353HYuN2gCJy4MwEF7",
   "provenance": []
  },
  "kernelspec": {
   "display_name": "Python 3",
   "name": "python3"
  },
  "language_info": {
   "name": "python"
  }
 },
 "nbformat": 4,
 "nbformat_minor": 0
}