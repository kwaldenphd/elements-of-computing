{
 "cells": [
  {
   "cell_type": "markdown",
   "metadata": {
    "id": "WKjHK1shG0zz"
   },
   "source": [
    "# Labels & Indexing\n",
    "\n",
    "We've already seen a few different ways to select specific rows and columns and filter based on different kinds of conditions.\n",
    "\n",
    "As a result or as part of data wrangling operations, you may need to rename columns or renumber the rows in a dataframe."
   ]
  },
  {
   "cell_type": "markdown",
   "metadata": {
    "id": "-6JSFQxxHFqR"
   },
   "source": [
    "## Renaming Columns\n",
    "\n",
    "We can use `.rename()` to rename columns in a dataframe."
   ]
  },
  {
   "cell_type": "code",
   "execution_count": null,
   "metadata": {
    "id": "tCRiQz-FIkQr"
   },
   "outputs": [],
   "source": [
    "# creating dataframe from API return\n",
    "import pandas as pd, requests, json # import statements\n",
    "page = requests\n",
    "r = requests.get(\"https://api.census.gov/data/2022/acs/acs1/pums?get=SEX,AGEP,MAR&SCHL=24\")\n",
    "data = r.json() # store response\n",
    "df = pd.DataFrame(data[1:], columns=data[0]) # create the dataframe, making the first sublist the column headers, and starting with the first row of data to avoid duplicating headers)\n",
    "df.info() # show output"
   ]
  },
  {
   "cell_type": "code",
   "execution_count": null,
   "metadata": {
    "id": "oIgWcYpnIxHq"
   },
   "outputs": [],
   "source": [
    "# renaming columns using a dictionary\n",
    "df2 = df.rename(columns={'SEX':'sex', 'AGEP': 'age', 'MAR': 'maritalStatus', 'SCHL': 'education'}, axis='columns')\n",
    "df2 # show output"
   ]
  },
  {
   "cell_type": "code",
   "execution_count": null,
   "metadata": {
    "id": "TkbiZ2teKc2r"
   },
   "outputs": [],
   "source": [
    "# renaming columns in place using index labels\n",
    "df.columns.values[0] = 'sex'\n",
    "df.columns.values[1] = 'age'\n",
    "df.columns.values[2] = 'maritalStatus'\n",
    "df.columns.values[3] = 'education'\n",
    "\n",
    "df # show output"
   ]
  },
  {
   "cell_type": "markdown",
   "metadata": {
    "id": "G-1L4oWlJxX8"
   },
   "source": [
    "## Reindexing\n",
    "\n",
    "We can also imagine a scenario in which you have sliced or filtered the data and now have row index labels that no longer make sense. For example, if your original rows had sequential numerical index labels, the transformed data will retain the original index labels. In these situations, we can reset the index to a simple ascending integer index using `.reset_index()`.\n"
   ]
  },
  {
   "cell_type": "code",
   "execution_count": null,
   "metadata": {
    "id": "1A7a_zDbEliA"
   },
   "outputs": [],
   "source": [
    "df = df.astype(int) # change datatype for all clumns\n",
    "subset = df[(df['maritalStatus'] == 2) | (df['age'] > 50)] # filter using two conditions and the OR operator\n",
    "subset.reset_index(inplace=True) # reset index\n",
    "subset # show output"
   ]
  },
  {
   "cell_type": "markdown",
   "metadata": {
    "id": "kBCdr0lUIrgj"
   },
   "source": [
    "## Working with Large Datasets\n",
    "\n",
    "Renaming columns is fairly manageable for our Census Bureau example. Let's look at the [raw data from the City of South bend's 2022 Digital Literacy Survey](https://data-southbend.opendata.arcgis.com/datasets/SouthBend::2022-digital-literacy-survey-raw-data/about), which includes 72 columns."
   ]
  },
  {
   "cell_type": "code",
   "execution_count": null,
   "metadata": {
    "id": "yXYG0M8m-GQS"
   },
   "outputs": [],
   "source": [
    "# creating dataframe from API return\n",
    "import pandas as pd, requests, json # import statements\n",
    "page = requests\n",
    "r = requests.get(\"https://opendata.arcgis.com/datasets/c97085b608604f5c8c07487c24dcaff4_0/FeatureServer/0/query?outFields=*&where=1%3D1\")\n",
    "data = r.json() # store response\n",
    "\n",
    "surveyData = [] # empty list for responses\n",
    "\n",
    "for d in data['features']: # iterate over list of dictionaries\n",
    "  surveyData.append(d['attributes']) # isolate value and append to list\n",
    "\n",
    "df = pd.DataFrame(surveyData) # create df\n",
    "df # show output"
   ]
  },
  {
   "cell_type": "markdown",
   "metadata": {
    "id": "MnApxbOCK_k7"
   },
   "source": [
    "There are different approaches for relabeling- I'm going to isolate the column labels in a separate metadata `DataFrame`, then relabel using my own variable codes."
   ]
  },
  {
   "cell_type": "code",
   "execution_count": null,
   "metadata": {
    "id": "gDK5PrdmGxnN"
   },
   "outputs": [],
   "source": [
    "metadata = pd.DataFrame(df.columns.tolist()) # create new dataframe with existing column labels\n",
    "metadata.rename(columns={0:'label'}, inplace=True) # rename column\n",
    "metadata # show output"
   ]
  },
  {
   "cell_type": "code",
   "execution_count": null,
   "metadata": {
    "id": "Yqq3NpY4MPYJ"
   },
   "outputs": [],
   "source": [
    "codes = [] # empty list for new codes\n",
    "for i in range(0,72):\n",
    "  codes.append(\"V\"+str(i))\n",
    "\n",
    "metadata['abbreviation'] = codes # add column with codes\n",
    "metadata # show output"
   ]
  },
  {
   "cell_type": "code",
   "execution_count": null,
   "metadata": {
    "id": "mrqA1f3-IkNs"
   },
   "outputs": [],
   "source": [
    "codes = dict(zip(metadata.label, metadata.abbreviation)) # create dictionary from dataframe\n",
    "codes # show output"
   ]
  },
  {
   "cell_type": "code",
   "execution_count": null,
   "metadata": {
    "id": "d3BcDFisONVR"
   },
   "outputs": [],
   "source": [
    "df.rename(columns=codes, inplace=True) # rename columns using dictionary\n",
    "df # show output"
   ]
  },
  {
   "cell_type": "markdown",
   "metadata": {
    "id": "o4zxET6eO2l4"
   },
   "source": [
    "In this example, the `metadata` DataFrame is crucial to understanding what each variable or column represents, similar to how the [Census Bureau API documentation](https://api.census.gov/data/2022/acs/acs1/pums/variables.html) is critical to make senes of that data."
   ]
  },
  {
   "cell_type": "markdown",
   "metadata": {
    "id": "PRsxZZFlPTD4"
   },
   "source": [
    "## Additional Resources\n",
    "\n",
    "For more on renaming, mapping & labels:\n",
    "- [Pandas documentation](https://pandas.pydata.org/docs/user_guide/basics.html#basics-rename)\n",
    "\n",
    "\n",
    "For more on indexing:\n",
    "- [Pandas documentation](https://pandas.pydata.org/pandas-docs/stable/user_guide/indexing.html?highlight=reindex#different-choices-for-indexing)"
   ]
  }
 ],
 "metadata": {
  "colab": {
   "authorship_tag": "ABX9TyOWZr8QY+O9lN1TT/W2VZze",
   "provenance": [],
   "toc_visible": true
  },
  "kernelspec": {
   "display_name": "Python 3",
   "name": "python3"
  },
  "language_info": {
   "name": "python"
  }
 },
 "nbformat": 4,
 "nbformat_minor": 0
}