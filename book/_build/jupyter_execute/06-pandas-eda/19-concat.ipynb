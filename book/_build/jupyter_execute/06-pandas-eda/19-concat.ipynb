{
 "cells": [
  {
   "cell_type": "markdown",
   "metadata": {
    "id": "BUFbT3SgzWSH"
   },
   "source": [
    "# `.concat()`\n",
    "\n",
    "While `.merge()` connects `DataFrames` based on one or more key fields, `concat` concatenates or \"stacks\" objects together along an axis."
   ]
  },
  {
   "cell_type": "code",
   "execution_count": null,
   "metadata": {
    "id": "TTciboRmzyx5"
   },
   "outputs": [],
   "source": [
    "# general syntax\n",
    "combined = pd.concat([df1, df2], axis=0)"
   ]
  },
  {
   "cell_type": "markdown",
   "metadata": {
    "id": "OkfDmjhV0A8l"
   },
   "source": [
    "Parameters:\n",
    "- `[]`: `DataFrame` variable names, as a list\n",
    "- `axis=`: axis to concatenate based on.\n",
    "\n",
    "The default for `.concat()` is axis 0, so the resulting table combines the input table rows.\n",
    "\n",
    "Remember in a `pandas` dataframe axis `0` is vertical (rows) and axis `1` is horizontal (columns)."
   ]
  },
  {
   "cell_type": "markdown",
   "metadata": {
    "id": "v5S7KNzctOhh"
   },
   "source": [
    "Let's work with a few air quality datasets.\n",
    "- `air_quality_no2` provies NO<sub>2</sub> values for three measurement stations.\n",
    "- `air_quality_pm25_long` provides PM<sub>25</sub> values (particulate matter less than 2.5 micrometers) for the same three measurement stations.\n",
    "- `air_quality_stations`  provides latitude and longitude coordinates for five different measurement stations.\n",
    "- `air_quality_parameters` provides parameter full description and name for five different element types."
   ]
  },
  {
   "cell_type": "code",
   "execution_count": null,
   "metadata": {
    "id": "MffyaoCLr0Zk"
   },
   "outputs": [],
   "source": [
    "import pandas as pd # import statement\n",
    "\n",
    "# load data\n",
    "no2 = pd.read_csv(\"https://raw.githubusercontent.com/kwaldenphd/eda-pandas/main/data/air_quality_no2_long.csv\", parse_dates=True)\n",
    "pm25 = pd.read_csv(\"https://raw.githubusercontent.com/kwaldenphd/eda-pandas/main/data/air_quality_pm25_long.csv\", parse_dates=True)\n",
    "stations = pd.read_csv(\"https://raw.githubusercontent.com/pandas-dev/pandas/main/doc/data/air_quality_stations.csv\")\n",
    "param = pd.read_csv(\"https://raw.githubusercontent.com/pandas-dev/pandas/main/doc/data/air_quality_parameters.csv\")"
   ]
  },
  {
   "cell_type": "markdown",
   "metadata": {
    "id": "G5N0XQOX0O6M"
   },
   "source": [
    "## Example #1\n",
    "\n",
    "\n",
    "<p align=\"center\"><a href=\"https://github.com/kwaldenphd/eda-pandas/blob/main/figures/Figure_10.svg?raw=true\"><img class=\"aligncenter\" src=\"https://github.com/kwaldenphd/eda-pandas/blob/main/figures/Figure_10.svg?raw=true\" /></a></p>\n",
    "\n",
    "Let's say we want to combine the NO<sub>2</sub> and PM<sub>25</sub> measurements in a single table. Since the two original tables have a similar strucure, we can perform a concatenation operation on multiple tables using one of the axes."
   ]
  },
  {
   "cell_type": "code",
   "execution_count": null,
   "metadata": {
    "id": "ALI92p3u0UUv"
   },
   "outputs": [],
   "source": [
    "combined = pd.concat([pm25, no2], axis=0) # concatenate\n",
    "combined # show output"
   ]
  },
  {
   "cell_type": "markdown",
   "metadata": {
    "id": "u0LLSYSp0fAj"
   },
   "source": [
    "We can use `.shape` and some quick arithmetic to verify the operation worked correctly.\n",
    "- `1110 + 2068 = 3178`"
   ]
  },
  {
   "cell_type": "code",
   "execution_count": null,
   "metadata": {
    "id": "MMIpsr7u0ja-"
   },
   "outputs": [],
   "source": [
    "pm25.shape # pm25 df shape"
   ]
  },
  {
   "cell_type": "code",
   "execution_count": null,
   "metadata": {
    "id": "RrJNvhn70nLY"
   },
   "outputs": [],
   "source": [
    "no2.shape # no2 df shape"
   ]
  },
  {
   "cell_type": "code",
   "execution_count": null,
   "metadata": {
    "id": "9yov7S280qEO"
   },
   "outputs": [],
   "source": [
    "combined.shape # combined df shape"
   ]
  },
  {
   "cell_type": "markdown",
   "metadata": {
    "id": "-Ap1u0R1033x"
   },
   "source": [
    "## Example #2\n",
    "\n",
    "In the first example, the combined data shows observations for both NO<sub>2</sub> and PM<sub>25</sub>.\n",
    "\n",
    "In a situation where we don't have something like the `parameter` column, we can add an additional row index can help identify the data source."
   ]
  },
  {
   "cell_type": "code",
   "execution_count": null,
   "metadata": {
    "id": "rSVhGGlA1F7x"
   },
   "outputs": [],
   "source": [
    "combined = pd.concat([pm25, no2], keys=[\"PM25\", \"NO2\"]) # concatenate and add a key\n",
    "combined # show output"
   ]
  },
  {
   "cell_type": "markdown",
   "metadata": {
    "id": "OunNE5Bp1Qp_"
   },
   "source": [
    "By giving a `keys` argument to the `.concat()` function, we create a hierarchical index or a MultiIndex."
   ]
  },
  {
   "cell_type": "markdown",
   "metadata": {
    "id": "FX-N0Qaj1Q4F"
   },
   "source": [
    "## Additional Resources\n",
    "\n",
    "Consult the `pandas` [documentation on object concatenation](https://pandas.pydata.org/pandas-docs/stable/user_guide/merging.html#merging-concat) for more on this function.\n"
   ]
  }
 ],
 "metadata": {
  "colab": {
   "authorship_tag": "ABX9TyMl8YEEVxHDJxULNrcor+4D",
   "provenance": [],
   "toc_visible": true
  },
  "kernelspec": {
   "display_name": "Python 3",
   "name": "python3"
  },
  "language_info": {
   "name": "python"
  }
 },
 "nbformat": 4,
 "nbformat_minor": 0
}