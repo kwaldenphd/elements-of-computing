{
 "cells": [
  {
   "cell_type": "markdown",
   "metadata": {
    "id": "tnjoU4Owl_CH"
   },
   "source": [
    "# Transpose\n",
    "\n",
    "`.transpose()` is another useful wrangling function, transposing rows/columns in a `DataFrame`.\n",
    "\n",
    "We can also access the `.transpose()` function using the `T` property.\n",
    "\n",
    "We'll start with a small `DataFrame`."
   ]
  },
  {
   "cell_type": "markdown",
   "metadata": {
    "id": "E0VwSmcXBE-F"
   },
   "source": [
    "<p align=\"center\"><img src=\"https://www.w3resource.com/w3r_images/pandas-dataframe-transpose.png\"></p>"
   ]
  },
  {
   "cell_type": "code",
   "execution_count": null,
   "metadata": {
    "id": "lDPo5GqomSqu"
   },
   "outputs": [],
   "source": [
    "import numpy as np, pandas as pd # import statements\n",
    "\n",
    "# create df\n",
    "df = pd.DataFrame(data={'c1': [2, 3], 'c2': [4, 5]})\n",
    "\n",
    "df # show output"
   ]
  },
  {
   "cell_type": "markdown",
   "metadata": {
    "id": "4AO809dLmeDE"
   },
   "source": [
    "## Example #1"
   ]
  },
  {
   "cell_type": "code",
   "execution_count": null,
   "metadata": {
    "id": "HkDAny8ABI6v"
   },
   "outputs": [],
   "source": [
    "df.transpose() # transpose example"
   ]
  },
  {
   "cell_type": "code",
   "execution_count": null,
   "metadata": {
    "id": "Hg6i_ZHeBMmJ"
   },
   "outputs": [],
   "source": [
    "df.T # alternate syntax"
   ]
  },
  {
   "cell_type": "code",
   "execution_count": null,
   "metadata": {
    "id": "QtYrOkvHBPDK"
   },
   "outputs": [],
   "source": [
    "dfTransposed = df.transpose() # create new df\n",
    "dfTransposed # show new df"
   ]
  },
  {
   "cell_type": "markdown",
   "metadata": {
    "id": "PXAiy6bEmp5r"
   },
   "source": [
    "## Example #2\n",
    "\n",
    "Another `.transpose()` example, using a DataFrame with different data types."
   ]
  },
  {
   "cell_type": "code",
   "execution_count": null,
   "metadata": {
    "id": "s0nm76K7Btga"
   },
   "outputs": [],
   "source": [
    "import numpy as np, pandas as pd # import statements\n",
    "\n",
    "# create df\n",
    "df = pd.DataFrame(data={'name': ['Jimmy', 'Monty'],\n",
    "      'score': [10.5, 9],\n",
    "      'employed': [False, True],\n",
    "      'kids': [0, 0]})\n",
    "\n",
    "df # show output"
   ]
  },
  {
   "cell_type": "code",
   "execution_count": null,
   "metadata": {
    "id": "3tM3dBZUB6aS"
   },
   "outputs": [],
   "source": [
    "# transpose syntax\n",
    "df.transpose()\n",
    "\n",
    "# alternate syntax\n",
    "# df.T\n",
    "\n",
    "# create new df\n",
    "# dfTransposed2 = df.transpose()"
   ]
  }
 ],
 "metadata": {
  "colab": {
   "authorship_tag": "ABX9TyO1kmVyOEPatcT/P/4NIetB",
   "provenance": []
  },
  "kernelspec": {
   "display_name": "Python 3",
   "name": "python3"
  },
  "language_info": {
   "name": "python"
  }
 },
 "nbformat": 4,
 "nbformat_minor": 0
}