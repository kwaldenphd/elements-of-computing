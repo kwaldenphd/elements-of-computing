{
 "cells": [
  {
   "cell_type": "markdown",
   "metadata": {
    "id": "7EvGLz7_fQw0"
   },
   "source": [
    "# Pivot\n"
   ]
  },
  {
   "cell_type": "code",
   "execution_count": null,
   "metadata": {
    "id": "vneXLW5spo_G"
   },
   "outputs": [],
   "source": [
    "# general syntax\n",
    "DataFrame.pivot(self, index=None, columns=None, values=None)"
   ]
  },
  {
   "cell_type": "markdown",
   "metadata": {
    "id": "VjzdVXZAyF6d"
   },
   "source": [
    "Parameters:\n",
    "- `index`\n",
    "  * Column that makes the new frame's index; if `None`, existing index is used\n",
    "- `columns`\n",
    "  * Existing column used to make new column(s)\n",
    "- `values`\n",
    "  * Existing column(s) that become values in newly-created columns; if no columns are specified, all columns are used, creating multi-index\n",
    "\n",
    "\n",
    "Let's start with a sample `DataFrame`."
   ]
  },
  {
   "cell_type": "markdown",
   "metadata": {
    "id": "r4_nzoXry4ID"
   },
   "source": [
    "<p align=\"center\"><img src=\"https://www.w3resource.com/w3r_images/pandas-dataframe-pivot.svg\"></p>"
   ]
  },
  {
   "cell_type": "code",
   "execution_count": null,
   "metadata": {
    "id": "f-bttwI5ysVz"
   },
   "outputs": [],
   "source": [
    "import numpy as np, pandas as pd # import statements\n",
    "\n",
    "# create df\n",
    "df = pd.DataFrame({'fff': ['one', 'one', 'one', 'two', 'two',\n",
    "                           'two'],\n",
    "                   'bbb': ['P', 'Q', 'R', 'P', 'Q', 'R'],\n",
    "                   'baa': [2, 3, 4, 5, 6, 7],\n",
    "                   'zzz': ['h', 'i', 'j', 'k', 'l', 'm']})\n",
    "df # show df"
   ]
  },
  {
   "cell_type": "markdown",
   "metadata": {
    "id": "SdwGsxVvzete"
   },
   "source": [
    "## Example #1\n",
    "\n",
    "Now we're going to use `.pivot()`:\n",
    "- Values in the `fff` column will become the row index\n",
    "- Values in the `bbb` column will become the column index\n",
    "- Values in the `baa` column will be mapped to the new row/column index\n",
    "- `zzz` column will be dropped"
   ]
  },
  {
   "cell_type": "markdown",
   "metadata": {
    "id": "FkLdlq45z2Rm"
   },
   "source": [
    "<p align=\"center\"><img src=\"https://www.w3resource.com/w3r_images/pandas-dataframe-pivot-1.svg\"></p>"
   ]
  },
  {
   "cell_type": "code",
   "execution_count": null,
   "metadata": {
    "id": "KqKgZVDjzdcw"
   },
   "outputs": [],
   "source": [
    "# show pivot operation\n",
    "df.pivot(index='fff', columns='bbb', values='baa')"
   ]
  },
  {
   "cell_type": "code",
   "execution_count": null,
   "metadata": {
    "id": "PJmaj1a-0IKS"
   },
   "outputs": [],
   "source": [
    "# alternate syntax for the same pivot operation; uses bracket syntax to select baa column values\n",
    "df.pivot(index='fff', columns='bbb')['baa']"
   ]
  },
  {
   "cell_type": "code",
   "execution_count": null,
   "metadata": {
    "id": "UJyV3h9nzxSY"
   },
   "outputs": [],
   "source": [
    "# assign pivot output to new df\n",
    "dfPivot = df.pivot(index='fff', columns='bbb', values='baa')\n",
    "\n",
    "# show new df\n",
    "dfPivot"
   ]
  },
  {
   "cell_type": "markdown",
   "metadata": {
    "id": "VEjWNlsHz94l"
   },
   "source": [
    "## Example #2\n",
    "\n",
    "An alternate `.pivot()` workflow for the original dataframe:\n",
    "- `fff` column values become the row index\n",
    "- `bbb` column values become the column index\n",
    "- `baa` AND `zzz` column values are mapped onto the new row/column index structure"
   ]
  },
  {
   "cell_type": "markdown",
   "metadata": {
    "id": "uufW4eJ80kGw"
   },
   "source": [
    "<p align=\"center\"><img src=\"https://www.w3resource.com/w3r_images/pandas-dataframe-pivot-2.svg\"></p>"
   ]
  },
  {
   "cell_type": "code",
   "execution_count": null,
   "metadata": {
    "id": "vxhIKI-Z0d9X"
   },
   "outputs": [],
   "source": [
    "# syntax for second pivot operation\n",
    "df.pivot(index='fff', columns='bbb', values=['baa', 'zzz'])"
   ]
  },
  {
   "cell_type": "code",
   "execution_count": null,
   "metadata": {
    "id": "fWwptKB30fz0"
   },
   "outputs": [],
   "source": [
    "# assign to new df\n",
    "dfPivot2 = df.pivot(index='fff', columns='bbb', values=['baa', 'zzz'])\n",
    "\n",
    "# show new df\n",
    "dfPivot2"
   ]
  },
  {
   "cell_type": "markdown",
   "metadata": {
    "id": "XxYnIZVhjsc4"
   },
   "source": [
    "## Additional Resources\n",
    "\n",
    "- [Pandas documentation](https://pandas.pydata.org/docs/reference/api/pandas.DataFrame.pivot.html)\n",
    "- [W3Resource](https://www.w3resource.com/pandas/dataframe/dataframe-pivot.php)"
   ]
  }
 ],
 "metadata": {
  "colab": {
   "authorship_tag": "ABX9TyNw0URhvbPUQEQ1FMjnaVkE",
   "provenance": [],
   "toc_visible": true
  },
  "kernelspec": {
   "display_name": "Python 3",
   "name": "python3"
  },
  "language_info": {
   "name": "python"
  }
 },
 "nbformat": 4,
 "nbformat_minor": 0
}