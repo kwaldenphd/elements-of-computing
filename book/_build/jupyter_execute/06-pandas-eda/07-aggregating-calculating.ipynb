{
 "cells": [
  {
   "cell_type": "markdown",
   "metadata": {
    "id": "3HLeCbLPTHtt"
   },
   "source": [
    "# Aggregating & Calculating\n",
    "\n",
    "We already started to see some of this functionality with `timeseries` data, but `Pandas` with built-in functionality for performing common mathematical and statistical calculations. Most of these mathematical methods fall under the umbrella of summary statistics."
   ]
  },
  {
   "cell_type": "code",
   "execution_count": null,
   "metadata": {
    "id": "yXYG0M8m-GQS"
   },
   "outputs": [],
   "source": [
    "# creating dataframe from API return\n",
    "import pandas as pd, requests, json # import statements\n",
    "page = requests\n",
    "r = requests.get(\"https://api.census.gov/data/2022/acs/acs1/pums?get=SEX,AGEP,MAR&SCHL=24\")\n",
    "data = r.json() # store response\n",
    "df = pd.DataFrame(data[1:], columns=data[0]) # create the dataframe, making the first sublist the column headers, and starting with the first row of data to avoid duplicating headers)\n",
    "# df # show output"
   ]
  },
  {
   "cell_type": "markdown",
   "metadata": {
    "id": "NTIn48z5aBfi"
   },
   "source": [
    "## This Section's Contents\n",
    "\n",
    "```{table of contents}\n",
    "```"
   ]
  }
 ],
 "metadata": {
  "colab": {
   "authorship_tag": "ABX9TyPVfcaQjDj/aNNSHmt/qBsV",
   "provenance": [],
   "toc_visible": true
  },
  "kernelspec": {
   "display_name": "Python 3",
   "name": "python3"
  },
  "language_info": {
   "name": "python"
  }
 },
 "nbformat": 4,
 "nbformat_minor": 0
}