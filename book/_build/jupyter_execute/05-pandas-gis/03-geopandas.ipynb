{
 "cells": [
  {
   "cell_type": "markdown",
   "metadata": {
    "id": "Zd8IEDYpZ-9i"
   },
   "source": [
    "# Geospatial Data, Python & Pandas\n",
    "\n",
    "<blockquote>\"GeoPandas, as the name suggests, extends the popular data science library pandas by adding support for geospatial data.\" (GeoPandas, \"<a href=\"https://geopandas.org/en/stable/getting_started/introduction.html\">Introduction to GeoPandas</a>\")</blockquote>\n",
    "\n",
    "You could spend a whole semester on `GeoPandas` and Python's geospatial data workflows. We'll cover some basic workflows and highlight additional resources if folks want to go further.\n"
   ]
  },
  {
   "cell_type": "markdown",
   "metadata": {
    "id": "RLlE6x6ca3XI"
   },
   "source": [
    "## Setup & Environment\n",
    "\n",
    "First, we'll need to install the `GeoPandas`.\n",
    "\n",
    "Installing and configuring `Geopandas` requires creating a new Python environment.\n",
    "\n",
    "A few resources that can get folks started:\n",
    "  \n",
    "- Anaconda\n",
    "  * Tanish Gupta, \"[Fastest Way to Install Geopandas in Jupyter Notebooks](https://medium.com/analytics-vidhya/fastest-way-to-install-geopandas-in-jupyter-notebook-on-windows-8f734e11fa2b)\" *Analytics Vidhya* (6 December 2020)\n",
    "  * Anaconda, \"[conda-forge packages, geopandas](https://anaconda.org/conda-forge/geopandas)\" *Anaconda documentation*\n",
    "  * GeoPandas, \"[Installation](https://geopandas.org/getting_started/install.html)\" *GeoPandas documentation*\n",
    "- Google CoLab\n",
    "  * Abdishakur Hassan, Jupyter notebook on using `geopandas` in Google CoLab, from \"[Geographic data science tutorials with Python](https://github.com/shakasom/GDS)\" *GitHub repository*\n",
    "    * [Google CoLab](https://colab.research.google.com/github/shakasom/GDS/blob/master/Part1%20-%20Introduction.ipynb)\n",
    "    * [GitHub](https://github.com/shakasom/GDS/blob/master/Part1%20-%20Introduction.ipynb)\n",
    "\n",
    "Additional `GeoPandas` resources:\n",
    "- Jonathan Soma, \"[Mapping with geopandas](https://jonathansoma.com/lede/foundations-2017/classes/geopandas/mapping-with-geopandas/)\" from 2017 \"[Foundations of Computing](https://jonathansoma.com/lede/foundations-2017/)\" course, Columbia Graduate School of Journalism\n",
    "- CoderzColumn, \"[Plotting Static Maps with geopandas](https://coderzcolumn.com/tutorials/data-science/plotting-static-maps-with-geopandas-working-with-geospatial-data)\" *CoderzColumn* (11 March 2020)\n",
    "- GeoPandas, \"[Plotting with Geoplot and GeoPandas](https://geopandas.org/gallery/plotting_with_geoplot.html)\" *GeoPandas documentation*"
   ]
  },
  {
   "cell_type": "code",
   "execution_count": 1,
   "metadata": {
    "colab": {
     "base_uri": "https://localhost:8080/"
    },
    "id": "Eq16r0AIZ8La",
    "outputId": "45d27225-6103-47dc-dd6d-070aee7edb6a"
   },
   "outputs": [
    {
     "name": "stdout",
     "output_type": "stream",
     "text": [
      "Requirement already satisfied: geopandas in /usr/local/lib/python3.10/dist-packages (0.13.2)\n",
      "Requirement already satisfied: fiona>=1.8.19 in /usr/local/lib/python3.10/dist-packages (from geopandas) (1.9.5)\n",
      "Requirement already satisfied: packaging in /usr/local/lib/python3.10/dist-packages (from geopandas) (23.2)\n",
      "Requirement already satisfied: pandas>=1.1.0 in /usr/local/lib/python3.10/dist-packages (from geopandas) (1.5.3)\n",
      "Requirement already satisfied: pyproj>=3.0.1 in /usr/local/lib/python3.10/dist-packages (from geopandas) (3.6.1)\n",
      "Requirement already satisfied: shapely>=1.7.1 in /usr/local/lib/python3.10/dist-packages (from geopandas) (2.0.2)\n",
      "Requirement already satisfied: attrs>=19.2.0 in /usr/local/lib/python3.10/dist-packages (from fiona>=1.8.19->geopandas) (23.2.0)\n",
      "Requirement already satisfied: certifi in /usr/local/lib/python3.10/dist-packages (from fiona>=1.8.19->geopandas) (2023.11.17)\n",
      "Requirement already satisfied: click~=8.0 in /usr/local/lib/python3.10/dist-packages (from fiona>=1.8.19->geopandas) (8.1.7)\n",
      "Requirement already satisfied: click-plugins>=1.0 in /usr/local/lib/python3.10/dist-packages (from fiona>=1.8.19->geopandas) (1.1.1)\n",
      "Requirement already satisfied: cligj>=0.5 in /usr/local/lib/python3.10/dist-packages (from fiona>=1.8.19->geopandas) (0.7.2)\n",
      "Requirement already satisfied: six in /usr/local/lib/python3.10/dist-packages (from fiona>=1.8.19->geopandas) (1.16.0)\n",
      "Requirement already satisfied: setuptools in /usr/local/lib/python3.10/dist-packages (from fiona>=1.8.19->geopandas) (67.7.2)\n",
      "Requirement already satisfied: python-dateutil>=2.8.1 in /usr/local/lib/python3.10/dist-packages (from pandas>=1.1.0->geopandas) (2.8.2)\n",
      "Requirement already satisfied: pytz>=2020.1 in /usr/local/lib/python3.10/dist-packages (from pandas>=1.1.0->geopandas) (2023.3.post1)\n",
      "Requirement already satisfied: numpy>=1.21.0 in /usr/local/lib/python3.10/dist-packages (from pandas>=1.1.0->geopandas) (1.23.5)\n"
     ]
    }
   ],
   "source": [
    "# if working in Google Colab\n",
    "!pip install geopandas"
   ]
  },
  {
   "cell_type": "code",
   "execution_count": 2,
   "metadata": {
    "id": "FvnZjqrsbTNi"
   },
   "outputs": [],
   "source": [
    "# import statements\n",
    "import pandas as pd, geopandas as gpd, json, requests"
   ]
  },
  {
   "cell_type": "markdown",
   "metadata": {
    "id": "XAFspqfwbXlK"
   },
   "source": [
    "## GeoDataFrame\n",
    "\n",
    "When possible, loading geospatial data (especially polygon data) through `GeoPandas` will simply other workflows.\n",
    "\n",
    "What distinguishes a `GeoDataFrame` from a standard `DataFrame`? The all important `geometry` column.\n",
    "\n",
    "For more on data structures in `GeoPandas`:\n",
    "- [GeoPandas documentation](https://geopandas.org/en/stable/docs/user_guide/data_structures.html)\n",
    "- [Spatial analysis with Python tutorial](https://sustainability-gis.readthedocs.io/en/latest/lessons/L1/intro-to-python-geostack.html)\n",
    "\n",
    "Let's work with the St. Joseph County zip code boundary file.\n",
    "- [Link to download](https://sjcgis-stjocogis.hub.arcgis.com/datasets/stjocogis::zip-code-boundaries-3/about)\n",
    "  * *Note: I've renamed this file `zip.geojson`.*"
   ]
  },
  {
   "cell_type": "code",
   "execution_count": 4,
   "metadata": {
    "colab": {
     "base_uri": "https://localhost:8080/",
     "height": 206
    },
    "id": "_RRxIBYmcyPc",
    "outputId": "166018a0-c0d3-4776-f8a2-a4208c4d2403"
   },
   "outputs": [
    {
     "data": {
      "text/html": [
       "\n",
       "  <div id=\"df-7c210c7d-bbcd-4528-96ca-604882f95fe8\" class=\"colab-df-container\">\n",
       "    <div>\n",
       "<style scoped>\n",
       "    .dataframe tbody tr th:only-of-type {\n",
       "        vertical-align: middle;\n",
       "    }\n",
       "\n",
       "    .dataframe tbody tr th {\n",
       "        vertical-align: top;\n",
       "    }\n",
       "\n",
       "    .dataframe thead th {\n",
       "        text-align: right;\n",
       "    }\n",
       "</style>\n",
       "<table border=\"1\" class=\"dataframe\">\n",
       "  <thead>\n",
       "    <tr style=\"text-align: right;\">\n",
       "      <th></th>\n",
       "      <th>FID</th>\n",
       "      <th>ZIP</th>\n",
       "      <th>City_Town</th>\n",
       "      <th>Shape__Area</th>\n",
       "      <th>Shape__Length</th>\n",
       "      <th>geometry</th>\n",
       "    </tr>\n",
       "  </thead>\n",
       "  <tbody>\n",
       "    <tr>\n",
       "      <th>0</th>\n",
       "      <td>1</td>\n",
       "      <td>46506</td>\n",
       "      <td>Bremen</td>\n",
       "      <td>1.836947e+08</td>\n",
       "      <td>71554.432719</td>\n",
       "      <td>POLYGON ((-86.09920 41.50815, -86.09914 41.500...</td>\n",
       "    </tr>\n",
       "    <tr>\n",
       "      <th>1</th>\n",
       "      <td>2</td>\n",
       "      <td>46530</td>\n",
       "      <td>Granger</td>\n",
       "      <td>1.074689e+08</td>\n",
       "      <td>59262.193560</td>\n",
       "      <td>POLYGON ((-86.06268 41.73220, -86.06268 41.731...</td>\n",
       "    </tr>\n",
       "    <tr>\n",
       "      <th>2</th>\n",
       "      <td>3</td>\n",
       "      <td>46536</td>\n",
       "      <td>Lakeville</td>\n",
       "      <td>1.207107e+08</td>\n",
       "      <td>50337.989555</td>\n",
       "      <td>POLYGON ((-86.24495 41.56449, -86.24457 41.563...</td>\n",
       "    </tr>\n",
       "    <tr>\n",
       "      <th>3</th>\n",
       "      <td>4</td>\n",
       "      <td>46544</td>\n",
       "      <td>Mishawaka</td>\n",
       "      <td>1.790765e+08</td>\n",
       "      <td>78110.454324</td>\n",
       "      <td>POLYGON ((-86.06125 41.60846, -86.06126 41.608...</td>\n",
       "    </tr>\n",
       "    <tr>\n",
       "      <th>4</th>\n",
       "      <td>5</td>\n",
       "      <td>46545</td>\n",
       "      <td>Mishawaka</td>\n",
       "      <td>7.911272e+07</td>\n",
       "      <td>56893.621236</td>\n",
       "      <td>POLYGON ((-86.09635 41.72453, -86.09639 41.719...</td>\n",
       "    </tr>\n",
       "  </tbody>\n",
       "</table>\n",
       "</div>\n",
       "    <div class=\"colab-df-buttons\">\n",
       "\n",
       "  <div class=\"colab-df-container\">\n",
       "    <button class=\"colab-df-convert\" onclick=\"convertToInteractive('df-7c210c7d-bbcd-4528-96ca-604882f95fe8')\"\n",
       "            title=\"Convert this dataframe to an interactive table.\"\n",
       "            style=\"display:none;\">\n",
       "\n",
       "  <svg xmlns=\"http://www.w3.org/2000/svg\" height=\"24px\" viewBox=\"0 -960 960 960\">\n",
       "    <path d=\"M120-120v-720h720v720H120Zm60-500h600v-160H180v160Zm220 220h160v-160H400v160Zm0 220h160v-160H400v160ZM180-400h160v-160H180v160Zm440 0h160v-160H620v160ZM180-180h160v-160H180v160Zm440 0h160v-160H620v160Z\"/>\n",
       "  </svg>\n",
       "    </button>\n",
       "\n",
       "  <style>\n",
       "    .colab-df-container {\n",
       "      display:flex;\n",
       "      gap: 12px;\n",
       "    }\n",
       "\n",
       "    .colab-df-convert {\n",
       "      background-color: #E8F0FE;\n",
       "      border: none;\n",
       "      border-radius: 50%;\n",
       "      cursor: pointer;\n",
       "      display: none;\n",
       "      fill: #1967D2;\n",
       "      height: 32px;\n",
       "      padding: 0 0 0 0;\n",
       "      width: 32px;\n",
       "    }\n",
       "\n",
       "    .colab-df-convert:hover {\n",
       "      background-color: #E2EBFA;\n",
       "      box-shadow: 0px 1px 2px rgba(60, 64, 67, 0.3), 0px 1px 3px 1px rgba(60, 64, 67, 0.15);\n",
       "      fill: #174EA6;\n",
       "    }\n",
       "\n",
       "    .colab-df-buttons div {\n",
       "      margin-bottom: 4px;\n",
       "    }\n",
       "\n",
       "    [theme=dark] .colab-df-convert {\n",
       "      background-color: #3B4455;\n",
       "      fill: #D2E3FC;\n",
       "    }\n",
       "\n",
       "    [theme=dark] .colab-df-convert:hover {\n",
       "      background-color: #434B5C;\n",
       "      box-shadow: 0px 1px 3px 1px rgba(0, 0, 0, 0.15);\n",
       "      filter: drop-shadow(0px 1px 2px rgba(0, 0, 0, 0.3));\n",
       "      fill: #FFFFFF;\n",
       "    }\n",
       "  </style>\n",
       "\n",
       "    <script>\n",
       "      const buttonEl =\n",
       "        document.querySelector('#df-7c210c7d-bbcd-4528-96ca-604882f95fe8 button.colab-df-convert');\n",
       "      buttonEl.style.display =\n",
       "        google.colab.kernel.accessAllowed ? 'block' : 'none';\n",
       "\n",
       "      async function convertToInteractive(key) {\n",
       "        const element = document.querySelector('#df-7c210c7d-bbcd-4528-96ca-604882f95fe8');\n",
       "        const dataTable =\n",
       "          await google.colab.kernel.invokeFunction('convertToInteractive',\n",
       "                                                    [key], {});\n",
       "        if (!dataTable) return;\n",
       "\n",
       "        const docLinkHtml = 'Like what you see? Visit the ' +\n",
       "          '<a target=\"_blank\" href=https://colab.research.google.com/notebooks/data_table.ipynb>data table notebook</a>'\n",
       "          + ' to learn more about interactive tables.';\n",
       "        element.innerHTML = '';\n",
       "        dataTable['output_type'] = 'display_data';\n",
       "        await google.colab.output.renderOutput(dataTable, element);\n",
       "        const docLink = document.createElement('div');\n",
       "        docLink.innerHTML = docLinkHtml;\n",
       "        element.appendChild(docLink);\n",
       "      }\n",
       "    </script>\n",
       "  </div>\n",
       "\n",
       "\n",
       "<div id=\"df-bb397ab2-dee8-493c-b6e2-a69d84905315\">\n",
       "  <button class=\"colab-df-quickchart\" onclick=\"quickchart('df-bb397ab2-dee8-493c-b6e2-a69d84905315')\"\n",
       "            title=\"Suggest charts\"\n",
       "            style=\"display:none;\">\n",
       "\n",
       "<svg xmlns=\"http://www.w3.org/2000/svg\" height=\"24px\"viewBox=\"0 0 24 24\"\n",
       "     width=\"24px\">\n",
       "    <g>\n",
       "        <path d=\"M19 3H5c-1.1 0-2 .9-2 2v14c0 1.1.9 2 2 2h14c1.1 0 2-.9 2-2V5c0-1.1-.9-2-2-2zM9 17H7v-7h2v7zm4 0h-2V7h2v10zm4 0h-2v-4h2v4z\"/>\n",
       "    </g>\n",
       "</svg>\n",
       "  </button>\n",
       "\n",
       "<style>\n",
       "  .colab-df-quickchart {\n",
       "      --bg-color: #E8F0FE;\n",
       "      --fill-color: #1967D2;\n",
       "      --hover-bg-color: #E2EBFA;\n",
       "      --hover-fill-color: #174EA6;\n",
       "      --disabled-fill-color: #AAA;\n",
       "      --disabled-bg-color: #DDD;\n",
       "  }\n",
       "\n",
       "  [theme=dark] .colab-df-quickchart {\n",
       "      --bg-color: #3B4455;\n",
       "      --fill-color: #D2E3FC;\n",
       "      --hover-bg-color: #434B5C;\n",
       "      --hover-fill-color: #FFFFFF;\n",
       "      --disabled-bg-color: #3B4455;\n",
       "      --disabled-fill-color: #666;\n",
       "  }\n",
       "\n",
       "  .colab-df-quickchart {\n",
       "    background-color: var(--bg-color);\n",
       "    border: none;\n",
       "    border-radius: 50%;\n",
       "    cursor: pointer;\n",
       "    display: none;\n",
       "    fill: var(--fill-color);\n",
       "    height: 32px;\n",
       "    padding: 0;\n",
       "    width: 32px;\n",
       "  }\n",
       "\n",
       "  .colab-df-quickchart:hover {\n",
       "    background-color: var(--hover-bg-color);\n",
       "    box-shadow: 0 1px 2px rgba(60, 64, 67, 0.3), 0 1px 3px 1px rgba(60, 64, 67, 0.15);\n",
       "    fill: var(--button-hover-fill-color);\n",
       "  }\n",
       "\n",
       "  .colab-df-quickchart-complete:disabled,\n",
       "  .colab-df-quickchart-complete:disabled:hover {\n",
       "    background-color: var(--disabled-bg-color);\n",
       "    fill: var(--disabled-fill-color);\n",
       "    box-shadow: none;\n",
       "  }\n",
       "\n",
       "  .colab-df-spinner {\n",
       "    border: 2px solid var(--fill-color);\n",
       "    border-color: transparent;\n",
       "    border-bottom-color: var(--fill-color);\n",
       "    animation:\n",
       "      spin 1s steps(1) infinite;\n",
       "  }\n",
       "\n",
       "  @keyframes spin {\n",
       "    0% {\n",
       "      border-color: transparent;\n",
       "      border-bottom-color: var(--fill-color);\n",
       "      border-left-color: var(--fill-color);\n",
       "    }\n",
       "    20% {\n",
       "      border-color: transparent;\n",
       "      border-left-color: var(--fill-color);\n",
       "      border-top-color: var(--fill-color);\n",
       "    }\n",
       "    30% {\n",
       "      border-color: transparent;\n",
       "      border-left-color: var(--fill-color);\n",
       "      border-top-color: var(--fill-color);\n",
       "      border-right-color: var(--fill-color);\n",
       "    }\n",
       "    40% {\n",
       "      border-color: transparent;\n",
       "      border-right-color: var(--fill-color);\n",
       "      border-top-color: var(--fill-color);\n",
       "    }\n",
       "    60% {\n",
       "      border-color: transparent;\n",
       "      border-right-color: var(--fill-color);\n",
       "    }\n",
       "    80% {\n",
       "      border-color: transparent;\n",
       "      border-right-color: var(--fill-color);\n",
       "      border-bottom-color: var(--fill-color);\n",
       "    }\n",
       "    90% {\n",
       "      border-color: transparent;\n",
       "      border-bottom-color: var(--fill-color);\n",
       "    }\n",
       "  }\n",
       "</style>\n",
       "\n",
       "  <script>\n",
       "    async function quickchart(key) {\n",
       "      const quickchartButtonEl =\n",
       "        document.querySelector('#' + key + ' button');\n",
       "      quickchartButtonEl.disabled = true;  // To prevent multiple clicks.\n",
       "      quickchartButtonEl.classList.add('colab-df-spinner');\n",
       "      try {\n",
       "        const charts = await google.colab.kernel.invokeFunction(\n",
       "            'suggestCharts', [key], {});\n",
       "      } catch (error) {\n",
       "        console.error('Error during call to suggestCharts:', error);\n",
       "      }\n",
       "      quickchartButtonEl.classList.remove('colab-df-spinner');\n",
       "      quickchartButtonEl.classList.add('colab-df-quickchart-complete');\n",
       "    }\n",
       "    (() => {\n",
       "      let quickchartButtonEl =\n",
       "        document.querySelector('#df-bb397ab2-dee8-493c-b6e2-a69d84905315 button');\n",
       "      quickchartButtonEl.style.display =\n",
       "        google.colab.kernel.accessAllowed ? 'block' : 'none';\n",
       "    })();\n",
       "  </script>\n",
       "</div>\n",
       "    </div>\n",
       "  </div>\n"
      ],
      "text/plain": [
       "   FID    ZIP  City_Town   Shape__Area  Shape__Length  \\\n",
       "0    1  46506     Bremen  1.836947e+08   71554.432719   \n",
       "1    2  46530    Granger  1.074689e+08   59262.193560   \n",
       "2    3  46536  Lakeville  1.207107e+08   50337.989555   \n",
       "3    4  46544  Mishawaka  1.790765e+08   78110.454324   \n",
       "4    5  46545  Mishawaka  7.911272e+07   56893.621236   \n",
       "\n",
       "                                            geometry  \n",
       "0  POLYGON ((-86.09920 41.50815, -86.09914 41.500...  \n",
       "1  POLYGON ((-86.06268 41.73220, -86.06268 41.731...  \n",
       "2  POLYGON ((-86.24495 41.56449, -86.24457 41.563...  \n",
       "3  POLYGON ((-86.06125 41.60846, -86.06126 41.608...  \n",
       "4  POLYGON ((-86.09635 41.72453, -86.09639 41.719...  "
      ]
     },
     "execution_count": 4,
     "metadata": {},
     "output_type": "execute_result"
    }
   ],
   "source": [
    "gdf = gpd.read_file(\"zip.geojson\") # load file\n",
    "gdf.head() # show geo dataframe head"
   ]
  },
  {
   "cell_type": "code",
   "execution_count": 5,
   "metadata": {
    "colab": {
     "base_uri": "https://localhost:8080/"
    },
    "id": "x6Nyp7Awc9j2",
    "outputId": "224ed4ac-3dad-4455-a527-10cd27640826"
   },
   "outputs": [
    {
     "name": "stdout",
     "output_type": "stream",
     "text": [
      "<class 'geopandas.geodataframe.GeoDataFrame'>\n",
      "RangeIndex: 23 entries, 0 to 22\n",
      "Data columns (total 6 columns):\n",
      " #   Column         Non-Null Count  Dtype   \n",
      "---  ------         --------------  -----   \n",
      " 0   FID            23 non-null     int64   \n",
      " 1   ZIP            23 non-null     object  \n",
      " 2   City_Town      23 non-null     object  \n",
      " 3   Shape__Area    23 non-null     float64 \n",
      " 4   Shape__Length  23 non-null     float64 \n",
      " 5   geometry       23 non-null     geometry\n",
      "dtypes: float64(2), geometry(1), int64(1), object(2)\n",
      "memory usage: 1.2+ KB\n"
     ]
    }
   ],
   "source": [
    "gdf.info() # show geodataframe info"
   ]
  },
  {
   "cell_type": "markdown",
   "metadata": {
    "id": "ol4IA5R6dCqV"
   },
   "source": [
    "Folks should notice the similarity with `Pandas` syntax and workflows, with some additional data types and file handling functionality."
   ]
  },
  {
   "cell_type": "markdown",
   "metadata": {
    "id": "1xtr59OrdNMM"
   },
   "source": [
    "## Attribute Data\n",
    "\n",
    "Now that we have a `GeoDataFrame`, we might want attribute data that connects with our geospatial data.\n",
    "\n",
    "For example, we might want to be able to connect educational outcome attribute data from the American Community Survey with the zip code boundary file.\n",
    "- <a href=\"https://data.census.gov/table/ACSST5Y2022.S1501?t=Education:Educational Attainment&g=050XX00US18141,18141$8600000&moe=false\">Link to the ACS dataset</a>\n",
    "  * *Note: I'm working with 2022's 5 year estimate, which I've renamed `data.csv`.*"
   ]
  },
  {
   "cell_type": "code",
   "execution_count": 51,
   "metadata": {
    "id": "ld_M1AxgfkIt"
   },
   "outputs": [],
   "source": [
    "df = pd.read_csv(\"data.csv\") # load attribute data\n",
    "# df # show df"
   ]
  },
  {
   "cell_type": "markdown",
   "metadata": {
    "id": "qix8-z7OpdxG"
   },
   "source": [
    "We'll cover more on reshaping data in Pandas in a future chapter, so I'm not goint to provide in-depth explanations for all the steps happening here. More to come soon!"
   ]
  },
  {
   "cell_type": "code",
   "execution_count": null,
   "metadata": {
    "id": "U7Hrwt0Lmy44"
   },
   "outputs": [],
   "source": [
    "df.columns = df.columns.str.split(\"!!\", 2, expand=True) # split column headers into multi-level index based on separator\n",
    "df = df.T # transpose dataframe\n",
    "header = df.iloc[0] # isolate first row to be new header\n",
    "df = df[1:] # subset dataframe (everything past the first row)\n",
    "df.columns = header # reassign headers\n",
    "df = df.reset_index() # reset the index\n",
    "df.columns.values[0] = 'Area' # rename columns\n",
    "df.columns.values[1] = 'Coverage'\n",
    "df.columns.values[2] = 'Type'\n",
    "# df # show updated df"
   ]
  },
  {
   "cell_type": "markdown",
   "metadata": {
    "id": "iKZvh5isqmpB"
   },
   "source": [
    "Again, more on these kinds of data reshaping operations to come. But we're close to being able to connect our attribute data with our polygon data.\n",
    "\n",
    "We just need to remove the `ZCTA5` string from the `Area` column. We can do that using regular expressions."
   ]
  },
  {
   "cell_type": "code",
   "execution_count": null,
   "metadata": {
    "id": "9Yk0e2RDrTOI"
   },
   "outputs": [],
   "source": [
    "df['Area'] = df['Area'].str.replace(\"ZCTA5 \", \"\")\n",
    "df"
   ]
  },
  {
   "cell_type": "markdown",
   "metadata": {
    "id": "jDRAck1rrrrl"
   },
   "source": [
    "## Workflows\n",
    "\n",
    "`GeoPandas` will come in especially handy when we start exploring visualization.\n",
    "\n",
    "But `GeoPandas` can also hlep with connecting geospatial data with attribute data."
   ]
  },
  {
   "cell_type": "code",
   "execution_count": null,
   "metadata": {
    "id": "t2LlcMsKr6sY"
   },
   "outputs": [],
   "source": [
    "merged = gdf.merge(df, left_on=\"ZIP\", right_on=\"Area\") # merged attribute and geospatial data\n",
    "merged # show merged geodataframe"
   ]
  },
  {
   "cell_type": "markdown",
   "metadata": {
    "id": "yAH190irsSug"
   },
   "source": [
    "## Additional Resources\n",
    "\n",
    "We'll come back to `GeoPandas` when we start exploring data visualization.\n",
    "\n",
    "But we're only scratching the surface of the data tasks and workflows `GeoPandas` can facilitate. A good place to start is the [GeoPandas User Guide](https://geopandas.org/en/stable/docs/user_guide.html)."
   ]
  }
 ],
 "metadata": {
  "colab": {
   "provenance": [],
   "toc_visible": true
  },
  "kernelspec": {
   "display_name": "Python 3",
   "name": "python3"
  },
  "language_info": {
   "name": "python"
  }
 },
 "nbformat": 4,
 "nbformat_minor": 0
}