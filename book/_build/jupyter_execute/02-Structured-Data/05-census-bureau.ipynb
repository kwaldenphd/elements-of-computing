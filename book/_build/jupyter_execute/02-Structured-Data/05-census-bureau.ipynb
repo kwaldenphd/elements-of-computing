{
 "cells": [
  {
   "cell_type": "markdown",
   "metadata": {
    "id": "Oc6b2xTnZpLU"
   },
   "source": [
    "# U.S. Census Bureau\n",
    "\n",
    "As we've seen previously, the U.S. Census Bureau collects a wealth of information about people, households, communities, etc. They also have a [number of APIs](https://www.census.gov/data/developers/data-sets.html) and a [robust user community](https://www.census.gov/data/what-is-data-census-gov/guidance-for-data-users/how-to-materials-for-using-the-census-api.html).\n",
    "\n",
    "<p align=\"center\"><a href=\"https://github.com/kwaldenphd/apis-python/blob/main/Figure_2.png?raw=true\"><img class=\"aligncenter\" src=\"https://github.com/kwaldenphd/apis-python/blob/main/Figure_2.png?raw=true\" /></a></p>\n",
    "\n",
    "Unlike the APIs we encountered in the previous section of the lab, the Census Bureau's API requires a key. Head to the Census Bureau's [\"About\"](https://www.census.gov/data/developers/about.html) page for developers and click the \"Request a Key\" icon. Once you've completed the \"Request a Key\" form, you should receive an API key via email. This will look like a long string of letters and numbers.\n",
    "- *It's fine to use your name or \"University of Notre Dame\" for \"Organization Name\"*\n",
    "\n",
    "\n"
   ]
  },
  {
   "cell_type": "markdown",
   "metadata": {
    "id": "5CZ7IlUEbHxr"
   },
   "source": [
    "## Selecting a Dataset\n",
    "\n",
    "<p align=\"center\"><a href=\"https://github.com/kwaldenphd/elements-of-computing/blob/main/book/images/census1.jpg?raw=true\"><img class=\"aligncenter\" width=1000 src=\"https://github.com/kwaldenphd/elements-of-computing/blob/main/book/images/census1.jpg?raw=true\" /></a></p>\n",
    "\n",
    "The first step is figuring out what Census Bureau dataset and API you want to work with. One option is to use [data.census.gov](https://data.census.gov/)'s data explorer interface. Keyword search results can point you to datasets of interest (which you would then have to track down in the API documentation).\n",
    "\n",
    "<p align=\"center\"><a href=\"https://github.com/kwaldenphd/elements-of-computing/blob/main/book/images/census2.jpg?raw=true\"><img class=\"aligncenter\" width=500 src=\"https://github.com/kwaldenphd/elements-of-computing/blob/main/book/images/census2.jpg?raw=true\" /></a></p>\n",
    "\n",
    "Looking at the APIs for [specific Census Bureau data collection instruments](https://www.census.gov/data/developers/data-sets.html) is also a place to start.\n",
    "\n",
    "<p align=\"center\"><a href=\"https://github.com/kwaldenphd/elements-of-computing/blob/main/book/images/census3.jpg?raw=true\"><img class=\"aligncenter\" width=1000 src=\"https://github.com/kwaldenphd/elements-of-computing/blob/main/book/images/census3.jpg?raw=true\" /></a></p>\n",
    "\n",
    "<p align=\"center\"><a href=\"https://github.com/kwaldenphd/elements-of-computing/blob/main/book/images/census4.jpg?raw=true\"><img class=\"aligncenter\" width=1000 src=\"https://github.com/kwaldenphd/elements-of-computing/blob/main/book/images/census4.jpg?raw=true\" /></a></p>\n",
    "\n",
    "You could also jump into the [API Discovery Tool](https://www.census.gov/data/developers/updates/new-discovery-tool.html), which is available in a couple different formats. This is a machine-readable inventory of Census Bureau datatasets. It can also be slightly overwhelming.\n",
    "\n",
    "For this example, I'm going to use microdata from the American Community Survey, specifically the \"[2022 American Community Survey 1-Year Estimates Public Use Microdata Sample (2005-2019, 2021, 2022)](https://www.census.gov/data/developers/data-sets/census-microdata-api.ACS_1-Year_PUMS.html#accordion-container-accordion-4ad4d2b1b3).\"\n",
    "- [Link to the API documentation](https://www.census.gov/data/developers/data-sets/census-microdata-api.ACS_1-Year_PUMS.html#accordion-container-accordion-4ad4d2b1b3)"
   ]
  },
  {
   "cell_type": "markdown",
   "metadata": {
    "id": "H7z80dQlbKWT"
   },
   "source": [
    "## Constructing Your Query\n",
    "\n",
    "Before you jump into writing the API call in Python, use the available documentation to make sense of how the URL is structured, what variables are included in the dataset, etc.\n",
    "\n",
    "Note that for the Census Bureau API, your key is part of the URL. Concatenation and a string variable can be helpful here.\n",
    "\n",
    "Let's break down one of the example URLs included in the documentation for this survey.\n",
    "\n",
    "```\n",
    "https://api.census.gov/data/2022/acs/acs1/pums?get=SEX,PWGTP,MAR&SCHL=24&key=YOUR_KEY_GOES_HERE\n",
    "```\n",
    "\n",
    "We can start to break down the pieces of information included here:\n",
    "- Root: `https://api.census.gov/data`\n",
    "- Survey: `acs` (American Community Survey)\n",
    "- Coverage: `acs1` (1 year estimates)\n",
    "- Subset: `pums` (Public Use Microdata Sample)\n",
    "- Query: `?get=` (prefix for selecting specific variables)\n",
    "- Variables: `SEX,PWGTP,MAR&SCHL=24` (codes for specific variables, from [the documentation](https://api.census.gov/data/2022/acs/acs1/pums/variables.html))\n",
    "  * NOTE: In this example, the URL is structured to select all values for the `SEX`, `PWGTP`, `MAR` variables. This query will only return records where the `SCHL` variable value is `24`.\n",
    "  * In a scenario where we are not filtering for specific variable values, we could just include variable names separated by commas (i.e. `SEX, PWGTP, MAR, SCHL`)\n",
    "- `&key=` (prefix for entering your API key)"
   ]
  },
  {
   "cell_type": "markdown",
   "metadata": {
    "id": "yRA5PHeJbNJJ"
   },
   "source": [
    "## Writing the API Call\n",
    "\n",
    "Remember our general API workflow:\n",
    "- Customize query URL\n",
    "- Load response in Python\n",
    "- Parse the data structure to isolate the data we want\n",
    "- Store that data as a Pandas `DataFrame`\n"
   ]
  },
  {
   "cell_type": "code",
   "execution_count": null,
   "metadata": {
    "id": "ZofoEde_bOed"
   },
   "outputs": [],
   "source": [
    "import requests, pandas as pd # import statements\n",
    "key = \"\" # add your key to make this a string variable\n",
    "url = f\"https://api.census.gov/data/2022/acs/acs1/pums?get=SEX,PWGTP,MAR&SCHL=24&key={key}\" # use f strings and concatenation to construct the query\n",
    "r = requests.get(url) # requests data\n",
    "data = r.json() # store response\n",
    "df = pd.DataFrame(data[1:], columns=data[0]) # create the dataframe, making the first sublist the column headers, and starting with the first row of data to avoid duplicating headers)\n",
    "print(df) # show output"
   ]
  },
  {
   "cell_type": "markdown",
   "metadata": {
    "id": "6ZDLkE_-bQux"
   },
   "source": [
    "## Additional Resources\n",
    "\n",
    "This is an example query- there are lots of ways to customize Census Bureau API requests. Check out [`census-docs`](https://census-docs.com/) and the Census Bureau's API documentation for more info.\n",
    "- For example, if we just wanted data for Indiana, we could add the `in` parameter to your URL: 'api.census.gov/data/2022/acs/acs1/pums?get=SEX,PWGTP,MAR&SCHL=24&in=state:17&key=`\n",
    "\n",
    "Some datasets include `Groups`, which let you return multiple related variables.\n",
    "- [Link to more information on groups](https://www.census.gov/data/developers/updates/groups-functionality.html)\n",
    "\n",
    "DataMade also has a Python wrapper for the Census Bureau APIs, which is designed to streamline programming workflows.\n",
    "- [Link to more information](https://github.com/datamade/census)\n",
    "\n",
    "The Census Bureau APIs can be overwhelming, but they're a powerful tool for accessing data. Wading through the documentation is worth your time."
   ]
  },
  {
   "cell_type": "markdown",
   "metadata": {
    "id": "GS-NoE_zbR1C"
   },
   "source": [
    "## Application\n",
    "\n",
    "Q4A: Write your own Census Bureau API call.\n",
    "\n",
    "You could use the same dataset as the example and modify the year, variables, geographic scope, etc.\n",
    "\n",
    "You could also explore other datasets.\n",
    "\n",
    "Q4B: What kinds of information are available in the documentation? How does that material help us start to make sense of this data?\n",
    "\n",
    "Q4C: Write a program that stores the API return in Python as a Pandas `DataFrame`, using the workflows covered in this lab.\n",
    "\n",
    "Answer to this question includes program + comments that document process and explain your code.\n",
    "\n",
    "Q4D: What challenges did you encounter? How did you address or solve them?"
   ]
  }
 ],
 "metadata": {
  "colab": {
   "authorship_tag": "ABX9TyMoTw4nF/DQ8vB5d9aip+iN",
   "provenance": [],
   "toc_visible": true
  },
  "kernelspec": {
   "display_name": "Python 3",
   "name": "python3"
  },
  "language_info": {
   "name": "python"
  }
 },
 "nbformat": 4,
 "nbformat_minor": 0
}