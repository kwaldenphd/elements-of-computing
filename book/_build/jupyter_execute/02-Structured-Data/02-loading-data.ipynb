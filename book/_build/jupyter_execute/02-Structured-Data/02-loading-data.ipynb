{
 "cells": [
  {
   "cell_type": "markdown",
   "metadata": {
    "id": "yAb9n47aWYlm"
   },
   "source": [
    "# Loading Structured Data in Python\n",
    "\n",
    "Much of our work this semester will utilize `Pandas`, a powerful Python library for working with structured data. But we can also work with structured data using Python's built-in secondary data structures and the `csv` and `json` modules."
   ]
  },
  {
   "cell_type": "markdown",
   "metadata": {
    "id": "flH1i-eAc31l"
   },
   "source": [
    "## Data Files\n",
    "\n",
    "We'll be working with two data files in this section.\n",
    "- `example.csv` [[GitHub](https://raw.githubusercontent.com/kwaldenphd/python-structured-data/main/data/exampleWithHeader.csv), [Google Drive](https://drive.google.com/file/d/1xDV8MleB7wX5Df3wvnsXo6ZswtdEZ05O/view?usp=drive_link)]\n",
    "- `example.json` [[GitHub](https://raw.githubusercontent.com/kwaldenphd/python-structured-data/main/data/example.json), [Google Drive](https://drive.google.com/file/d/1BtWcLGcuJrNNYLXxarYfjh_l0uM59D3i/view?usp=drive_link)]"
   ]
  },
  {
   "cell_type": "markdown",
   "metadata": {
    "id": "-ccoz6BSWdH6"
   },
   "source": [
    "## Without Pandas"
   ]
  },
  {
   "cell_type": "markdown",
   "metadata": {
    "id": "J6R9CLN3XqmW"
   },
   "source": [
    "### `csv`\n",
    "\n",
    "The `csv` module allows us to create a `reader` object that iterates over lines in a `.csv` file. We can use it to read or load an existing `.csv` file into Python."
   ]
  },
  {
   "cell_type": "code",
   "execution_count": null,
   "metadata": {
    "id": "C3n7zcEcUGvz"
   },
   "outputs": [],
   "source": [
    "# loading delimited data as list of lists\n",
    "import csv # import statement\n",
    "file = open('example.csv') # open file\n",
    "reader = csv.reader(file) # create reader object\n",
    "data = list(reader) # create list of lists\n",
    "print(data) # show output"
   ]
  },
  {
   "cell_type": "code",
   "execution_count": null,
   "metadata": {
    "id": "6dNjY4Y_Wfkz"
   },
   "outputs": [],
   "source": [
    "# if we wanted to combine those steps\n",
    "import csv # import statement\n",
    "data = list(csv.reader(open('example.csv'))) # open file, create reader object, convert to list\n",
    "print(data) # show output"
   ]
  },
  {
   "cell_type": "code",
   "execution_count": null,
   "metadata": {
    "id": "uFNmyJfIWlx7"
   },
   "outputs": [],
   "source": [
    "# loading delimited data as dictionary\n",
    "import csv # import statement\n",
    "file = open('example.csv') # open file\n",
    "dictReader = csv.DictReader(file) # DictReader object\n",
    "data = list(dictReader) # convert DictReader to list of dictionaries\n",
    "print(data) # show output"
   ]
  },
  {
   "cell_type": "code",
   "execution_count": null,
   "metadata": {
    "id": "lQVqf5_AWnMc"
   },
   "outputs": [],
   "source": [
    "# if we wanted to combine those steps\n",
    "import csv # import statement\n",
    "data = list(csv.DictReader(open('example.csv'))) # open file, create DictReader object, convert to list of dictionaries\n",
    "print(data) # show output"
   ]
  },
  {
   "cell_type": "markdown",
   "metadata": {
    "id": "IeLjUyfFWpuh"
   },
   "source": [
    "### `JSON`\n",
    "\n",
    "We can read JSON into Python using the `json` module, which includes a few key functions for loading JSON data into Python:\n",
    "- `json.loads()` takes a single string of JSON and loads it as a Python value\n",
    "- `json.load()` takes a JSON file (or file-like object) and loads it as a Python value\n",
    "- `json.dumps()` takes a Python value and transforms it to a JSON object.\n",
    "\n",
    "Values stored in JSON format must be one of the following data types:\n",
    "- string\n",
    "- number\n",
    "- object (JSON object)\n",
    "- array\n",
    "- boolean\n",
    "- null\n",
    "\n",
    "Translation table for how Python's `json` module interprets or renders these data types:\n",
    "\n",
    "JSON | Python\n",
    "--- | ---\n",
    "object | dict\n",
    "array | list\n",
    "string | str\n",
    "number (int) | int\n",
    "number (real) | float\n",
    "true | True\n",
    "false | False\n",
    "null | None\n",
    "\n",
    "To translate a string of JSON data into a Python value, we pass it to the `loads()` function contained in the `json` module."
   ]
  },
  {
   "cell_type": "code",
   "execution_count": null,
   "metadata": {
    "id": "jYd3gqD2Wxuj"
   },
   "outputs": [],
   "source": [
    "import json # import statement\n",
    "jString = '{\"name\": \"Zophie\", \"isCat\": true, \"miceCaught\": 0, \"felineIQ\": null}' # string of JSON data\n",
    "data = json.loads(jString) # load JSON data as Python value\n",
    "print(data) # show output"
   ]
  },
  {
   "cell_type": "markdown",
   "metadata": {
    "id": "CbttOc3PWygk"
   },
   "source": [
    "When loading a JSON file (or file-like object), we would need to use the `json.load()` argument."
   ]
  },
  {
   "cell_type": "code",
   "execution_count": null,
   "metadata": {
    "id": "YFjs4HceWz69"
   },
   "outputs": [],
   "source": [
    "import json # import statement\n",
    "file = open(\"example.json\") # open file\n",
    "data = json.load(file) # parse as JSON\n",
    "print(data) # show output"
   ]
  },
  {
   "cell_type": "markdown",
   "metadata": {
    "id": "kRq-FybQWgvX"
   },
   "source": [
    "### Additional Resources\n",
    "\n",
    "For more on using the `csv` module and this workflow:\n",
    "- [Elements of Computing I lab notes](https://github.com/kwaldenphd/python-structured-data/tree/main#read)\n",
    "\n",
    "For more on using the `json` module and this workflow:\n",
    "- [Elements of Computing I lab notes](https://github.com/kwaldenphd/python-structured-data/tree/main#javascript-object-notation)\n",
    "\n",
    "If you're feeling fuzzy on file methods:\n",
    "- [Elements of Computing I lab notes](https://github.com/kwaldenphd/python-structured-data/tree/main#overview)"
   ]
  },
  {
   "cell_type": "markdown",
   "metadata": {
    "id": "rkOU2wUpW695"
   },
   "source": [
    "## With Pandas\n",
    "\n",
    "<p align=\"center\"><img src=\"https://github.com/kwaldenphd/pandas-intro/blob/main/images/series_df_diagram.png?raw=true\" width=\"1000\"></p>\n",
    "\n",
    "`pandas` has two main data structures: `Series` and `DataFrame`.\n",
    "- \"A `Series` is a one-dimensional, array-like object containing a sequence of values...and an associated array of data labels, called its index\" (McKinney, 126)\n",
    "- A `DataFrame` includes a tabular data structure \"and contains an ordered collection of columns, each of which can be a different value type\" (McKinney, 130)."
   ]
  },
  {
   "cell_type": "markdown",
   "metadata": {
    "id": "-Z2XhhGLXku3"
   },
   "source": [
    "### Delimited file -> `DataFrame`\n",
    "\n",
    "Loading a delimited file as a DataFrame is fairly straightforward."
   ]
  },
  {
   "cell_type": "code",
   "execution_count": null,
   "metadata": {
    "id": "dkRRb_bZXFxL"
   },
   "outputs": [],
   "source": [
    "import pandas as pd # import statement\n",
    "df = pd.read_csv(\"example.csv\") # load file, create dataframe\n",
    "print(df) # show output"
   ]
  },
  {
   "cell_type": "markdown",
   "metadata": {
    "id": "fabe_I6mXHoM"
   },
   "source": [
    "#### Additional Resources\n",
    "\n",
    "`.read_csv()` can include a number of other arguments or parameters to handle different data loading challenges, for example other delimiter characters, escape characters, and data type conversion. For more on parsing delimited data in `Pandas`:\n",
    "- [Pandas documentation](https://pandas.pydata.org/docs/user_guide/io.html)\n",
    "\n",
    "The `read_` prefix can be used with other structured data file formats. For more on `Pandas` and file I/O:\n",
    "- [Pandas documentation](https://pandas.pydata.org/docs/user_guide/io.html)"
   ]
  },
  {
   "cell_type": "markdown",
   "metadata": {
    "id": "mmCnEeO_XxLA"
   },
   "source": [
    "### `Pandas` & `JSON`\n",
    "\n",
    "Since a `DataFrame` is a flat two-dimensional structure, highly-nested JSON can present a challenge.\n",
    "\n",
    "Pandas includes a few JSON-specific functions. Documentation links are included below.\n",
    "- [Reading JSON](https://pandas.pydata.org/docs/user_guide/io.html#reading-json)\n",
    "- [.read_json()](https://pandas.pydata.org/docs/reference/api/pandas.read_json.html)\n",
    "- [.json_normalize()](https://pandas.pydata.org/docs/reference/api/pandas.json_normalize.html#pandas.json_normalize)\n",
    "\n",
    "We'll come back to these functions when we start working with web API returns."
   ]
  },
  {
   "cell_type": "markdown",
   "metadata": {
    "id": "V-_BAglaX1A6"
   },
   "source": [
    "## Application"
   ]
  },
  {
   "cell_type": "markdown",
   "metadata": {
    "id": "v964nTE-X5fF"
   },
   "source": [
    "### Question 1\n",
    "\n",
    "\n",
    "**Q1A: Navigate to an open data portal and download a `.csv` file.**\n",
    "\n",
    "A few places to start:\n",
    "- [Data.gov](https://www.data.gov/)\n",
    "- [City of Chicago Data Portal](https://data.cityofchicago.org/)\n",
    "- [City of South Bend Open Data](https://data-southbend.opendata.arcgis.com/)\n",
    "\n",
    "These open data portals are catalogs of datasets- you will need to explore the websites to identify and then download a specific dataset.\n",
    "\n",
    "Open the data in a spreadsheet program and/or text editor.\n",
    "- What do you see?\n",
    "- How can we start to make sense of the data based on available documentation?\n",
    "\n",
    "**Q1B: Write three programs that load the data in Python using the different approaches highlighted in the previous section of the lab:**\n",
    "- Lists and sublists\n",
    "- Dictionaries\n",
    "- Pandas `DataFrame`\n",
    "\n",
    "Answer to this question includes program + comments that document process and explain your code.\n",
    "\n",
    "**Q1C: What challenges did you encounter? How did you address or solve them?**"
   ]
  },
  {
   "cell_type": "markdown",
   "metadata": {
    "id": "ss8lvIjEX7GQ"
   },
   "source": [
    "### Question 2\n",
    "\n",
    "**Q2A: Navigate to an open data portal and download a JSON file.**\n",
    "\n",
    "Some options that can get you started:\n",
    "- [Data.gov](https://www.data.gov/)\n",
    "- [City of Chicago Data Portal](https://data.cityofchicago.org/)\n",
    "- [City of South Bend Open Data](https://data-southbend.opendata.arcgis.com/)\n",
    "\n",
    "- *These open data portals are catalogs of datasets- you will need to explore the websites to identify and then download a specific dataset.*\n",
    "\n",
    "**Q2B: Open the data in a spreadsheet program and/or text editor. Describe what are you seeing. How can we start to make sense of this data? What documentation is available?**\n",
    "\n",
    "**Q2C: Write a program that loads the JSON data into Python, using the workflow shown in the previous section of the lab.**\n",
    "- *You're welcome to explore creating a Pandas `DataFrame`, but that's not required.*\n",
    "\n",
    "- *Answer to this question includes program + comments that document process and explain your code.*\n",
    "\n",
    "**Q3C: What challenges did you encounter? How did you address or solve them?**"
   ]
  }
 ],
 "metadata": {
  "colab": {
   "authorship_tag": "ABX9TyPggwV9f0zqUK+9sp9dQcaY",
   "provenance": [],
   "toc_visible": true
  },
  "kernelspec": {
   "display_name": "Python 3",
   "name": "python3"
  },
  "language_info": {
   "name": "python"
  }
 },
 "nbformat": 4,
 "nbformat_minor": 0
}