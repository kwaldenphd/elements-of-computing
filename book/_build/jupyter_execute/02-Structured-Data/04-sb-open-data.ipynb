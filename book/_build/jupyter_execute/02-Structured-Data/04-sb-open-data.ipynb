{
 "cells": [
  {
   "cell_type": "markdown",
   "metadata": {
    "id": "Oc6b2xTnZpLU"
   },
   "source": [
    "# City of South Bend Open Data Portal\n",
    "\n",
    "<p align=\"center\"><a href=\"https://github.com/kwaldenphd/elements-of-computing/blob/main/book/images/api1.jpg?raw=true\"><img  width=1000 class=\"aligncenter\" src=\"https://github.com/kwaldenphd/elements-of-computing/blob/main/book/images/api1.jpg?raw=true\" /></a></p>\n",
    "\n",
    "<p align=\"center\"><a href=\"https://github.com/kwaldenphd/elements-of-computing/blob/main/book/images/api2.jpg?raw=true\"><img  width=1000 class=\"aligncenter\" src=\"https://github.com/kwaldenphd/elements-of-computing/blob/main/book/images/api2.jpg?raw=true\" /></a></p>\n",
    "\n",
    "Head to the [City of South Bend's Open Data Portal](https://data-southbend.opendata.arcgis.com/). Identify a specific dataset you want to load in Python.\n",
    "\n",
    "<p align=\"center\"><a href=\"https://github.com/kwaldenphd/elements-of-computing/blob/main/book/images/api3.jpg?raw=true\"><img  width=1000 class=\"aligncenter\" src=\"https://github.com/kwaldenphd/elements-of-computing/blob/main/book/images/api3.jpg?raw=true\" /></a></p>\n",
    "\n",
    "I'm working with the raw data from the [City's 2022 Digital Literacy Survey](https://data-southbend.opendata.arcgis.com/datasets/SouthBend::2022-digital-literacy-survey-raw-data/about).\n",
    "\n",
    "<p align=\"center\"><a href=\"https://github.com/kwaldenphd/elements-of-computing/blob/main/book/images/api4.jpg?raw=true\"><img  width=1000 class=\"aligncenter\" src=\"https://github.com/kwaldenphd/elements-of-computing/blob/main/book/images/api4.jpg?raw=true\" /></a></p>\n",
    "\n",
    "We could download this data as a `CSV` file, but let's instead explore the API options.\n",
    "\n",
    "<p align=\"center\"><a href=\"https://github.com/kwaldenphd/elements-of-computing/blob/main/book/images/api5.jpg?raw=true\"><img  width=350 class=\"aligncenter\" src=\"https://github.com/kwaldenphd/elements-of-computing/blob/main/book/images/api5.jpg?raw=true\" /></a></p>\n",
    "\n",
    "<p align=\"center\"><a href=\"https://github.com/kwaldenphd/elements-of-computing/blob/main/book/images/api6.jpg?raw=true\"><img  width=350 class=\"aligncenter\" src=\"https://github.com/kwaldenphd/elements-of-computing/blob/main/book/images/api6.jpg?raw=true\" /></a></p>\n",
    "\n",
    "Spend some time exploring the options on this page. As you customize the query, notice how the `Query URL` changes. We can think about the `URL` as the data's \"address.\" Modifying what data we want requires modifying the address.\n",
    "\n",
    "Once you have finalized your query (what parts of this data you want to work with in Python), we'll use the `requests` and `json` modules to load the data.\n"
   ]
  },
  {
   "cell_type": "code",
   "execution_count": null,
   "metadata": {
    "id": "opUQN--jZ8TU"
   },
   "outputs": [],
   "source": [
    "import requests, json # import statements\n",
    "r = requests.get(\"https://opendata.arcgis.com/datasets/c97085b608604f5c8c07487c24dcaff4_0/FeatureServer/0/query?where=1%3D1&outFields=*&outSR=4326&f=json\") # request data from url\n",
    "data = r.json() # parse response as JSON object\n",
    "print(data) # show output"
   ]
  },
  {
   "cell_type": "markdown",
   "metadata": {
    "id": "ChDTL76Najlx"
   },
   "source": [
    "## Exploring the API Return"
   ]
  },
  {
   "cell_type": "markdown",
   "metadata": {
    "id": "ZCL2QFI8Z9aI"
   },
   "source": [
    "We can use Python dictionary syntax to make sense of what's in this output."
   ]
  },
  {
   "cell_type": "code",
   "execution_count": null,
   "metadata": {
    "id": "OHDK9O_FZ-Y_"
   },
   "outputs": [],
   "source": [
    "# show top-level keys\n",
    "print(data.keys())"
   ]
  },
  {
   "cell_type": "markdown",
   "metadata": {
    "id": "z81kBhtuZ_Xa"
   },
   "source": [
    "At first glance, everything up through the `fields` key looks like technical information about the API return. `fields` doesn't have the survey responses, but it does have important metadata about the survey data.\n",
    "\n",
    "Let's start by creating a `DataFrame` with this `metadata` (data about data)."
   ]
  },
  {
   "cell_type": "code",
   "execution_count": null,
   "metadata": {
    "id": "FXsGkZ2AaAYF"
   },
   "outputs": [],
   "source": [
    "metadata = pd.DataFrame(data['fields']) # create dataframe\n",
    "metadata.to_csv(\"metadata.csv\", index=False) # write metadata to csv file\n",
    "print(metadata) # show output"
   ]
  },
  {
   "cell_type": "markdown",
   "metadata": {
    "id": "PcOBewYoaA_E"
   },
   "source": [
    "The `fields` key includes survey response data, but it's structured as a list of dictionaries. We'll need to use a combination of list and dictionary Python syntax (and some trial and error) here."
   ]
  },
  {
   "cell_type": "code",
   "execution_count": null,
   "metadata": {
    "id": "2nPMcI7JaBwg"
   },
   "outputs": [],
   "source": [
    "print(type(data['features'])) # shows us data type for the value associated with the features key"
   ]
  },
  {
   "cell_type": "code",
   "execution_count": null,
   "metadata": {
    "id": "gsdQ348raCui"
   },
   "outputs": [],
   "source": [
    "response = data['features'][0] # selects the first response\n",
    "print(type(response)) # show response data type"
   ]
  },
  {
   "cell_type": "code",
   "execution_count": null,
   "metadata": {
    "id": "ea3u394IaE-W"
   },
   "outputs": [],
   "source": [
    "print(response.keys()) # shows keys for single response"
   ]
  },
  {
   "cell_type": "code",
   "execution_count": null,
   "metadata": {
    "id": "zOl-WXiYaJ9a"
   },
   "outputs": [],
   "source": [
    "print(type(response['attributes'])) # show data type for attributes value"
   ]
  },
  {
   "cell_type": "code",
   "execution_count": null,
   "metadata": {
    "id": "OKDKVn5jaMHt"
   },
   "outputs": [],
   "source": [
    "print(response['attributes'].keys()) # gets value for attributes key, shows those keys"
   ]
  },
  {
   "cell_type": "markdown",
   "metadata": {
    "id": "dmql-DizaM-N"
   },
   "source": [
    "That's starting to look like survey results. We could use another print statement to confirm."
   ]
  },
  {
   "cell_type": "code",
   "execution_count": null,
   "metadata": {
    "id": "OTBFxpFkaOBn"
   },
   "outputs": [],
   "source": [
    "for key, value in response['attributes'].items(): # iterate over dictionary items\n",
    "  print(key, value) # show key and value"
   ]
  },
  {
   "cell_type": "markdown",
   "metadata": {
    "id": "FjU33BasaoHA"
   },
   "source": [
    "## Creating a `DataFrame`"
   ]
  },
  {
   "cell_type": "markdown",
   "metadata": {
    "id": "bM8CW45GaPBg"
   },
   "source": [
    "Now that we understand how the API return data is structured, we can create a `DataFrame` with the survey data. We'll first need a list with the survey response dictionaries."
   ]
  },
  {
   "cell_type": "code",
   "execution_count": null,
   "metadata": {
    "id": "v2mfGbGRaQSR"
   },
   "outputs": [],
   "source": [
    "import pandas as pd # import statement\n",
    "\n",
    "surveyData = [] # empty list for responses\n",
    "\n",
    "for d in data['features']: # iterate over list of dictionaries\n",
    "  surveyData.append(d['attributes']) # isolate value and append to list\n",
    "\n",
    "df = pd.DataFrame(surveyData) # create df\n",
    "print(df) # show output"
   ]
  },
  {
   "cell_type": "markdown",
   "metadata": {
    "id": "v0sel1c9aR3X"
   },
   "source": [
    "Now, there's more we might want to do with this `DataFrame` (rename columns, remove unneeded columns, perform other kinds of calculations, etc). But this gets us started!\n",
    "\n",
    "To recap what we just did:\n",
    "- Customize query URL\n",
    "- Load response in Python\n",
    "- Parse the data structure to isolate the data we want\n",
    "- Store that data as a Pandas `DataFrame`\n"
   ]
  },
  {
   "cell_type": "markdown",
   "metadata": {
    "id": "3tihpcDgaTcA"
   },
   "source": [
    "## Application\n",
    "\n",
    "**Q3A: Select another open civic dataset to use for an API call.**\n",
    "\n",
    "You're welcome to work with the same dataset you used for Q1 or Q2 (as long as there is an API option).\n",
    "\n",
    "But if you want to flex you API muscles, try a different open data portal to learn a new interface and data structure! Lots to choose from, but Chicago and NYC are good places to start.\n",
    "- [Chicago Data Portal](https://data.cityofchicago.org/)\n",
    "  * [Documentation](https://dev.socrata.com/docs/endpoints.html)\n",
    "- [NYC Open Data](https://opendata.cityofnewyork.us/)\n",
    "  * [Documentation](https://dev.socrata.com/docs/endpoints.html)\n",
    "\n",
    "Remember open data portals are catalogs of datasets- you will need to explore the websites to identify and then download a specific dataset (that has an API option).\n",
    "\n",
    "**Q3B: What kinds of information are available in the documentation? How does that material help us start to make sense of this data?**\n",
    "\n",
    "**Q3C: Write a program that stores the API return in Python as a Pandas `DataFrame`, using the workflows covered in this lab.**\n",
    "\n",
    "Answer to this question includes program + comments that document process and explain your code.\n",
    "\n",
    "**Q3D: What challenges did you encounter? How did you address or solve them?**"
   ]
  }
 ],
 "metadata": {
  "colab": {
   "authorship_tag": "ABX9TyO6V7Ej5OGqWdp07/LDYkG0",
   "provenance": [],
   "toc_visible": true
  },
  "kernelspec": {
   "display_name": "Python 3",
   "name": "python3"
  },
  "language_info": {
   "name": "python"
  }
 },
 "nbformat": 4,
 "nbformat_minor": 0
}