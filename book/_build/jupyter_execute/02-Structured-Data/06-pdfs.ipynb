{
 "cells": [
  {
   "cell_type": "markdown",
   "metadata": {
    "id": "Oc6b2xTnZpLU"
   },
   "source": [
    "# Working With Documents\n",
    "\n",
    "If you took Elements of Computing I with Prof. Walden, you had some exposure to how we can start to work with unstructured text, looking at things like term relationships, frequency, etc. Web scraping is a great workflow for information that is online in web pages. But what about text information contained in documents?\n",
    "\n",
    "Enter Optical Character Recognition, or OCR.\n",
    "\n",
    "\"Optical character recognition (OCR) is sometimes referred to as text recognition. An OCR program extracts and repurposes data from scanned documents, camera images and image-only pdfs. OCR software singles out letters on the image, puts them into words and then puts the words into sentences, thus enabling access to and editing of the original content...OCR systems use a combination of hardware and software to convert physical, printed documents into machine-readable text\" (IBM Cloud Education, \"[What is Optical Character Recognition?](https://www.ibm.com/blog/optical-character-recognition/)\", 5 January 2022)\n",
    "\n",
    "OCR is an example of computer vision in action. A full exploration of OCR or computer vision is outside the scope of this course. We're going to focus on some Python workflows for extracting text and data from PDF documents that already contain text.\n",
    "- [Link to a (messy) Jupyter Notebook that walks through some OCR foundations](https://drive.google.com/file/d/1WbGTAvs1WCGrC5XZeADyhminFn8QMEHT/view?usp=sharing)\n",
    "\n",
    "We're going to be using a couple Python libraries built for extracting text and tables from PDF files.\n",
    "- [`pypdf`](https://pypdf.readthedocs.io/en/stable/index.html)\n",
    "- [`tabula-py`](https://tabula-py.readthedocs.io/en/latest/)\n",
    "\n",
    "And we'll be testing out these workflows on a PDF file from the [City of South Bend's Document Search Center](http://docs.southbendin.gov/WebLink/Welcome.aspx?cr=1). I'm looking at the [Inclusive Procurement & Contracting Board's 2020 report](http://docs.southbendin.gov/WebLink/0/edoc/335114/2020%20Annual%20Inclusion%20Contracting%20Procurement%20Report%203-27-21_.pdf).\n",
    "- *Note: I renamed this document `pdf20.pdf` for the next section of the lab.*\n",
    "\n"
   ]
  },
  {
   "cell_type": "markdown",
   "metadata": {
    "id": "kT1doEp1cZDO"
   },
   "source": [
    "## Python Workflows"
   ]
  },
  {
   "cell_type": "markdown",
   "metadata": {
    "id": "5Bt7E8bncbF7"
   },
   "source": [
    "We'll start by installing and importing these packages."
   ]
  },
  {
   "cell_type": "code",
   "execution_count": null,
   "metadata": {
    "id": "-hUpFUMncbvW"
   },
   "outputs": [],
   "source": [
    "!pip install pypdf tabula-py"
   ]
  },
  {
   "cell_type": "code",
   "execution_count": null,
   "metadata": {
    "id": "jcoLIIMEccZs"
   },
   "outputs": [],
   "source": [
    "# import statements\n",
    "from pypdf importPdfReader\n",
    "import tabula"
   ]
  },
  {
   "cell_type": "markdown",
   "metadata": {
    "id": "_KbNStTUcdQV"
   },
   "source": [
    "Next, we'll use `PdfReader` to extract text."
   ]
  },
  {
   "cell_type": "code",
   "execution_count": null,
   "metadata": {
    "id": "AYewSNroceMR"
   },
   "outputs": [],
   "source": [
    "reader = PdfReader(\"pdf20.pdf\") # load renamed file as reader object\n",
    "page = reader.pages[2] # isolate single page\n",
    "print(page.extract_text()) # show extracted text output"
   ]
  },
  {
   "cell_type": "markdown",
   "metadata": {
    "id": "5eZSz1mSce5U"
   },
   "source": [
    "To iterate over all pages in the document and write the contents to a `.txt` file:"
   ]
  },
  {
   "cell_type": "code",
   "execution_count": null,
   "metadata": {
    "id": "O_N3aGdFcf9_"
   },
   "outputs": [],
   "source": [
    "with open(\"output.txt\", \"a\") as f: # create file\n",
    "  for p in reader.pages: # iterate over pages\n",
    "    f.write(p.extract_text()) # extract text and write to file"
   ]
  },
  {
   "cell_type": "markdown",
   "metadata": {
    "id": "Li0d9ddycgwg"
   },
   "source": [
    "Folks may be wondering how we might handle tables or tabular data in a PDF file. We can use Tabula's `.read_pdf()` function to extract all tables in our document as Pandas `DataFrames`."
   ]
  },
  {
   "cell_type": "code",
   "execution_count": null,
   "metadata": {
    "id": "KWVtAlyDchn8"
   },
   "outputs": [],
   "source": [
    "dfs = tabula.read_pdf(\"pdf20.pdf\", pages=\"all\") # load file, isolate dataframes\n",
    "dfs[5].to_csv(\"output.csv\", index=False) # write single dataframe to CSV file\n",
    "dfs[5] # show single dataframe"
   ]
  },
  {
   "cell_type": "markdown",
   "metadata": {
    "id": "vCtVMpY0ciej"
   },
   "source": [
    "There's more we probably want to do with output, but this gets us started."
   ]
  },
  {
   "cell_type": "markdown",
   "metadata": {
    "id": "wvrQpz7ecjBp"
   },
   "source": [
    "## Application\n",
    "\n",
    "**Q5A: Apply this workflow to another document from the [City of South Bend Document Search Center](http://docs.southbendin.gov/WebLink/Welcome.aspx?cr=1).**\n",
    "\n",
    "- *Note- you'll need to find a document that already includes text.*\n",
    "\n",
    "**Q5B: Briefly skim the document. What kinds of information does it contain?**\n",
    "\n",
    "**Q5C: Write a Python program that extracts text from the document and writes the output to a `.txt` file, using the workflows covered in this lab.**\n",
    "\n",
    "- *Answer to this question includes program + comments that document process and explain your code.*\n",
    "\n",
    "**Q5D: Write a Python program that extracts tables from the document, and write one of these tables to a `.csv` file, using the Pandas workflow covered in this lab.**\n",
    "\n",
    "- *Answer to this question includes program + comments that document process and explain your code.*\n",
    "\n",
    "**Q5D: What challenges did you encounter? How did you address or solve them?**"
   ]
  }
 ],
 "metadata": {
  "colab": {
   "authorship_tag": "ABX9TyNJJWz3hEjkoPe+V/m3E71M",
   "provenance": [],
   "toc_visible": true
  },
  "kernelspec": {
   "display_name": "Python 3",
   "name": "python3"
  },
  "language_info": {
   "name": "python"
  }
 },
 "nbformat": 4,
 "nbformat_minor": 0
}