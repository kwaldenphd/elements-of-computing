{
  "nbformat": 4,
  "nbformat_minor": 0,
  "metadata": {
    "colab": {
      "provenance": [],
      "toc_visible": true
    },
    "kernelspec": {
      "name": "python3",
      "display_name": "Python 3"
    },
    "language_info": {
      "name": "python"
    }
  },
  "cells": [
    {
      "cell_type": "markdown",
      "source": [
        "# From SQLite to Python\n",
        "\n",
        "Imagine we want to work with a relational database from within Python.\n",
        "\n",
        "We could work in SQL using a combination of queries and joins to create a new table with specific fields we want to work with, then export that table as a `.csv` file and load it into Python. But we also have the option to interact with a SQL-based relational database from within Python, using a couple of key packages.\n"
      ],
      "metadata": {
        "id": "zlxluS5paj5M"
      }
    },
    {
      "cell_type": "markdown",
      "source": [
        "## Establishing a Connection\n",
        "\n",
        "The `sqlite3` module \"provides a SQL interface\" from within Python ([`sqlite3` documentation](https://docs.python.org/3/library/sqlite3.html)), letting us establish a connection with a SQL database from within Python and then we can interact with the database using modified SQL commands.\n",
        "\n",
        "The basic steps for `sqlite3`:\n",
        "- Install and import `sqlite3` module\n",
        "- Establish a `connection` with the database\n",
        "- Create a `cursor` object\n",
        "- Use the `execute()` method in combination with the `cursor` object to execute SQL queries\n",
        "- Close the connection using `close()` when done working with the database\n",
        "\n",
        "To express this programmatically in Python:"
      ],
      "metadata": {
        "id": "t3ZuUwbmalvq"
      }
    },
    {
      "cell_type": "code",
      "source": [
        "# install sqlite3 module\n",
        "!pip install sqlite3"
      ],
      "metadata": {
        "id": "IoGgBAUTzrcN"
      },
      "execution_count": null,
      "outputs": []
    },
    {
      "cell_type": "code",
      "source": [
        "# import sqlite3 module\n",
        "import sqlite3\n",
        "\n",
        "# establish connection to database\n",
        "connection = sqlite3.connect(\"data.db\")\n",
        "\n",
        "# creates the cursor object\n",
        "cursor = connection.cursor()\n",
        "\n",
        "# closes the connection\n",
        "cursor.close()"
      ],
      "metadata": {
        "id": "hmVl0U3_1T-9"
      },
      "execution_count": null,
      "outputs": []
    },
    {
      "cell_type": "markdown",
      "source": [
        "## Modifying SQL Query Syntax\n",
        "\n",
        "Now we can use our `cursor` object to interact with the database using modified SQL syntax. The basic template for `sqlite3` syntax:\n",
        "\n",
        "```Python\n",
        "cursor.execute(\"SQL QUERY/COMMANDS GO HERE\")\n",
        "```\n",
        "\n",
        "ALTERNATE WORKFLOW:\n",
        "\n",
        "```Python\n",
        "sql_command = \"\"\"SQL QUERY/COMMANDS GO HERE;\"\"\"\n",
        "\n",
        "cursor.execute(sql_command)\n",
        "```\n",
        "\n",
        "`cursor.execute()` followed by the SQL command (in quotation marks) lets us use SQL statements on our database from within Python.\n",
        "  * Alternatively, saving the SQL query as a string (with three double quotation marks and a semi colon) and running `cursor.execute()` on the string variable.\n",
        "\n",
        "<blockquote>Check out the <a href = \"https://docs.python.org/3/library/sqlite3.html\"><code>sqlite3</code> documentation</a> to learn more about the module's functionality and syntax.</blockquote>\n",
        "\n",
        "For example, let's say we wanted to select the unique player ids from the `Player_Birthplaces` table in our database. Remember the original SQL syntax for this query:\n",
        "\n",
        "```SQL\n",
        "-- select unique values from table field\n",
        "SELECT DISTINCT playerID\n",
        "FROM players;\n",
        "```\n",
        "\n",
        "The modified syntax for this query in Python using `sqlite3`:\n"
      ],
      "metadata": {
        "id": "yFqN8rRRaoag"
      }
    },
    {
      "cell_type": "code",
      "source": [
        "# import sqlite3 module\n",
        "import sqlite3\n",
        "\n",
        "# establish connection to database\n",
        "connection = sqlite3.connect(\"data.db\")\n",
        "\n",
        "# creates the cursor object\n",
        "cursor = connection.cursor()\n",
        "\n",
        "# creates a new variable player ids\n",
        "player_ids = cursor.execute(\"SELECT DISTINCT playerID FROM players\")\n",
        "\n",
        "# get the query return\n",
        "player_id_results = cursor.fetchall()\n",
        "\n",
        "# print the list of unique player ids now contained in the player_id_results variable\n",
        "print(player_id_results)"
      ],
      "metadata": {
        "id": "WBa1ZQW41bB6"
      },
      "execution_count": null,
      "outputs": []
    },
    {
      "cell_type": "markdown",
      "source": [
        "ALTERNATE WORKFLOW:"
      ],
      "metadata": {
        "id": "aGL5tvrV0GGE"
      }
    },
    {
      "cell_type": "code",
      "source": [
        "# import sqlite3 module\n",
        "import sqlite3\n",
        "\n",
        "# establish connection to database\n",
        "connection = sqlite3.connect(\"data.db\")\n",
        "\n",
        "# creates the cursor object\n",
        "cursor = connection.cursor()\n",
        "\n",
        "# save query as string\n",
        "sql_command = \"\"\"SELECT playerID FROM birthplaces;\"\"\"\n",
        "\n",
        "# creates a new variable player ids\n",
        "player_ids = cursor.execute(sql_command)\n",
        "\n",
        "# get the query return\n",
        "player_id_results = cursor.fetchall()\n",
        "\n",
        "# print the list of unique player ids now contained in the player_id_results variable\n",
        "print(player_id_results)\n",
        "\n",
        "# closes the connection\n",
        "cursor.close()"
      ],
      "metadata": {
        "id": "EgDCV8uG6YvP"
      },
      "execution_count": null,
      "outputs": []
    },
    {
      "cell_type": "markdown",
      "source": [
        "The `cursor.execute()` function runs the `SELECT DISTINCT` statement. The new `player_ids` variable contains the `playerID` column from the `players` table as a list in Python.\n",
        "\n",
        "Another example using the `WHERE` statement for filtering. The original SQL query:\n",
        "\n",
        "```SQL\n",
        "-- select all values from table where specific condition is met\n",
        "SELECT *\n",
        "FROM locations\n",
        "WHERE country='DO';\n",
        "```\n",
        "\n",
        "This query returns all columns from the `locations` table where data in the `country` field is equal to `DO`. The modified syntax for this query in Python using `sqlite3`:"
      ],
      "metadata": {
        "id": "neSBFUPe1chX"
      }
    },
    {
      "cell_type": "code",
      "source": [
        "# establish connection to database\n",
        "connection = sqlite3.connect(\"data.db\")\n",
        "\n",
        "# creates the cursor object\n",
        "cursor = connection.cursor()\n",
        "\n",
        "# creates a new variable for query results\n",
        "do = cursor.execute(\"SELECT * FROM locations WHERE country='DO'\")\n",
        "\n",
        "# get the query return\n",
        "results = cursor.fetchall()\n",
        "\n",
        "# print the new do_players variable\n",
        "print(results)\n",
        "\n",
        "# closes the connection\n",
        "cursor.close()"
      ],
      "metadata": {
        "id": "s7PD_z4E1dyO"
      },
      "execution_count": null,
      "outputs": []
    },
    {
      "cell_type": "markdown",
      "source": [
        "ALTERNATIVE WORKFLOW"
      ],
      "metadata": {
        "id": "lW0XEWS06bct"
      }
    },
    {
      "cell_type": "code",
      "source": [
        "# import sqlite3 module\n",
        "import sqlite3\n",
        "\n",
        "# establish connection to database\n",
        "connection = sqlite3.connect(\"data.db\")\n",
        "\n",
        "# creates the cursor object\n",
        "cursor = connection.cursor()\n",
        "\n",
        "# save query as string\n",
        "sql_command = \"\"\"SELECT * FROM locations WHERE country='DO';\"\"\"\n",
        "\n",
        "# creates a new variable player ids\n",
        "do = cursor.execute(sql_command)\n",
        "\n",
        "# get the query return\n",
        "results = cursor.fetchall()\n",
        "\n",
        "# print the list of unique player ids now contained in the player_id_results variable\n",
        "print(results)\n",
        "\n",
        "# closes the connection\n",
        "cursor.close()"
      ],
      "metadata": {
        "id": "iQXxYd8O6cm7"
      },
      "execution_count": null,
      "outputs": []
    },
    {
      "cell_type": "markdown",
      "source": [
        "Let's say we wanted to just see a query result and not load it to a new variable. A modified version of the previous example:"
      ],
      "metadata": {
        "id": "lSX8aJOF1e9s"
      }
    },
    {
      "cell_type": "code",
      "source": [
        "# creates a new variable for query results\n",
        "cursor.execute(\"SELECT * FROM locations WHERE country='DO'\")\n",
        "\n",
        "# set a row count variable\n",
        "count = 0\n",
        "\n",
        "# for loop that prints row contents and reassigns count value\n",
        "for row in cursor:\n",
        "  print(row)\n",
        "  count = count + 1\n",
        "\n",
        "# print statement that takes final count value (i.e. the number of rows) and prints that total\n",
        "print(count, 'rows')"
      ],
      "metadata": {
        "id": "XDjI1waJ0n5w"
      },
      "execution_count": null,
      "outputs": []
    },
    {
      "cell_type": "markdown",
      "source": [
        "In this example, the `for` loop iterates over the rows in the database and uses the `count` variable to track how many rows in the database meet the `WHERE` condition.\n",
        "\n"
      ],
      "metadata": {
        "id": "tgET9SHd1iUn"
      }
    },
    {
      "cell_type": "markdown",
      "source": [
        "## Creating a Pandas `DataFrame`\n",
        "\n",
        "The previous section of the lab included sample code for a query that returns all columns from the `locations` table where data in the `country` field is equal to `DO`.\n",
        "\n",
        "In this example, the query results are being stored to the `results` variable as a list with sublists or nested lists. We can use `pd.DataFrame` to create a Pandas `DataFrame` from that list with sublists."
      ],
      "metadata": {
        "id": "rBeg3FOC0vZE"
      }
    },
    {
      "cell_type": "code",
      "source": [
        "# import pandas\n",
        "import pandas as pd\n",
        "\n",
        "# establish connection to database\n",
        "connection = sqlite3.connect(\"data.db\")\n",
        "\n",
        "# creates the cursor object\n",
        "cursor = connection.cursor()\n",
        "\n",
        "# creates a new variable for query results\n",
        "do = cursor.execute(\"SELECT * FROM locations WHERE country='DO'\")\n",
        "\n",
        "# get the query return\n",
        "results = cursor.fetchall()\n",
        "\n",
        "# closes the connection\n",
        "cursor.close()\n",
        "\n",
        "# create dataframe\n",
        "df = pd.DataFrame(results)\n",
        "\n",
        "# show df\n",
        "df"
      ],
      "metadata": {
        "id": "6VawQjUnr9xG"
      },
      "execution_count": null,
      "outputs": []
    },
    {
      "cell_type": "markdown",
      "source": [
        "ALTERNATIVE WORKFLOW:"
      ],
      "metadata": {
        "id": "l4ZN6aY16j8i"
      }
    },
    {
      "cell_type": "code",
      "source": [
        "# import sqlite3 module\n",
        "import sqlite3\n",
        "\n",
        "# establish connection to database\n",
        "connection = sqlite3.connect(\"data.db\")\n",
        "\n",
        "# creates the cursor object\n",
        "cursor = connection.cursor()\n",
        "\n",
        "# save query as string\n",
        "sql_command = \"\"\"SELECT * FROM locations WHERE country='DO';\"\"\"\n",
        "\n",
        "# creates a new variable player ids\n",
        "do = cursor.execute(sql_command)\n",
        "\n",
        "# get the query return\n",
        "results = cursor.fetchall()\n",
        "\n",
        "# closes the connection\n",
        "cursor.close()\n",
        "\n",
        "# create dataframe\n",
        "df = pd.DataFrame(results)\n",
        "\n",
        "# show df\n",
        "df"
      ],
      "metadata": {
        "id": "WZsa1yut6lDR"
      },
      "execution_count": null,
      "outputs": []
    },
    {
      "cell_type": "markdown",
      "source": [
        "From there, a single line of code will save the `DataFrame` as a `.csv` file."
      ],
      "metadata": {
        "id": "T-ll8kwkr-_H"
      }
    },
    {
      "cell_type": "code",
      "source": [
        "# save to csv\n",
        "df.to_csv(\"output.csv\", index=False)"
      ],
      "metadata": {
        "id": "YEZQVHBasAN4"
      },
      "execution_count": null,
      "outputs": []
    },
    {
      "cell_type": "code",
      "source": [
        "# runs query\n",
        "results = cursor.execute(sql_command)\n",
        "\n",
        "# store column names as list\n",
        "cols = [column[0] for column in results.description]\n",
        "\n",
        "# create dataframe with query results and column names\n",
        "df = pd.DataFrame.from_records(data= results.fetchall(), columns=cols)\n",
        "\n",
        "# close connection\n",
        "cursor.close()"
      ],
      "metadata": {
        "id": "iO0M9U9S6oN-"
      },
      "execution_count": null,
      "outputs": []
    },
    {
      "cell_type": "markdown",
      "source": [
        "## Additional Considerations\n",
        "\n",
        "Why would we want to work with a relational database from within Python? The short answer is program performance and memory load. Storing your data in an SQLite database and loading query results into Python requires significantly less memory than storing all the database data in Python. Less stored data = lower memory needs = improved program performance.\n",
        "\n",
        "Interacting with a database from Python can also be a workflow consideration. Imagine your company has data stored in a relational database system (Oracle, AWS, Microsft Access, etc.) and there are specific aggregations or calculations that need to be performed on that data regularly (say, for quarterly or annual reports). Provided the underlying data structure remains largely consistent (this is  true for most proprietary/commercial database systems), you could write a program in Python to automatically generate those aggregations and calculations.\n"
      ],
      "metadata": {
        "id": "RNTl_95Cr11O"
      }
    },
    {
      "cell_type": "markdown",
      "source": [
        "## Application\n",
        "\n",
        "Q6: Take at least 3 of the queries you wrote in previous sections and modify them to run within a Python environment. Include code + comments.\n",
        "- For this question, your program needs to:\n",
        "  * Establish a connection to the database\n",
        "    * `sqlite3.connect()`\n",
        "  * Create the cursor object\n",
        "    * `connection.cursor()`\n",
        "  * Include modified query syntax\n",
        "    * `cursor.execute()`\n",
        "  * Get query return and store to variable\n",
        "    * `cursor.fetchall()`\n",
        "  * Close connection\n",
        "    * `cursor.close()`\n",
        "\n",
        "Q7: For at least one of the Q6 queries, create a Pandas `DataFrame` from the query results and write to a `.csv` file. Include code + comments.\n",
        "- For this question, your program needs to:\n",
        "  * Create the dataframe\n",
        "    * `pd.DataFrame()`\n",
        "  * Save as CSV\n",
        "    * `pd.to_csv()`"
      ],
      "metadata": {
        "id": "mpn62kUqsC78"
      }
    }
  ]
}