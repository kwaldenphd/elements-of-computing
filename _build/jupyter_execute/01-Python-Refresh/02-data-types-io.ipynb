{
 "cells": [
  {
   "cell_type": "markdown",
   "metadata": {
    "id": "vGpc-iwpxyPT"
   },
   "source": [
    "# Data Types & I/O\n",
    "\n",
    "Commonly-used data types (with Python examples) include:\n",
    "\n",
    "<table><tr><th>Name</th><th>Python Syntax</th><th>Example</th><th>Description</th></tr>\n",
    "  <tr><td>String</td><td><code>str()</code><td><code>\"Hello World!\"</code></td><td>String of characters</td></tr>\n",
    "  <tr><td>Integer</td><td><code>int()</code><td><code>7</code></td><td>Whole number</td></tr>\n",
    "  <tr><td>Float</td><td><code>float()</code><td><code>1.5</code></td><td>Decimal number, or number with floating point values</td></tr>\n",
    "  <tr><td>Boolean</td><td><code>bool()</code><td><code>True</code></td><td>Two-state system that typically represents true/false values</td></tr>\n",
    "  <tr><td>Nothing/Null/NoneType</td><td><code>NoneType</code><td><code>None</code></td><td>No value</td></tr>\n",
    "  </table>\n",
    "  \n",
    "For more on data types in Python:\n",
    "- [W3Schools, Python Data Types](https://www.w3schools.com/python/python_datatypes.asp)"
   ]
  },
  {
   "cell_type": "markdown",
   "metadata": {
    "id": "RptVTyKO5iU8"
   },
   "source": [
    "## Numbers\n",
    "\n",
    "An integer is a whole number that does not include any decimal (or fractional) values. A float data type includes decimal (or fractional) values."
   ]
  },
  {
   "cell_type": "code",
   "execution_count": null,
   "metadata": {
    "id": "hDreWYDy5jPQ"
   },
   "outputs": [],
   "source": [
    "# printing an integer\n",
    "print(3)\n",
    "\n",
    "# storing an integer to a variable\n",
    "number = 3\n",
    "\n",
    "# show number variable type\n",
    "print(type(number))\n",
    "\n",
    "# print number variable\n",
    "print(number)"
   ]
  },
  {
   "cell_type": "code",
   "execution_count": null,
   "metadata": {
    "id": "Fu9y9cY65kYP"
   },
   "outputs": [],
   "source": [
    "# printing a decimal or float value\n",
    "print(3.5)\n",
    "\n",
    "# store float value to a variable\n",
    "number = 3.5\n",
    "\n",
    "# show number variable type\n",
    "print(type(number))\n",
    "\n",
    "# print number variable\n",
    "print(number)"
   ]
  },
  {
   "cell_type": "markdown",
   "metadata": {
    "id": "pfFPK4QW5lTI"
   },
   "source": [
    "## Strings\n",
    "\n",
    "A string is a sequence of characters (letters, numbers, symbols, etc.) We can assign strings to a variable (i.e. store them as a variable).\n"
   ]
  },
  {
   "cell_type": "code",
   "execution_count": null,
   "metadata": {
    "colab": {
     "base_uri": "https://localhost:8080/"
    },
    "executionInfo": {
     "elapsed": 124,
     "status": "ok",
     "timestamp": 1672854568931,
     "user": {
      "displayName": "Katherine Walden",
      "userId": "17094108395123900917"
     },
     "user_tz": 300
    },
    "id": "LEMJSreF5mIG",
    "outputId": "3a49852e-0607-4217-8cc3-3117b4ae1dae"
   },
   "outputs": [
    {
     "name": "stdout",
     "output_type": "stream",
     "text": [
      "<class 'str'>\n",
      "Hello world!\n"
     ]
    }
   ],
   "source": [
    "# assign string to variable\n",
    "s = \"Hello world!\"\n",
    "\n",
    "# show variable type\n",
    "print(type(s))\n",
    "\n",
    "# print variable\n",
    "print(s)"
   ]
  },
  {
   "cell_type": "markdown",
   "metadata": {
    "id": "PZ3KNtdDyHMO"
   },
   "source": [
    "## Input & Output (I/O)\n",
    "\n",
    "In programming languages and computing more broadly, `I/O` stands for `Input` and `Output`. Programming languages can take a variety of inputs (user-provided values, data, files, etc) and return outputs in a variety of formats (data stored in memory, output that shows up in the console, newly-created or -modified files, etc).\n",
    "\n",
    "We've already seen `I/O` in action in Python via `print()` statements. One way Python accepts input is via the `input()` function, which accepts a user input and assigns that to a variable.\n",
    "\n",
    "A sample program that asks a user to enter their name:"
   ]
  },
  {
   "cell_type": "code",
   "execution_count": null,
   "metadata": {
    "id": "Q30d6mkC6NX5"
   },
   "outputs": [],
   "source": [
    "# initial prompt\n",
    "print(\"Enter your name: \")\n",
    "\n",
    "# input function\n",
    "name = input()\n",
    "\n",
    "# output statement\n",
    "print(\"Hello, \" + name)"
   ]
  },
  {
   "cell_type": "markdown",
   "metadata": {
    "id": "JFdSzZXt6OJf"
   },
   "source": [
    "We can modify that program to include the initial prompt as part of the `input()` statement.\n"
   ]
  },
  {
   "cell_type": "code",
   "execution_count": null,
   "metadata": {
    "id": "5dpKqP_46PRw"
   },
   "outputs": [],
   "source": [
    "# initial prompt with input function\n",
    "name = input(\"Enter your name: \")\n",
    "\n",
    "# output\n",
    "print(\"Hello, \" + name)"
   ]
  },
  {
   "cell_type": "markdown",
   "metadata": {
    "id": "wbc1kV_66QRU"
   },
   "source": [
    "NOTE: The default data type for a variable created using the `input()` function is a string object.\n",
    "\n",
    "For more background on I/O in Python:\n",
    "- [Elements of Computing I \"Python Intro\" lab](https://github.com/kwaldenphd/python-intro#input--output-io)"
   ]
  }
 ],
 "metadata": {
  "colab": {
   "authorship_tag": "ABX9TyMJBr9UZFZgD9qk9N974+uP",
   "provenance": []
  },
  "kernelspec": {
   "display_name": "Python 3",
   "name": "python3"
  },
  "language_info": {
   "name": "python"
  }
 },
 "nbformat": 4,
 "nbformat_minor": 0
}